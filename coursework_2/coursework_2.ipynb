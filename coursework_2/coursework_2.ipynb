{
  "nbformat": 4,
  "nbformat_minor": 0,
  "metadata": {
    "kernelspec": {
      "name": "python3",
      "display_name": "Python 3"
    },
    "language_info": {
      "codemirror_mode": {
        "name": "ipython",
        "version": 3
      },
      "file_extension": ".py",
      "mimetype": "text/x-python",
      "name": "python",
      "nbconvert_exporter": "python",
      "pygments_lexer": "ipython3",
      "version": "3.6.9-final"
    },
    "colab": {
      "name": "coursework_2.ipynb",
      "provenance": []
    },
    "accelerator": "GPU",
    "widgets": {
      "application/vnd.jupyter.widget-state+json": {
        "6853b651b8294ec7b66383bf58541f8a": {
          "model_module": "@jupyter-widgets/controls",
          "model_name": "HBoxModel",
          "state": {
            "_view_name": "HBoxView",
            "_dom_classes": [],
            "_model_name": "HBoxModel",
            "_view_module": "@jupyter-widgets/controls",
            "_model_module_version": "1.5.0",
            "_view_count": null,
            "_view_module_version": "1.5.0",
            "box_style": "",
            "layout": "IPY_MODEL_8a141187bacc4ae7970da9306e99e19e",
            "_model_module": "@jupyter-widgets/controls",
            "children": [
              "IPY_MODEL_c2bc1565b64b4168b6206a32832141f1",
              "IPY_MODEL_c21bbf6b74fa413bacfbc2d30e6f04c6"
            ]
          }
        },
        "8a141187bacc4ae7970da9306e99e19e": {
          "model_module": "@jupyter-widgets/base",
          "model_name": "LayoutModel",
          "state": {
            "_view_name": "LayoutView",
            "grid_template_rows": null,
            "right": null,
            "justify_content": null,
            "_view_module": "@jupyter-widgets/base",
            "overflow": null,
            "_model_module_version": "1.2.0",
            "_view_count": null,
            "flex_flow": null,
            "width": null,
            "min_width": null,
            "border": null,
            "align_items": null,
            "bottom": null,
            "_model_module": "@jupyter-widgets/base",
            "top": null,
            "grid_column": null,
            "overflow_y": null,
            "overflow_x": null,
            "grid_auto_flow": null,
            "grid_area": null,
            "grid_template_columns": null,
            "flex": null,
            "_model_name": "LayoutModel",
            "justify_items": null,
            "grid_row": null,
            "max_height": null,
            "align_content": null,
            "visibility": null,
            "align_self": null,
            "height": null,
            "min_height": null,
            "padding": null,
            "grid_auto_rows": null,
            "grid_gap": null,
            "max_width": null,
            "order": null,
            "_view_module_version": "1.2.0",
            "grid_template_areas": null,
            "object_position": null,
            "object_fit": null,
            "grid_auto_columns": null,
            "margin": null,
            "display": null,
            "left": null
          }
        },
        "c2bc1565b64b4168b6206a32832141f1": {
          "model_module": "@jupyter-widgets/controls",
          "model_name": "IntProgressModel",
          "state": {
            "_view_name": "ProgressView",
            "style": "IPY_MODEL_d5d4f568e7aa4345b673e52b97922488",
            "_dom_classes": [],
            "description": "",
            "_model_name": "IntProgressModel",
            "bar_style": "success",
            "max": 1,
            "_view_module": "@jupyter-widgets/controls",
            "_model_module_version": "1.5.0",
            "value": 1,
            "_view_count": null,
            "_view_module_version": "1.5.0",
            "orientation": "horizontal",
            "min": 0,
            "description_tooltip": null,
            "_model_module": "@jupyter-widgets/controls",
            "layout": "IPY_MODEL_50d77d44c89346bb88990d4a7ff1dd99"
          }
        },
        "c21bbf6b74fa413bacfbc2d30e6f04c6": {
          "model_module": "@jupyter-widgets/controls",
          "model_name": "HTMLModel",
          "state": {
            "_view_name": "HTMLView",
            "style": "IPY_MODEL_0ce3f14a006e40d2a95ded98bdc8c541",
            "_dom_classes": [],
            "description": "",
            "_model_name": "HTMLModel",
            "placeholder": "​",
            "_view_module": "@jupyter-widgets/controls",
            "_model_module_version": "1.5.0",
            "value": "26427392it [00:09, 2778658.90it/s]",
            "_view_count": null,
            "_view_module_version": "1.5.0",
            "description_tooltip": null,
            "_model_module": "@jupyter-widgets/controls",
            "layout": "IPY_MODEL_f821caef2f0848fdac636ca40c997d19"
          }
        },
        "d5d4f568e7aa4345b673e52b97922488": {
          "model_module": "@jupyter-widgets/controls",
          "model_name": "ProgressStyleModel",
          "state": {
            "_view_name": "StyleView",
            "_model_name": "ProgressStyleModel",
            "description_width": "",
            "_view_module": "@jupyter-widgets/base",
            "_model_module_version": "1.5.0",
            "_view_count": null,
            "_view_module_version": "1.2.0",
            "bar_color": null,
            "_model_module": "@jupyter-widgets/controls"
          }
        },
        "50d77d44c89346bb88990d4a7ff1dd99": {
          "model_module": "@jupyter-widgets/base",
          "model_name": "LayoutModel",
          "state": {
            "_view_name": "LayoutView",
            "grid_template_rows": null,
            "right": null,
            "justify_content": null,
            "_view_module": "@jupyter-widgets/base",
            "overflow": null,
            "_model_module_version": "1.2.0",
            "_view_count": null,
            "flex_flow": null,
            "width": null,
            "min_width": null,
            "border": null,
            "align_items": null,
            "bottom": null,
            "_model_module": "@jupyter-widgets/base",
            "top": null,
            "grid_column": null,
            "overflow_y": null,
            "overflow_x": null,
            "grid_auto_flow": null,
            "grid_area": null,
            "grid_template_columns": null,
            "flex": null,
            "_model_name": "LayoutModel",
            "justify_items": null,
            "grid_row": null,
            "max_height": null,
            "align_content": null,
            "visibility": null,
            "align_self": null,
            "height": null,
            "min_height": null,
            "padding": null,
            "grid_auto_rows": null,
            "grid_gap": null,
            "max_width": null,
            "order": null,
            "_view_module_version": "1.2.0",
            "grid_template_areas": null,
            "object_position": null,
            "object_fit": null,
            "grid_auto_columns": null,
            "margin": null,
            "display": null,
            "left": null
          }
        },
        "0ce3f14a006e40d2a95ded98bdc8c541": {
          "model_module": "@jupyter-widgets/controls",
          "model_name": "DescriptionStyleModel",
          "state": {
            "_view_name": "StyleView",
            "_model_name": "DescriptionStyleModel",
            "description_width": "",
            "_view_module": "@jupyter-widgets/base",
            "_model_module_version": "1.5.0",
            "_view_count": null,
            "_view_module_version": "1.2.0",
            "_model_module": "@jupyter-widgets/controls"
          }
        },
        "f821caef2f0848fdac636ca40c997d19": {
          "model_module": "@jupyter-widgets/base",
          "model_name": "LayoutModel",
          "state": {
            "_view_name": "LayoutView",
            "grid_template_rows": null,
            "right": null,
            "justify_content": null,
            "_view_module": "@jupyter-widgets/base",
            "overflow": null,
            "_model_module_version": "1.2.0",
            "_view_count": null,
            "flex_flow": null,
            "width": null,
            "min_width": null,
            "border": null,
            "align_items": null,
            "bottom": null,
            "_model_module": "@jupyter-widgets/base",
            "top": null,
            "grid_column": null,
            "overflow_y": null,
            "overflow_x": null,
            "grid_auto_flow": null,
            "grid_area": null,
            "grid_template_columns": null,
            "flex": null,
            "_model_name": "LayoutModel",
            "justify_items": null,
            "grid_row": null,
            "max_height": null,
            "align_content": null,
            "visibility": null,
            "align_self": null,
            "height": null,
            "min_height": null,
            "padding": null,
            "grid_auto_rows": null,
            "grid_gap": null,
            "max_width": null,
            "order": null,
            "_view_module_version": "1.2.0",
            "grid_template_areas": null,
            "object_position": null,
            "object_fit": null,
            "grid_auto_columns": null,
            "margin": null,
            "display": null,
            "left": null
          }
        },
        "7a81e7168c3244d384a02b4cc9aa96d9": {
          "model_module": "@jupyter-widgets/controls",
          "model_name": "HBoxModel",
          "state": {
            "_view_name": "HBoxView",
            "_dom_classes": [],
            "_model_name": "HBoxModel",
            "_view_module": "@jupyter-widgets/controls",
            "_model_module_version": "1.5.0",
            "_view_count": null,
            "_view_module_version": "1.5.0",
            "box_style": "",
            "layout": "IPY_MODEL_4b81e9a6382d4bb78c586e335a563c71",
            "_model_module": "@jupyter-widgets/controls",
            "children": [
              "IPY_MODEL_756f29d5f21e403b8cf155de524d906d",
              "IPY_MODEL_3956f227033044ceaff4a6207dd2678c"
            ]
          }
        },
        "4b81e9a6382d4bb78c586e335a563c71": {
          "model_module": "@jupyter-widgets/base",
          "model_name": "LayoutModel",
          "state": {
            "_view_name": "LayoutView",
            "grid_template_rows": null,
            "right": null,
            "justify_content": null,
            "_view_module": "@jupyter-widgets/base",
            "overflow": null,
            "_model_module_version": "1.2.0",
            "_view_count": null,
            "flex_flow": null,
            "width": null,
            "min_width": null,
            "border": null,
            "align_items": null,
            "bottom": null,
            "_model_module": "@jupyter-widgets/base",
            "top": null,
            "grid_column": null,
            "overflow_y": null,
            "overflow_x": null,
            "grid_auto_flow": null,
            "grid_area": null,
            "grid_template_columns": null,
            "flex": null,
            "_model_name": "LayoutModel",
            "justify_items": null,
            "grid_row": null,
            "max_height": null,
            "align_content": null,
            "visibility": null,
            "align_self": null,
            "height": null,
            "min_height": null,
            "padding": null,
            "grid_auto_rows": null,
            "grid_gap": null,
            "max_width": null,
            "order": null,
            "_view_module_version": "1.2.0",
            "grid_template_areas": null,
            "object_position": null,
            "object_fit": null,
            "grid_auto_columns": null,
            "margin": null,
            "display": null,
            "left": null
          }
        },
        "756f29d5f21e403b8cf155de524d906d": {
          "model_module": "@jupyter-widgets/controls",
          "model_name": "IntProgressModel",
          "state": {
            "_view_name": "ProgressView",
            "style": "IPY_MODEL_a8a424bf57cd42098a9e646a45522928",
            "_dom_classes": [],
            "description": "",
            "_model_name": "IntProgressModel",
            "bar_style": "success",
            "max": 1,
            "_view_module": "@jupyter-widgets/controls",
            "_model_module_version": "1.5.0",
            "value": 1,
            "_view_count": null,
            "_view_module_version": "1.5.0",
            "orientation": "horizontal",
            "min": 0,
            "description_tooltip": null,
            "_model_module": "@jupyter-widgets/controls",
            "layout": "IPY_MODEL_4e76a9b116b047e5ab0d6bfb3df315f6"
          }
        },
        "3956f227033044ceaff4a6207dd2678c": {
          "model_module": "@jupyter-widgets/controls",
          "model_name": "HTMLModel",
          "state": {
            "_view_name": "HTMLView",
            "style": "IPY_MODEL_05f89700dbbd4444b17c70c9244ac744",
            "_dom_classes": [],
            "description": "",
            "_model_name": "HTMLModel",
            "placeholder": "​",
            "_view_module": "@jupyter-widgets/controls",
            "_model_module_version": "1.5.0",
            "value": "32768it [00:01, 30483.69it/s]",
            "_view_count": null,
            "_view_module_version": "1.5.0",
            "description_tooltip": null,
            "_model_module": "@jupyter-widgets/controls",
            "layout": "IPY_MODEL_05f0185f316b42038bfe23801ba83443"
          }
        },
        "a8a424bf57cd42098a9e646a45522928": {
          "model_module": "@jupyter-widgets/controls",
          "model_name": "ProgressStyleModel",
          "state": {
            "_view_name": "StyleView",
            "_model_name": "ProgressStyleModel",
            "description_width": "",
            "_view_module": "@jupyter-widgets/base",
            "_model_module_version": "1.5.0",
            "_view_count": null,
            "_view_module_version": "1.2.0",
            "bar_color": null,
            "_model_module": "@jupyter-widgets/controls"
          }
        },
        "4e76a9b116b047e5ab0d6bfb3df315f6": {
          "model_module": "@jupyter-widgets/base",
          "model_name": "LayoutModel",
          "state": {
            "_view_name": "LayoutView",
            "grid_template_rows": null,
            "right": null,
            "justify_content": null,
            "_view_module": "@jupyter-widgets/base",
            "overflow": null,
            "_model_module_version": "1.2.0",
            "_view_count": null,
            "flex_flow": null,
            "width": null,
            "min_width": null,
            "border": null,
            "align_items": null,
            "bottom": null,
            "_model_module": "@jupyter-widgets/base",
            "top": null,
            "grid_column": null,
            "overflow_y": null,
            "overflow_x": null,
            "grid_auto_flow": null,
            "grid_area": null,
            "grid_template_columns": null,
            "flex": null,
            "_model_name": "LayoutModel",
            "justify_items": null,
            "grid_row": null,
            "max_height": null,
            "align_content": null,
            "visibility": null,
            "align_self": null,
            "height": null,
            "min_height": null,
            "padding": null,
            "grid_auto_rows": null,
            "grid_gap": null,
            "max_width": null,
            "order": null,
            "_view_module_version": "1.2.0",
            "grid_template_areas": null,
            "object_position": null,
            "object_fit": null,
            "grid_auto_columns": null,
            "margin": null,
            "display": null,
            "left": null
          }
        },
        "05f89700dbbd4444b17c70c9244ac744": {
          "model_module": "@jupyter-widgets/controls",
          "model_name": "DescriptionStyleModel",
          "state": {
            "_view_name": "StyleView",
            "_model_name": "DescriptionStyleModel",
            "description_width": "",
            "_view_module": "@jupyter-widgets/base",
            "_model_module_version": "1.5.0",
            "_view_count": null,
            "_view_module_version": "1.2.0",
            "_model_module": "@jupyter-widgets/controls"
          }
        },
        "05f0185f316b42038bfe23801ba83443": {
          "model_module": "@jupyter-widgets/base",
          "model_name": "LayoutModel",
          "state": {
            "_view_name": "LayoutView",
            "grid_template_rows": null,
            "right": null,
            "justify_content": null,
            "_view_module": "@jupyter-widgets/base",
            "overflow": null,
            "_model_module_version": "1.2.0",
            "_view_count": null,
            "flex_flow": null,
            "width": null,
            "min_width": null,
            "border": null,
            "align_items": null,
            "bottom": null,
            "_model_module": "@jupyter-widgets/base",
            "top": null,
            "grid_column": null,
            "overflow_y": null,
            "overflow_x": null,
            "grid_auto_flow": null,
            "grid_area": null,
            "grid_template_columns": null,
            "flex": null,
            "_model_name": "LayoutModel",
            "justify_items": null,
            "grid_row": null,
            "max_height": null,
            "align_content": null,
            "visibility": null,
            "align_self": null,
            "height": null,
            "min_height": null,
            "padding": null,
            "grid_auto_rows": null,
            "grid_gap": null,
            "max_width": null,
            "order": null,
            "_view_module_version": "1.2.0",
            "grid_template_areas": null,
            "object_position": null,
            "object_fit": null,
            "grid_auto_columns": null,
            "margin": null,
            "display": null,
            "left": null
          }
        },
        "aa5741c4bb0444b5937709bf90258ce4": {
          "model_module": "@jupyter-widgets/controls",
          "model_name": "HBoxModel",
          "state": {
            "_view_name": "HBoxView",
            "_dom_classes": [],
            "_model_name": "HBoxModel",
            "_view_module": "@jupyter-widgets/controls",
            "_model_module_version": "1.5.0",
            "_view_count": null,
            "_view_module_version": "1.5.0",
            "box_style": "",
            "layout": "IPY_MODEL_adf9917c5e73441cb1f32f409d494ea0",
            "_model_module": "@jupyter-widgets/controls",
            "children": [
              "IPY_MODEL_326c8381242f46c18b43f009b0606204",
              "IPY_MODEL_922e723612a6492d81b138e948f1e71d"
            ]
          }
        },
        "adf9917c5e73441cb1f32f409d494ea0": {
          "model_module": "@jupyter-widgets/base",
          "model_name": "LayoutModel",
          "state": {
            "_view_name": "LayoutView",
            "grid_template_rows": null,
            "right": null,
            "justify_content": null,
            "_view_module": "@jupyter-widgets/base",
            "overflow": null,
            "_model_module_version": "1.2.0",
            "_view_count": null,
            "flex_flow": null,
            "width": null,
            "min_width": null,
            "border": null,
            "align_items": null,
            "bottom": null,
            "_model_module": "@jupyter-widgets/base",
            "top": null,
            "grid_column": null,
            "overflow_y": null,
            "overflow_x": null,
            "grid_auto_flow": null,
            "grid_area": null,
            "grid_template_columns": null,
            "flex": null,
            "_model_name": "LayoutModel",
            "justify_items": null,
            "grid_row": null,
            "max_height": null,
            "align_content": null,
            "visibility": null,
            "align_self": null,
            "height": null,
            "min_height": null,
            "padding": null,
            "grid_auto_rows": null,
            "grid_gap": null,
            "max_width": null,
            "order": null,
            "_view_module_version": "1.2.0",
            "grid_template_areas": null,
            "object_position": null,
            "object_fit": null,
            "grid_auto_columns": null,
            "margin": null,
            "display": null,
            "left": null
          }
        },
        "326c8381242f46c18b43f009b0606204": {
          "model_module": "@jupyter-widgets/controls",
          "model_name": "IntProgressModel",
          "state": {
            "_view_name": "ProgressView",
            "style": "IPY_MODEL_682faeb2d408414b839a697cdcdafeaf",
            "_dom_classes": [],
            "description": "",
            "_model_name": "IntProgressModel",
            "bar_style": "success",
            "max": 1,
            "_view_module": "@jupyter-widgets/controls",
            "_model_module_version": "1.5.0",
            "value": 1,
            "_view_count": null,
            "_view_module_version": "1.5.0",
            "orientation": "horizontal",
            "min": 0,
            "description_tooltip": null,
            "_model_module": "@jupyter-widgets/controls",
            "layout": "IPY_MODEL_d5ea182ea554465d97068b81e70d70a0"
          }
        },
        "922e723612a6492d81b138e948f1e71d": {
          "model_module": "@jupyter-widgets/controls",
          "model_name": "HTMLModel",
          "state": {
            "_view_name": "HTMLView",
            "style": "IPY_MODEL_e7d02c896af64d3790effb61a66bae28",
            "_dom_classes": [],
            "description": "",
            "_model_name": "HTMLModel",
            "placeholder": "​",
            "_view_module": "@jupyter-widgets/controls",
            "_model_module_version": "1.5.0",
            "value": "4423680it [00:02, 1599439.02it/s]",
            "_view_count": null,
            "_view_module_version": "1.5.0",
            "description_tooltip": null,
            "_model_module": "@jupyter-widgets/controls",
            "layout": "IPY_MODEL_621306b1af0d493db74debd6d549cf4f"
          }
        },
        "682faeb2d408414b839a697cdcdafeaf": {
          "model_module": "@jupyter-widgets/controls",
          "model_name": "ProgressStyleModel",
          "state": {
            "_view_name": "StyleView",
            "_model_name": "ProgressStyleModel",
            "description_width": "",
            "_view_module": "@jupyter-widgets/base",
            "_model_module_version": "1.5.0",
            "_view_count": null,
            "_view_module_version": "1.2.0",
            "bar_color": null,
            "_model_module": "@jupyter-widgets/controls"
          }
        },
        "d5ea182ea554465d97068b81e70d70a0": {
          "model_module": "@jupyter-widgets/base",
          "model_name": "LayoutModel",
          "state": {
            "_view_name": "LayoutView",
            "grid_template_rows": null,
            "right": null,
            "justify_content": null,
            "_view_module": "@jupyter-widgets/base",
            "overflow": null,
            "_model_module_version": "1.2.0",
            "_view_count": null,
            "flex_flow": null,
            "width": null,
            "min_width": null,
            "border": null,
            "align_items": null,
            "bottom": null,
            "_model_module": "@jupyter-widgets/base",
            "top": null,
            "grid_column": null,
            "overflow_y": null,
            "overflow_x": null,
            "grid_auto_flow": null,
            "grid_area": null,
            "grid_template_columns": null,
            "flex": null,
            "_model_name": "LayoutModel",
            "justify_items": null,
            "grid_row": null,
            "max_height": null,
            "align_content": null,
            "visibility": null,
            "align_self": null,
            "height": null,
            "min_height": null,
            "padding": null,
            "grid_auto_rows": null,
            "grid_gap": null,
            "max_width": null,
            "order": null,
            "_view_module_version": "1.2.0",
            "grid_template_areas": null,
            "object_position": null,
            "object_fit": null,
            "grid_auto_columns": null,
            "margin": null,
            "display": null,
            "left": null
          }
        },
        "e7d02c896af64d3790effb61a66bae28": {
          "model_module": "@jupyter-widgets/controls",
          "model_name": "DescriptionStyleModel",
          "state": {
            "_view_name": "StyleView",
            "_model_name": "DescriptionStyleModel",
            "description_width": "",
            "_view_module": "@jupyter-widgets/base",
            "_model_module_version": "1.5.0",
            "_view_count": null,
            "_view_module_version": "1.2.0",
            "_model_module": "@jupyter-widgets/controls"
          }
        },
        "621306b1af0d493db74debd6d549cf4f": {
          "model_module": "@jupyter-widgets/base",
          "model_name": "LayoutModel",
          "state": {
            "_view_name": "LayoutView",
            "grid_template_rows": null,
            "right": null,
            "justify_content": null,
            "_view_module": "@jupyter-widgets/base",
            "overflow": null,
            "_model_module_version": "1.2.0",
            "_view_count": null,
            "flex_flow": null,
            "width": null,
            "min_width": null,
            "border": null,
            "align_items": null,
            "bottom": null,
            "_model_module": "@jupyter-widgets/base",
            "top": null,
            "grid_column": null,
            "overflow_y": null,
            "overflow_x": null,
            "grid_auto_flow": null,
            "grid_area": null,
            "grid_template_columns": null,
            "flex": null,
            "_model_name": "LayoutModel",
            "justify_items": null,
            "grid_row": null,
            "max_height": null,
            "align_content": null,
            "visibility": null,
            "align_self": null,
            "height": null,
            "min_height": null,
            "padding": null,
            "grid_auto_rows": null,
            "grid_gap": null,
            "max_width": null,
            "order": null,
            "_view_module_version": "1.2.0",
            "grid_template_areas": null,
            "object_position": null,
            "object_fit": null,
            "grid_auto_columns": null,
            "margin": null,
            "display": null,
            "left": null
          }
        },
        "ae0e6162d8b2481daa9b00cb00e07d9f": {
          "model_module": "@jupyter-widgets/controls",
          "model_name": "HBoxModel",
          "state": {
            "_view_name": "HBoxView",
            "_dom_classes": [],
            "_model_name": "HBoxModel",
            "_view_module": "@jupyter-widgets/controls",
            "_model_module_version": "1.5.0",
            "_view_count": null,
            "_view_module_version": "1.5.0",
            "box_style": "",
            "layout": "IPY_MODEL_767a42f98e0a448ab0f143cecfe415ae",
            "_model_module": "@jupyter-widgets/controls",
            "children": [
              "IPY_MODEL_1c5d972504fe47eb986986eb1022e110",
              "IPY_MODEL_b23f33b2b77f4de4ac3a8b06bb1db937"
            ]
          }
        },
        "767a42f98e0a448ab0f143cecfe415ae": {
          "model_module": "@jupyter-widgets/base",
          "model_name": "LayoutModel",
          "state": {
            "_view_name": "LayoutView",
            "grid_template_rows": null,
            "right": null,
            "justify_content": null,
            "_view_module": "@jupyter-widgets/base",
            "overflow": null,
            "_model_module_version": "1.2.0",
            "_view_count": null,
            "flex_flow": null,
            "width": null,
            "min_width": null,
            "border": null,
            "align_items": null,
            "bottom": null,
            "_model_module": "@jupyter-widgets/base",
            "top": null,
            "grid_column": null,
            "overflow_y": null,
            "overflow_x": null,
            "grid_auto_flow": null,
            "grid_area": null,
            "grid_template_columns": null,
            "flex": null,
            "_model_name": "LayoutModel",
            "justify_items": null,
            "grid_row": null,
            "max_height": null,
            "align_content": null,
            "visibility": null,
            "align_self": null,
            "height": null,
            "min_height": null,
            "padding": null,
            "grid_auto_rows": null,
            "grid_gap": null,
            "max_width": null,
            "order": null,
            "_view_module_version": "1.2.0",
            "grid_template_areas": null,
            "object_position": null,
            "object_fit": null,
            "grid_auto_columns": null,
            "margin": null,
            "display": null,
            "left": null
          }
        },
        "1c5d972504fe47eb986986eb1022e110": {
          "model_module": "@jupyter-widgets/controls",
          "model_name": "IntProgressModel",
          "state": {
            "_view_name": "ProgressView",
            "style": "IPY_MODEL_983b264ece834a228eca190027ae813f",
            "_dom_classes": [],
            "description": "",
            "_model_name": "IntProgressModel",
            "bar_style": "success",
            "max": 1,
            "_view_module": "@jupyter-widgets/controls",
            "_model_module_version": "1.5.0",
            "value": 1,
            "_view_count": null,
            "_view_module_version": "1.5.0",
            "orientation": "horizontal",
            "min": 0,
            "description_tooltip": null,
            "_model_module": "@jupyter-widgets/controls",
            "layout": "IPY_MODEL_4daade0008ec4731a1cb62756cdce66c"
          }
        },
        "b23f33b2b77f4de4ac3a8b06bb1db937": {
          "model_module": "@jupyter-widgets/controls",
          "model_name": "HTMLModel",
          "state": {
            "_view_name": "HTMLView",
            "style": "IPY_MODEL_d5f3a34a2877406d92a201b20147c8ed",
            "_dom_classes": [],
            "description": "",
            "_model_name": "HTMLModel",
            "placeholder": "​",
            "_view_module": "@jupyter-widgets/controls",
            "_model_module_version": "1.5.0",
            "value": "8192it [00:00, 13046.89it/s]",
            "_view_count": null,
            "_view_module_version": "1.5.0",
            "description_tooltip": null,
            "_model_module": "@jupyter-widgets/controls",
            "layout": "IPY_MODEL_9018539b7ae94f8cb3fc22cebac45910"
          }
        },
        "983b264ece834a228eca190027ae813f": {
          "model_module": "@jupyter-widgets/controls",
          "model_name": "ProgressStyleModel",
          "state": {
            "_view_name": "StyleView",
            "_model_name": "ProgressStyleModel",
            "description_width": "",
            "_view_module": "@jupyter-widgets/base",
            "_model_module_version": "1.5.0",
            "_view_count": null,
            "_view_module_version": "1.2.0",
            "bar_color": null,
            "_model_module": "@jupyter-widgets/controls"
          }
        },
        "4daade0008ec4731a1cb62756cdce66c": {
          "model_module": "@jupyter-widgets/base",
          "model_name": "LayoutModel",
          "state": {
            "_view_name": "LayoutView",
            "grid_template_rows": null,
            "right": null,
            "justify_content": null,
            "_view_module": "@jupyter-widgets/base",
            "overflow": null,
            "_model_module_version": "1.2.0",
            "_view_count": null,
            "flex_flow": null,
            "width": null,
            "min_width": null,
            "border": null,
            "align_items": null,
            "bottom": null,
            "_model_module": "@jupyter-widgets/base",
            "top": null,
            "grid_column": null,
            "overflow_y": null,
            "overflow_x": null,
            "grid_auto_flow": null,
            "grid_area": null,
            "grid_template_columns": null,
            "flex": null,
            "_model_name": "LayoutModel",
            "justify_items": null,
            "grid_row": null,
            "max_height": null,
            "align_content": null,
            "visibility": null,
            "align_self": null,
            "height": null,
            "min_height": null,
            "padding": null,
            "grid_auto_rows": null,
            "grid_gap": null,
            "max_width": null,
            "order": null,
            "_view_module_version": "1.2.0",
            "grid_template_areas": null,
            "object_position": null,
            "object_fit": null,
            "grid_auto_columns": null,
            "margin": null,
            "display": null,
            "left": null
          }
        },
        "d5f3a34a2877406d92a201b20147c8ed": {
          "model_module": "@jupyter-widgets/controls",
          "model_name": "DescriptionStyleModel",
          "state": {
            "_view_name": "StyleView",
            "_model_name": "DescriptionStyleModel",
            "description_width": "",
            "_view_module": "@jupyter-widgets/base",
            "_model_module_version": "1.5.0",
            "_view_count": null,
            "_view_module_version": "1.2.0",
            "_model_module": "@jupyter-widgets/controls"
          }
        },
        "9018539b7ae94f8cb3fc22cebac45910": {
          "model_module": "@jupyter-widgets/base",
          "model_name": "LayoutModel",
          "state": {
            "_view_name": "LayoutView",
            "grid_template_rows": null,
            "right": null,
            "justify_content": null,
            "_view_module": "@jupyter-widgets/base",
            "overflow": null,
            "_model_module_version": "1.2.0",
            "_view_count": null,
            "flex_flow": null,
            "width": null,
            "min_width": null,
            "border": null,
            "align_items": null,
            "bottom": null,
            "_model_module": "@jupyter-widgets/base",
            "top": null,
            "grid_column": null,
            "overflow_y": null,
            "overflow_x": null,
            "grid_auto_flow": null,
            "grid_area": null,
            "grid_template_columns": null,
            "flex": null,
            "_model_name": "LayoutModel",
            "justify_items": null,
            "grid_row": null,
            "max_height": null,
            "align_content": null,
            "visibility": null,
            "align_self": null,
            "height": null,
            "min_height": null,
            "padding": null,
            "grid_auto_rows": null,
            "grid_gap": null,
            "max_width": null,
            "order": null,
            "_view_module_version": "1.2.0",
            "grid_template_areas": null,
            "object_position": null,
            "object_fit": null,
            "grid_auto_columns": null,
            "margin": null,
            "display": null,
            "left": null
          }
        }
      }
    }
  },
  "cells": [
    {
      "cell_type": "markdown",
      "metadata": {
        "colab_type": "text",
        "id": "_DJOzhSJd2cV"
      },
      "source": [
        "# Coursework 2: Image Classification\n",
        "\n",
        "In this coursework, we are going to develop a neural network model for for image classification.\n",
        "\n",
        "What to do?\n",
        "\n",
        "* The coursework includes both coding questions and written questions. Please read both the text and code comment in this notebook to get an idea what you are supposed to implement.\n",
        "\n",
        "* First, run `jupyter-lab` or `jupyter-notebook` in the terminal to start the Jupyter notebook.\n",
        "\n",
        "* Then, complete and run the code to get the results.\n",
        "\n",
        "* Finally, please export (File | Export Notebook As...) or print (using the print function of your browser) the notebook as a pdf file, which contains your code, results and answers, and upload the pdf file onto Cate.\n",
        "\n",
        "Dependencies:\n",
        "\n",
        "* If you work on a college computer in the Computer Lab, where Ubuntu 18.04 is installed by default, you can use the following virtual environment for your work, where required Python packages are already installed.\n",
        "\n",
        "`source /vol/bitbucket/wbai/virt/computer_vision_2020/bin/activate`\n",
        "\n",
        "When you no longer need the virtual environment, you can exit it by running `deactivate`.\n",
        "\n",
        "* If you work on your own laptop using either Anaconda or plain Python, you can install new packages (such as numpy, imageio etc) running `conda install [package_name]` or `pip3 install [package_name]` in the terminal."
      ]
    },
    {
      "cell_type": "code",
      "metadata": {
        "id": "D-e_ZNSKVjcm",
        "colab_type": "code",
        "colab": {}
      },
      "source": [
        "# Import libraries (provided)\n",
        "import numpy as np \n",
        "import matplotlib.pyplot as plt\n",
        "from matplotlib import image\n",
        "import time\n",
        "import random\n",
        "from sklearn import metrics\n",
        "import torch\n",
        "import torch.nn as nn\n",
        "import torch.nn.functional as F\n",
        "import torch.optim as optim\n",
        "import torchvision\n",
        "import torchvision.transforms as transforms\n",
        "import seaborn as sn\n",
        "import pandas as pd\n",
        "from PIL import Image\n",
        "import cv2"
      ],
      "execution_count": 0,
      "outputs": []
    },
    {
      "cell_type": "markdown",
      "metadata": {
        "colab_type": "text",
        "id": "w2XzAVb_d2cc"
      },
      "source": [
        "# 1. Load and visualise data. (25 marks)\n",
        "\n",
        "Throughout this coursework. you will be working with the Fashion-MNIST dataset. If you are interested, you may find information about the dataset in this paper.\n",
        "\n",
        "[1] Han Xiao, Kashif Rasul, Roland Vollgraf. Fashion-MNIST: A novel image dataset for benchmarking machine learning algorithms. [arXiv:1708.07747](https://arxiv.org/abs/1708.07747)\n",
        "\n",
        "The dataset is prepared in a similar way to MNIST. It is split into a set of 60,000 training images and a set of 10,000 test images. The images are of size 28x28 pixels.\n",
        "\n",
        "There are in total 10 label classes, which are:\n",
        "* 0: T-shirt/top\n",
        "* 1: Trousers\n",
        "* 2: Pullover\n",
        "* 3: Dress\n",
        "* 4: Coat\n",
        "* 5: Sandal\n",
        "* 6: Shirt\n",
        "* 7: Sneaker\n",
        "* 8: Bag\n",
        "* 9: Ankle boot"
      ]
    },
    {
      "cell_type": "code",
      "metadata": {
        "id": "P3nKBLY1Vjct",
        "colab_type": "code",
        "colab": {
          "base_uri": "https://localhost:8080/",
          "height": 400,
          "referenced_widgets": [
            "6853b651b8294ec7b66383bf58541f8a",
            "8a141187bacc4ae7970da9306e99e19e",
            "c2bc1565b64b4168b6206a32832141f1",
            "c21bbf6b74fa413bacfbc2d30e6f04c6",
            "d5d4f568e7aa4345b673e52b97922488",
            "50d77d44c89346bb88990d4a7ff1dd99",
            "0ce3f14a006e40d2a95ded98bdc8c541",
            "f821caef2f0848fdac636ca40c997d19",
            "7a81e7168c3244d384a02b4cc9aa96d9",
            "4b81e9a6382d4bb78c586e335a563c71",
            "756f29d5f21e403b8cf155de524d906d",
            "3956f227033044ceaff4a6207dd2678c",
            "a8a424bf57cd42098a9e646a45522928",
            "4e76a9b116b047e5ab0d6bfb3df315f6",
            "05f89700dbbd4444b17c70c9244ac744",
            "05f0185f316b42038bfe23801ba83443",
            "aa5741c4bb0444b5937709bf90258ce4",
            "adf9917c5e73441cb1f32f409d494ea0",
            "326c8381242f46c18b43f009b0606204",
            "922e723612a6492d81b138e948f1e71d",
            "682faeb2d408414b839a697cdcdafeaf",
            "d5ea182ea554465d97068b81e70d70a0",
            "e7d02c896af64d3790effb61a66bae28",
            "621306b1af0d493db74debd6d549cf4f",
            "ae0e6162d8b2481daa9b00cb00e07d9f",
            "767a42f98e0a448ab0f143cecfe415ae",
            "1c5d972504fe47eb986986eb1022e110",
            "b23f33b2b77f4de4ac3a8b06bb1db937",
            "983b264ece834a228eca190027ae813f",
            "4daade0008ec4731a1cb62756cdce66c",
            "d5f3a34a2877406d92a201b20147c8ed",
            "9018539b7ae94f8cb3fc22cebac45910"
          ]
        },
        "outputId": "09501e87-6e9a-497e-a17d-1047eac85cbb"
      },
      "source": [
        "# Load data (provided)\n",
        "train_set = torchvision.datasets.FashionMNIST(root='.', download=True, train=True,transform=transforms.ToTensor())\n",
        "train_image = np.array(train_set.data)\n",
        "train_label = np.array(train_set.targets)\n",
        "class_name = train_set.classes\n",
        "\n",
        "test_set = torchvision.datasets.FashionMNIST(root='.', download=True, train=False,transform=transforms.ToTensor())\n",
        "test_image = np.array(test_set.data)\n",
        "test_label = np.array(test_set.targets)"
      ],
      "execution_count": 2,
      "outputs": [
        {
          "output_type": "stream",
          "text": [
            "Downloading http://fashion-mnist.s3-website.eu-central-1.amazonaws.com/train-images-idx3-ubyte.gz to ./FashionMNIST/raw/train-images-idx3-ubyte.gz\n"
          ],
          "name": "stdout"
        },
        {
          "output_type": "display_data",
          "data": {
            "application/vnd.jupyter.widget-view+json": {
              "model_id": "6853b651b8294ec7b66383bf58541f8a",
              "version_minor": 0,
              "version_major": 2
            },
            "text/plain": [
              "HBox(children=(IntProgress(value=1, bar_style='info', max=1), HTML(value='')))"
            ]
          },
          "metadata": {
            "tags": []
          }
        },
        {
          "output_type": "stream",
          "text": [
            "\n",
            "Extracting ./FashionMNIST/raw/train-images-idx3-ubyte.gz to ./FashionMNIST/raw\n",
            "Downloading http://fashion-mnist.s3-website.eu-central-1.amazonaws.com/train-labels-idx1-ubyte.gz to ./FashionMNIST/raw/train-labels-idx1-ubyte.gz\n"
          ],
          "name": "stdout"
        },
        {
          "output_type": "display_data",
          "data": {
            "application/vnd.jupyter.widget-view+json": {
              "model_id": "7a81e7168c3244d384a02b4cc9aa96d9",
              "version_minor": 0,
              "version_major": 2
            },
            "text/plain": [
              "HBox(children=(IntProgress(value=1, bar_style='info', max=1), HTML(value='')))"
            ]
          },
          "metadata": {
            "tags": []
          }
        },
        {
          "output_type": "stream",
          "text": [
            "\n",
            "Extracting ./FashionMNIST/raw/train-labels-idx1-ubyte.gz to ./FashionMNIST/raw\n",
            "Downloading http://fashion-mnist.s3-website.eu-central-1.amazonaws.com/t10k-images-idx3-ubyte.gz to ./FashionMNIST/raw/t10k-images-idx3-ubyte.gz\n"
          ],
          "name": "stdout"
        },
        {
          "output_type": "display_data",
          "data": {
            "application/vnd.jupyter.widget-view+json": {
              "model_id": "aa5741c4bb0444b5937709bf90258ce4",
              "version_minor": 0,
              "version_major": 2
            },
            "text/plain": [
              "HBox(children=(IntProgress(value=1, bar_style='info', max=1), HTML(value='')))"
            ]
          },
          "metadata": {
            "tags": []
          }
        },
        {
          "output_type": "stream",
          "text": [
            "\n",
            "Extracting ./FashionMNIST/raw/t10k-images-idx3-ubyte.gz to ./FashionMNIST/raw\n",
            "Downloading http://fashion-mnist.s3-website.eu-central-1.amazonaws.com/t10k-labels-idx1-ubyte.gz to ./FashionMNIST/raw/t10k-labels-idx1-ubyte.gz\n"
          ],
          "name": "stdout"
        },
        {
          "output_type": "display_data",
          "data": {
            "application/vnd.jupyter.widget-view+json": {
              "model_id": "ae0e6162d8b2481daa9b00cb00e07d9f",
              "version_minor": 0,
              "version_major": 2
            },
            "text/plain": [
              "HBox(children=(IntProgress(value=1, bar_style='info', max=1), HTML(value='')))"
            ]
          },
          "metadata": {
            "tags": []
          }
        },
        {
          "output_type": "stream",
          "text": [
            "\n",
            "Extracting ./FashionMNIST/raw/t10k-labels-idx1-ubyte.gz to ./FashionMNIST/raw\n",
            "Processing...\n",
            "Done!\n"
          ],
          "name": "stdout"
        }
      ]
    },
    {
      "cell_type": "markdown",
      "metadata": {
        "colab_type": "text",
        "id": "vgNGDwe8d2cg"
      },
      "source": [
        "### 1.1 Display the dimension of the training and test sets. (5 marks)"
      ]
    },
    {
      "cell_type": "code",
      "metadata": {
        "id": "xKR0HMWRVjcy",
        "colab_type": "code",
        "colab": {
          "base_uri": "https://localhost:8080/",
          "height": 205
        },
        "outputId": "c8c51254-356d-491c-8eea-e27515b80e89"
      },
      "source": [
        "print(f\"the dimension of the training set is: {train_set.data.shape}\")\n",
        "print(class_name)\n",
        "print(train_set)\n",
        "print(train_label)\n",
        "\n",
        "print(f\"the dimension of the test set is: {test_set.data.shape}\")"
      ],
      "execution_count": 3,
      "outputs": [
        {
          "output_type": "stream",
          "text": [
            "the dimension of the training set is: torch.Size([60000, 28, 28])\n",
            "['T-shirt/top', 'Trouser', 'Pullover', 'Dress', 'Coat', 'Sandal', 'Shirt', 'Sneaker', 'Bag', 'Ankle boot']\n",
            "Dataset FashionMNIST\n",
            "    Number of datapoints: 60000\n",
            "    Root location: .\n",
            "    Split: Train\n",
            "    StandardTransform\n",
            "Transform: ToTensor()\n",
            "[9 0 0 ... 3 0 5]\n",
            "the dimension of the test set is: torch.Size([10000, 28, 28])\n"
          ],
          "name": "stdout"
        }
      ]
    },
    {
      "cell_type": "markdown",
      "metadata": {
        "colab_type": "text",
        "id": "gibxYb7Qd2ck"
      },
      "source": [
        "### 1.2 Visualise sample images for each of the 10 classes. (10 marks)\n",
        "\n",
        "Please plot 10 rows x 10 columns of images. Each row shows 10 samples for one class. For example, row 1 shows 10 `T-shirt/top` images, row 2 shows 10 `Trousers` images."
      ]
    },
    {
      "cell_type": "code",
      "metadata": {
        "id": "91y0E_J4Vjc4",
        "colab_type": "code",
        "colab": {
          "base_uri": "https://localhost:8080/",
          "height": 937
        },
        "outputId": "57edd14b-9838-4ca8-d7c2-eb8d3d1943c6"
      },
      "source": [
        "N=10\n",
        "fig, axes = plt.subplots(N,N,figsize=(16,16))\n",
        "\n",
        "for row in range(N):\n",
        "  col=0\n",
        "  for i in range(200):\n",
        "    if col==10:\n",
        "      break\n",
        "    elif (train_label[i]==row):\n",
        "        axes[row,col].axis('off')\n",
        "        axes[row,col].set_title(class_name[row])\n",
        "        axes[row,col].imshow(train_image[i],cmap='gray')\n",
        "        fig.subplots_adjust(hspace=1) \n",
        "        col+=1"
      ],
      "execution_count": 4,
      "outputs": [
        {
          "output_type": "display_data",
          "data": {
            "image/png": "[encoded data removed]",
            "text/plain": [
              "<Figure size 1152x1152 with 100 Axes>"
            ]
          },
          "metadata": {
            "tags": []
          }
        }
      ]
    },
    {
      "cell_type": "markdown",
      "metadata": {
        "colab_type": "text",
        "id": "E4d3dkPTd2co"
      },
      "source": [
        "### 1.3 Display the number of training samples for each class. (5 marks)"
      ]
    },
    {
      "cell_type": "code",
      "metadata": {
        "id": "AFeM5yLVVjc9",
        "colab_type": "code",
        "colab": {
          "base_uri": "https://localhost:8080/",
          "height": 54
        },
        "outputId": "14ea348a-a8f0-408e-c616-c31916f74aa1"
      },
      "source": [
        "label, counts = np.unique(train_label, return_counts=True)\n",
        "old = dict(zip(label, counts))\n",
        "\n",
        "for i in range(10):\n",
        "    new = dict(zip(class_name, list(old.values())))\n",
        "\n",
        "print(new)\n"
      ],
      "execution_count": 5,
      "outputs": [
        {
          "output_type": "stream",
          "text": [
            "{'T-shirt/top': 6000, 'Trouser': 6000, 'Pullover': 6000, 'Dress': 6000, 'Coat': 6000, 'Sandal': 6000, 'Shirt': 6000, 'Sneaker': 6000, 'Bag': 6000, 'Ankle boot': 6000}\n"
          ],
          "name": "stdout"
        }
      ]
    },
    {
      "cell_type": "markdown",
      "metadata": {
        "colab_type": "text",
        "id": "3FRVUoDcd2cs"
      },
      "source": [
        "### 1.4 Discussion. (5 marks)\n",
        "Is the dataset balanced? What would happen for the image classification task if the dataset is not balanced? "
      ]
    },
    {
      "cell_type": "code",
      "metadata": {
        "colab_type": "code",
        "id": "_vxp4uSbd2ct",
        "colab": {}
      },
      "source": [
        ""
      ],
      "execution_count": 0,
      "outputs": []
    },
    {
      "cell_type": "markdown",
      "metadata": {
        "colab_type": "text",
        "id": "Lte_gzsud2cw"
      },
      "source": [
        "## 2. Image classification. (60 marks)\n",
        "\n",
        "### 2.1 Build a convolutional neural network using the `PyTorch` library to perform classification on the Fashion-MNIST dataset. (15 marks)\n",
        "\n",
        "You can use a network architecture similar to LeNet (shown below), which consists a number of convolutional layers and a few fully connected layers at the end.\n",
        "\n",
        "![](https://github.com/lengwe/Computer_Vision_2020/blob/master/coursework_2/lenet.png?raw=1)"
      ]
    },
    {
      "cell_type": "code",
      "metadata": {
        "id": "O43OExJiVjdI",
        "colab_type": "code",
        "colab": {}
      },
      "source": [
        "class Network(nn.Module):\n",
        "    def __init__(self):\n",
        "        super(Network,self).__init__()\n",
        "\n",
        "        #convolution and subsampling layers\n",
        "        self.conv1 = nn.Conv2d(1,6,kernel_size=5,stride=1,padding=0)\n",
        "        self.conv2 = nn.Conv2d(6,16,kernel_size=5,stride=1,padding=0)\n",
        "        self.pool = nn.MaxPool2d(kernel_size=2,stride=2,padding=0)\n",
        "\n",
        "        #fully connection\n",
        "        self.fc1 = nn.Linear(256, 120)\n",
        "        self.fc2 = nn.Linear(120, 84)\n",
        "        self.fc3 = nn.Linear(84, 10)\n",
        "    \n",
        "    def forward(self,x):\n",
        "        x = self.pool(F.relu(self.conv1(x)))\n",
        "        x = self.pool(F.relu(self.conv2(x)))\n",
        "        x = x.view(-1, 256)\n",
        "        x = F.relu(self.fc1(x))\n",
        "        x = F.relu(self.fc2(x))\n",
        "        x = self.fc3(x)\n",
        "        return x"
      ],
      "execution_count": 0,
      "outputs": []
    },
    {
      "cell_type": "markdown",
      "metadata": {
        "colab_type": "text",
        "id": "QrFoJkVDd2cz"
      },
      "source": [
        "### 2.2 Define the loss function, optimiser and hyper-parameters such as the learning rate, number of iterations, batch size etc. (5 marks)"
      ]
    },
    {
      "cell_type": "code",
      "metadata": {
        "id": "-hzGUuO5VjdN",
        "colab_type": "code",
        "colab": {}
      },
      "source": [
        "batch = 128\n",
        "learning_rate = 0.01\n",
        "iteration = 30\n",
        "#Setting GPU device \n",
        "device = torch.device(\"cuda\" if torch.cuda.is_available() else \"cpu\")\n",
        "model = Network().to(device)\n",
        "criterion = nn.CrossEntropyLoss()\n",
        "optimizer = optim.SGD(model.parameters(), lr=learning_rate, momentum=0.9)"
      ],
      "execution_count": 0,
      "outputs": []
    },
    {
      "cell_type": "markdown",
      "metadata": {
        "colab_type": "text",
        "id": "wHcZKNsAd2c3"
      },
      "source": [
        "### 2.3 Start model training. (20 marks)\n",
        "\n",
        "At each iteration, get a random batch of images and labels from train_image and train_label, convert them into torch tensors, feed into the network model and perform gradient descent. Please also evaluate how long it takes for training."
      ]
    },
    {
      "cell_type": "code",
      "metadata": {
        "id": "siqxtyVsVjdU",
        "colab_type": "code",
        "colab": {
          "base_uri": "https://localhost:8080/",
          "height": 800
        },
        "outputId": "973d2e49-c8d2-484b-f2f9-63c6d8e64826"
      },
      "source": [
        "time_start = time.process_time()\n",
        "loss_epo = []\n",
        "acc_list = []\n",
        "for epoch in range(iteration):\n",
        "    train_loader  = torch.utils.data.DataLoader(train_set,batch_size=batch, shuffle=True)\n",
        "    for i,(inputs,labels) in enumerate(train_loader,0):\n",
        "        inputs,labels = inputs.to(device),labels.to(device)\n",
        "        optimizer.zero_grad()\n",
        "        output = model(inputs)\n",
        "        loss = criterion(output,labels)\n",
        "        loss.backward() \n",
        "        optimizer.step()\n",
        "\n",
        "        #Evaluate accuracy\n",
        "        total = labels.size(0)\n",
        "        _,predicted = torch.max(output.data,1)\n",
        "        correct = (predicted == labels).sum().item()\n",
        "        acc_list.append(correct / total)\n",
        "    loss_epo.append(loss.item())\n",
        "\n",
        "    print('Epoch [{}/{}], Loss: {:.6f} Train Accuracy: {:.2f}%'.format(epoch + 1, iteration, loss.item(), (correct/total)*100))\n",
        "\n",
        "plt.plot(loss_epo)\n",
        "plt.xlabel(\"Epoch\")\n",
        "plt.ylabel(\"Loss\")\n",
        "plt.show()\n",
        "\n",
        "#Execution time \n",
        "time_elapse = time.process_time()-time_start\n",
        "minutes, seconds = divmod(int(time_elapse), 60)\n",
        "print(f'Finished Training within {minutes} min {seconds} sec')"
      ],
      "execution_count": 8,
      "outputs": [
        {
          "output_type": "stream",
          "text": [
            "Epoch [1/30], Loss: 0.491831 Train Accuracy: 77.08%\n",
            "Epoch [2/30], Loss: 0.564739 Train Accuracy: 78.12%\n",
            "Epoch [3/30], Loss: 0.367935 Train Accuracy: 82.29%\n",
            "Epoch [4/30], Loss: 0.589351 Train Accuracy: 78.12%\n",
            "Epoch [5/30], Loss: 0.262166 Train Accuracy: 91.67%\n",
            "Epoch [6/30], Loss: 0.417121 Train Accuracy: 90.62%\n",
            "Epoch [7/30], Loss: 0.310603 Train Accuracy: 87.50%\n",
            "Epoch [8/30], Loss: 0.401425 Train Accuracy: 83.33%\n",
            "Epoch [9/30], Loss: 0.295000 Train Accuracy: 88.54%\n",
            "Epoch [10/30], Loss: 0.370361 Train Accuracy: 87.50%\n",
            "Epoch [11/30], Loss: 0.175514 Train Accuracy: 94.79%\n",
            "Epoch [12/30], Loss: 0.276879 Train Accuracy: 91.67%\n",
            "Epoch [13/30], Loss: 0.261371 Train Accuracy: 88.54%\n",
            "Epoch [14/30], Loss: 0.310103 Train Accuracy: 86.46%\n",
            "Epoch [15/30], Loss: 0.250752 Train Accuracy: 91.67%\n",
            "Epoch [16/30], Loss: 0.120201 Train Accuracy: 94.79%\n",
            "Epoch [17/30], Loss: 0.202874 Train Accuracy: 93.75%\n",
            "Epoch [18/30], Loss: 0.365485 Train Accuracy: 86.46%\n",
            "Epoch [19/30], Loss: 0.239434 Train Accuracy: 88.54%\n",
            "Epoch [20/30], Loss: 0.308436 Train Accuracy: 85.42%\n",
            "Epoch [21/30], Loss: 0.165015 Train Accuracy: 95.83%\n",
            "Epoch [22/30], Loss: 0.297168 Train Accuracy: 87.50%\n",
            "Epoch [23/30], Loss: 0.176315 Train Accuracy: 93.75%\n",
            "Epoch [24/30], Loss: 0.245047 Train Accuracy: 90.62%\n",
            "Epoch [25/30], Loss: 0.206783 Train Accuracy: 91.67%\n",
            "Epoch [26/30], Loss: 0.302563 Train Accuracy: 87.50%\n",
            "Epoch [27/30], Loss: 0.131452 Train Accuracy: 92.71%\n",
            "Epoch [28/30], Loss: 0.199287 Train Accuracy: 90.62%\n",
            "Epoch [29/30], Loss: 0.196736 Train Accuracy: 91.67%\n",
            "Epoch [30/30], Loss: 0.134504 Train Accuracy: 96.88%\n"
          ],
          "name": "stdout"
        },
        {
          "output_type": "display_data",
          "data": {
            "image/png": "[encoded data removed]",
            "text/plain": [
              "<Figure size 432x288 with 1 Axes>"
            ]
          },
          "metadata": {
            "tags": []
          }
        },
        {
          "output_type": "stream",
          "text": [
            "Finished Training within 4 min 10 sec\n"
          ],
          "name": "stdout"
        }
      ]
    },
    {
      "cell_type": "markdown",
      "metadata": {
        "colab_type": "text",
        "id": "i-KzgSTUd2c6"
      },
      "source": [
        "### 2.4 Deploy the trained model onto the test set. (10 marks)\n",
        "Please also evaluate how long it takes for testing."
      ]
    },
    {
      "cell_type": "code",
      "metadata": {
        "id": "XwqYFbpJVjdZ",
        "colab_type": "code",
        "colab": {
          "base_uri": "https://localhost:8080/",
          "height": 34
        },
        "outputId": "316dad60-1f4e-438b-d667-1595ca458f8e"
      },
      "source": [
        "test_loader = torch.utils.data.DataLoader(test_set,batch_size=batch,shuffle=True)\n",
        "model.eval()\n",
        "\n",
        "with torch.no_grad():\n",
        "  time_start = time.process_time()\n",
        "  for inputs, labels in test_loader:\n",
        "    inputs,labels = inputs.to(device),labels.to(device)\n",
        "    outputs = model(inputs)\n",
        "\n",
        "time_elapse = time.process_time()-time_start\n",
        "minutes, seconds = divmod(float(time_elapse), 60)\n",
        "print(f'Finished testing within {minutes} min {seconds} sec')"
      ],
      "execution_count": 13,
      "outputs": [
        {
          "output_type": "stream",
          "text": [
            "Finished testing within 0.0 min 1.2737464619999628 sec\n"
          ],
          "name": "stdout"
        }
      ]
    },
    {
      "cell_type": "markdown",
      "metadata": {
        "colab_type": "text",
        "id": "RMebrQw2d2c_"
      },
      "source": [
        "### 2.5 Evaluate the classification accuracy on the test set. (5 marks)"
      ]
    },
    {
      "cell_type": "code",
      "metadata": {
        "id": "cE8WZ2ryVjde",
        "colab_type": "code",
        "colab": {
          "base_uri": "https://localhost:8080/",
          "height": 34
        },
        "outputId": "c174497e-dfe3-4974-b370-e27c8f9b23f9"
      },
      "source": [
        "model.eval()\n",
        "p=torch.zeros(0,dtype=torch.long, device='cpu')\n",
        "l=torch.zeros(0,dtype=torch.long, device='cpu')\n",
        "\n",
        "with torch.no_grad():\n",
        "  correct = 0\n",
        "  total = 0\n",
        "  for inputs, labels in test_loader:\n",
        "    inputs,labels = inputs.to(device),labels.to(device)\n",
        "    outputs = model(inputs)\n",
        "    _, predicted = torch.max(outputs.data, 1)\n",
        "    total += labels.size(0)\n",
        "    correct += (predicted == labels).sum().item()\n",
        "    p=torch.cat([p,predicted.view(-1).cpu()])\n",
        "    l=torch.cat([l,labels.view(-1).cpu()])\n",
        "print('The classification accuracy on the test set is: {:.3f} %'.format((correct / total) * 100))"
      ],
      "execution_count": 14,
      "outputs": [
        {
          "output_type": "stream",
          "text": [
            "The classification accuracy on the test set is: 89.190 %\n"
          ],
          "name": "stdout"
        }
      ]
    },
    {
      "cell_type": "markdown",
      "metadata": {
        "colab_type": "text",
        "id": "JXMHyDt_d2dC"
      },
      "source": [
        "### 2.6 Print out and visualise the confusion matrix. (5 marks)\n",
        "You can use relevant functions in [scikit-learn](https://scikit-learn.org/stable/modules/classes.html#module-sklearn.metrics)."
      ]
    },
    {
      "cell_type": "code",
      "metadata": {
        "id": "DQulLSxqVjdk",
        "colab_type": "code",
        "colab": {
          "base_uri": "https://localhost:8080/",
          "height": 713
        },
        "outputId": "49e271af-b65a-4b04-98be-758e621418ee"
      },
      "source": [
        "conf_matrix = metrics.confusion_matrix(l,p)\n",
        "print(conf_matrix)\n",
        "df_cm = pd.DataFrame(conf_matrix, index = [i for i in enumerate(class_name)],\n",
        "                  columns = [i for i in enumerate(class_name)])\n",
        "plt.figure(figsize = (10,7))\n",
        "sn.heatmap(df_cm,annot=True,fmt=\"d\",cmap=\"YlGnBu\",linewidth=0.02,linecolor=\"gray\")\n",
        "plt.xlabel('Predicted Labels')\n",
        "plt.ylabel('True Labels')\n",
        "plt.title('Confusion Matrix')"
      ],
      "execution_count": 15,
      "outputs": [
        {
          "output_type": "stream",
          "text": [
            "[[816   1  16  22   4   0 128   0  13   0]\n",
            " [  1 977   0  14   4   1   1   0   2   0]\n",
            " [ 12   2 816   8  97   0  61   0   4   0]\n",
            " [ 14   6  10 907  32   0  22   0   9   0]\n",
            " [  1   1  36  33 884   0  43   0   2   0]\n",
            " [  0   0   0   1   0 946   0  38   9   6]\n",
            " [ 93   2  59  25 107   0 693   0  21   0]\n",
            " [  0   0   0   0   0   9   0 983   2   6]\n",
            " [  1   1   4   5   2   0   0   3 984   0]\n",
            " [  0   0   0   0   0   7   1  79   0 913]]\n"
          ],
          "name": "stdout"
        },
        {
          "output_type": "execute_result",
          "data": {
            "text/plain": [
              "Text(0.5, 1, 'Confusion Matrix')"
            ]
          },
          "metadata": {
            "tags": []
          },
          "execution_count": 15
        },
        {
          "output_type": "display_data",
          "data": {
            "image/png": "[encoded data removed]",
            "text/plain": [
              "<Figure size 720x504 with 2 Axes>"
            ]
          },
          "metadata": {
            "tags": []
          }
        }
      ]
    },
    {
      "cell_type": "markdown",
      "metadata": {
        "colab_type": "text",
        "id": "BvZUQGw1d2dF"
      },
      "source": [
        "## 3. Deploy in real world. (15 marks)\n",
        "\n",
        "Take 3 photos that belongs to the 10 classes (e.g. clothes, shoes) in your real life. Use either Python or other software (Photoshop, Gimp etc) to convert the photos into grayscale, negate the intensities so that background becomes black or dark, crop the region of interest and reshape into the size of 28x28.\n",
        "\n",
        "### 3.1 Load and visualise your own images (5 marks)"
      ]
    },
    {
      "cell_type": "code",
      "metadata": {
        "id": "1VznmJMzVjdp",
        "colab_type": "code",
        "colab": {
          "base_uri": "https://localhost:8080/",
          "height": 1000
        },
        "outputId": "fc270400-a1ff-442b-9fc2-7b57ce759702"
      },
      "source": [
        "# ankle_boot = rgb2gray(image.imread('rsz_ankle_boots.jpg'))\n",
        "# bag = rgb2gray(image.imread('rsz_bag.jpg'))\n",
        "# pullover = rgb2gray(image.imread('rsz_pullover.jpg'))\n",
        "own_images = []\n",
        "fig = plt.figure(figsize=(8,8))\n",
        "# own_images.append(ankle_boot)\n",
        "# own_images.append(bag)\n",
        "# own_images.append(pullover)\n",
        "columns=3\n",
        "rows = 1\n",
        "\n",
        "ankle_boot = cv2.imread('rsz_ankle_boots.jpg',0)\n",
        "bag = cv2.imread('rsz_bag.jpg',0)\n",
        "pullover = cv2.imread('rsz_pullover.jpg',0)\n",
        "# own_images.append(ankle_boot)\n",
        "# own_images.append(bag)\n",
        "# own_images.append(pullover)\n",
        "\n",
        "\n",
        "\n",
        "\n",
        "# ankle_boot = Image.open('rsz_ankle_boots.jpg').convert('LA')\n",
        "# bag = Image.open('rsz_bag.jpg').convert('LA')\n",
        "# pullover = Image.open('rsz_pullover.jpg').convert('LA')\n",
        "own_images.append(ankle_boot)\n",
        "own_images.append(bag)\n",
        "own_images.append(pullover)\n",
        "print(own_images)\n",
        "\n",
        "for i in range(1, columns*rows+1):\n",
        "    fig.add_subplot(rows, columns, i)\n",
        "    plt.axis('off')\n",
        "    plt.imshow(own_images[i-1])\n",
        "plt.show()\n"
      ],
      "execution_count": 101,
      "outputs": [
        {
          "output_type": "stream",
          "text": [
            "[array([[  2,   6,   7,   3,   0,   2,   4,   4,   1,   6,   6,   3,   4,\n",
            "          7,   5,   0,   3,   3,   3,   3,   3,   3,   3,   3,   3,   3,\n",
            "          3,   3],\n",
            "       [  1,   3,   4,   3,   2,   3,   3,   2,   4,   3,   0,   0,   0,\n",
            "          0,   2,   5,   3,   3,   3,   3,   3,   3,   3,   3,   3,   3,\n",
            "          3,   3],\n",
            "       [  2,   0,   1,   4,   5,   3,   2,   2,   1,   2,   7,  10,   9,\n",
            "          4,   2,   4,   3,   3,   3,   3,   3,   3,   3,   3,   3,   3,\n",
            "          3,   3],\n",
            "       [  4,   2,   2,   5,   5,   2,   2,   4,   3,   2,   1,   0,   0,\n",
            "          2,   3,   4,   3,   3,   3,   3,   3,   3,   3,   3,   3,   3,\n",
            "          3,   3],\n",
            "       [  5,   4,   3,   3,   1,   0,   2,   5,   1,   4,   4,   1,   3,\n",
            "          7,   5,   0,   3,   3,   3,   3,   3,   3,   3,   3,   3,   3,\n",
            "          3,   3],\n",
            "       [  3,   4,   4,   1,   0,   2,   3,   2,   5,   6,   6,   4,   5,\n",
            "          7,   5,   2,   3,   3,   3,   3,   3,   3,   3,   3,   3,   3,\n",
            "          3,   3],\n",
            "       [  2,   5,   4,   1,   5,  12,   9,   0,  12,   4,   1,   4,   0,\n",
            "          0,   0,  13,   3,   3,   3,   3,   3,   3,   3,   3,   3,   3,\n",
            "          3,   3],\n",
            "       [  2,   6,   4,   2,  12,  22,  15,   0,   0,   1,  24,  50,  43,\n",
            "         10,   0,   3,   3,   3,   3,   3,   3,   3,   3,   3,   3,   3,\n",
            "          3,   3],\n",
            "       [  6,   0,   1,   4,  15, 104,  59,  63,  72,  47, 188, 255, 209,\n",
            "         22,   0,   4,   3,   3,   3,   3,   3,   3,   2,   2,   3,   3,\n",
            "          3,   3],\n",
            "       [  4,   0,  11,   5,   4, 159, 242, 253, 255, 252, 236, 221, 244,\n",
            "         42,   0,   2,   3,   3,   3,   3,   3,   3,   3,   3,   3,   3,\n",
            "          3,   3],\n",
            "       [  4,   2,  12,   4,   0, 128, 251, 227, 239, 249, 223, 201, 255,\n",
            "        103,   0,   4,   3,   3,   3,   3,   3,   3,   4,   4,   3,   3,\n",
            "          3,   3],\n",
            "       [  0,   1,   0,   6,  11, 122, 248, 221, 244, 231, 249, 229, 238,\n",
            "        185,   0,   6,   3,   3,   3,   3,   3,   4,   4,   4,   3,   3,\n",
            "          3,   3],\n",
            "       [  8,   5,   1,   4,   0, 111, 236, 220, 247, 239, 241, 221, 221,\n",
            "        248,  64,   2,   4,   4,   3,   3,   3,   4,   4,   5,   3,   3,\n",
            "          3,   3],\n",
            "       [  5,   0,   9,  11,   0, 143, 236, 210, 227, 251, 243, 238, 229,\n",
            "        255, 176,   0,   6,   5,   4,   3,   3,   3,   4,   4,   3,   3,\n",
            "          3,   3],\n",
            "       [ 10,   0,   4,   0,   1, 190, 225, 216, 215, 240, 239, 237, 226,\n",
            "        225, 247,  87,   7,   6,   5,   3,   3,   3,   3,   4,   3,   3,\n",
            "          3,   3],\n",
            "       [  0,   4,   6,   0,  32, 230, 215, 247, 234, 242, 236, 218, 236,\n",
            "        213, 240, 216,   8,   7,   5,   3,   2,   2,   3,   3,   3,   3,\n",
            "          3,   3],\n",
            "       [  1,   7,   7,   0,  38, 221, 221, 227, 246, 240, 237, 232, 246,\n",
            "        219, 215, 253, 163,   4,   3,   0,   4,  13,   3,   1,   3,   3,\n",
            "          3,   3],\n",
            "       [  0,   3,   3,   0,  37, 222, 221, 224, 228, 244, 223, 238, 225,\n",
            "        220, 224, 228, 255, 166,  28,   3,   9,   0,   0,   8,   3,   3,\n",
            "          3,   3],\n",
            "       [  5,   6,   6,   1,  46, 236, 235, 233, 236, 233, 240, 227, 220,\n",
            "        228, 221, 224, 230, 241, 193, 134, 119, 109,  33,   0,   3,   3,\n",
            "          3,   3],\n",
            "       [  2,   0,   2,   0,  45, 239, 240, 234, 240, 236, 255, 238, 244,\n",
            "        240, 239, 216, 230, 207, 199, 185, 200, 237, 224,  17,   3,   3,\n",
            "          3,   3],\n",
            "       [  4,   0,   3,   0,  42, 238, 242, 233, 236, 232, 154, 251, 242,\n",
            "        235, 249, 234, 230, 241, 239, 200, 220, 230, 248, 103,   3,   3,\n",
            "          3,   3],\n",
            "       [  8,   4,   8,   1,  39, 237, 245, 235, 253, 224,   5,  46, 219,\n",
            "        255, 242, 239, 238, 238, 231, 241, 239, 248, 254,  94,   3,   3,\n",
            "          3,   3],\n",
            "       [  1,   0,   5,   0,  31, 232, 245, 237, 242, 215,  12,   7,  28,\n",
            "        200, 246, 242, 247, 226, 243, 240, 246, 239, 112,   0,   3,   3,\n",
            "          3,   3],\n",
            "       [  2,   0,  10,   3,  35, 238, 255, 250, 255, 210,  70,  50,  39,\n",
            "         62, 199, 252, 245, 255, 250, 230, 173,  77,  14,   3,   3,   3,\n",
            "          3,   3],\n",
            "       [  3,   3,   2,   3,  16,  45,  83, 110, 121,  70,  29,  22,  19,\n",
            "         21,  58, 107, 105,  87,  58,  29,   9,   1,   2,   5,   3,   3,\n",
            "          3,   3],\n",
            "       [  3,   4,   5,   3,   0,   0,   3,   6,   4,   0,   0,   2,   1,\n",
            "          0,   0,   0,   5,   4,   2,   1,   0,   1,   2,   3,   3,   3,\n",
            "          3,   3],\n",
            "       [  0,   1,   2,   5,   6,   3,   0,   0,   1,   6,   6,   1,   2,\n",
            "          7,   8,   3,   3,   4,   5,   6,   6,   6,   6,   5,   3,   3,\n",
            "          3,   3],\n",
            "       [  5,   2,   0,   0,   4,   8,  10,  10,   8,   3,   0,   1,   1,\n",
            "          0,   3,   7,   8,   6,   3,   0,   0,   0,   0,   1,   3,   3,\n",
            "          3,   3]], dtype=uint8), array([[ 22,  22,  22,  23,  24,  24,  25,  25,  29,  22,  28,  26,  25,\n",
            "         21,  32,  23,  21,  30,  25,  24,  27,  25,  26,  25,  24,  23,\n",
            "         23,  22],\n",
            "       [ 22,  22,  23,  23,  24,  24,  25,  25,  21,  29,  25,  33,  23,\n",
            "         33,  31,  25,  34,  26,  18,  25,  30,  23,  21,  25,  24,  24,\n",
            "         23,  22],\n",
            "       [ 23,  23,  23,  24,  24,  25,  25,  26,  31,  26,  19,  27,  32,\n",
            "         16,  22,  24,  32,  24,  22,  28,  30,  24,  21,  25,  25,  24,\n",
            "         24,  23],\n",
            "       [ 24,  24,  24,  25,  26,  26,  27,  27,  22,  32,  26,  34,  25,\n",
            "         54, 109,  44,  20,  25,  35,  31,  25,  28,  26,  25,  26,  25,\n",
            "         25,  24],\n",
            "       [ 25,  26,  26,  27,  27,  28,  28,  28,  28,  22,  51,  16,  56,\n",
            "        121,  59, 110,  37,  27,  36,  31,  25,  31,  27,  27,  27,  27,\n",
            "         26,  26],\n",
            "       [ 27,  28,  28,  29,  29,  30,  30,  30,  36,  37,  24,  21, 125,\n",
            "         51,   6,  97,  82,  32,  25,  30,  31,  33,  24,  31,  29,  29,\n",
            "         28,  28],\n",
            "       [ 29,  29,  30,  30,  31,  31,  32,  32,  36,  20,  36,  62, 108,\n",
            "         18,  47,  38, 114,  43,  26,  31,  34,  36,  25,  34,  31,  31,\n",
            "         30,  30],\n",
            "       [ 30,  30,  31,  31,  32,  32,  33,  33,  25,  45,  18, 101,  90,\n",
            "         21,  37,  25, 119,  53,  38,  33,  31,  40,  30,  34,  32,  32,\n",
            "         31,  31],\n",
            "       [ 30,  33,  33,  28,  33,  37,  32,  34,  34,  37,  34, 137,  49,\n",
            "         30,  37,  26,  79, 122,  21,  32,  39,  37,  32,  31,  36,  30,\n",
            "         34,  33],\n",
            "       [ 33,  42,  29,  35,  31,  31,  34,  38,  35,  28,  73, 124,  29,\n",
            "         34,  28,  32,  51, 139,  43,  31,  35,  32,  40,  36,  33,  33,\n",
            "         36,  32],\n",
            "       [ 26,  38,  27,  44,  39,  34,  37,  31,  38,  32, 131,  94,  20,\n",
            "         42,  35,  40,  26, 133,  90,  26,  37,  32,  40,  38,  36,  33,\n",
            "         36,  36],\n",
            "       [ 42,  33,  33,  25,  20,  24,  32,  27,  19,  28, 133,  38,  13,\n",
            "         23,  30,  21,  15,  85, 117,  15,  34,  29,  23,  28,  32,  26,\n",
            "         28,  29],\n",
            "       [ 35,  24,  86,  72,  63,  70,  75,  72,  71,  93, 143,  74,  80,\n",
            "         69,  79,  74,  66,  92, 136,  68,  72,  73,  66,  71,  65,  77,\n",
            "         61,  26],\n",
            "       [ 35,  37, 168, 184, 156, 152, 144, 139, 138, 154, 147, 143, 146,\n",
            "        129, 128, 141, 142, 150, 150, 153, 134, 139, 148, 148, 156, 194,\n",
            "        123,  32],\n",
            "       [ 34,  20, 148, 197, 138, 131, 123, 121, 121, 118, 109, 123, 120,\n",
            "        113, 109, 121, 117, 121, 100, 125, 114, 111, 126, 130, 144, 203,\n",
            "         93,  18],\n",
            "       [ 39,  11, 121, 209, 137, 131, 122, 114, 119, 100, 122, 108, 109,\n",
            "        115, 118, 112, 114, 109, 109, 107, 123, 108, 116, 128, 150, 206,\n",
            "         65,  22],\n",
            "       [ 40,  17,  97, 207, 139, 142, 128, 110, 104, 104, 104, 105, 107,\n",
            "        110, 112, 114, 108, 105, 101,  99, 103, 112, 124, 133, 157, 190,\n",
            "         51,  22],\n",
            "       [ 36,  18,  85, 207, 148, 144, 132, 118, 108, 107, 106, 105, 105,\n",
            "        106, 107, 107, 102, 102, 101, 102, 107, 117, 128, 136, 164, 186,\n",
            "         44,  27],\n",
            "       [ 34,  23,  66, 202, 157, 140, 130, 118, 117, 116, 114, 112, 110,\n",
            "        110, 110, 110, 106, 108, 110, 112, 115, 122, 131, 139, 173, 173,\n",
            "         31,  33],\n",
            "       [ 33,  29,  45, 189, 166, 138, 131, 122, 122, 121, 119, 117, 116,\n",
            "        115, 116, 116, 113, 115, 117, 117, 117, 121, 128, 134, 178, 150,\n",
            "         18,  36],\n",
            "       [ 31,  33,  29, 167, 176, 143, 139, 133, 132, 131, 129, 127, 126,\n",
            "        126, 126, 127, 125, 127, 128, 128, 128, 130, 136, 141, 182, 122,\n",
            "         13,  36],\n",
            "       [ 34,  39,  21, 139, 180, 147, 146, 141, 139, 138, 135, 133, 131,\n",
            "        130, 130, 131, 130, 131, 133, 135, 138, 142, 146, 149, 184,  95,\n",
            "         17,  35],\n",
            "       [ 35,  42,  19, 114, 185, 159, 161, 156, 151, 149, 147, 144, 142,\n",
            "        142, 141, 142, 141, 142, 144, 148, 153, 155, 155, 155, 183,  71,\n",
            "         25,  33],\n",
            "       [ 31,  39,  19, 103, 195, 177, 185, 182, 183, 182, 180, 178, 177,\n",
            "        177, 177, 177, 177, 177, 179, 183, 186, 186, 181, 177, 181,  57,\n",
            "         30,  30],\n",
            "       [ 33,  36,  26,  57, 129, 159, 148, 150, 152, 152, 152, 152, 151,\n",
            "        150, 149, 149, 147, 147, 147, 147, 147, 147, 147, 147, 110,  43,\n",
            "         22,  41],\n",
            "       [ 37,  45,  34,  28,  39,  33,  20,  28,  27,  27,  27,  27,  27,\n",
            "         26,  25,  25,  25,  25,  25,  25,  25,  25,  25,  25,  37,  26,\n",
            "         37,  44],\n",
            "       [ 28,  35,  34,  34,  38,  37,  36,  42,  36,  36,  36,  36,  35,\n",
            "         35,  34,  34,  36,  36,  36,  36,  36,  36,  36,  36,  30,  37,\n",
            "         43,  37],\n",
            "       [ 41,  35,  33,  35,  37,  38,  35,  29,  33,  33,  33,  33,  33,\n",
            "         32,  32,  31,  33,  33,  33,  33,  33,  33,  33,  33,  43,  38,\n",
            "         31,  31]], dtype=uint8), array([[  0,   8,   0,   6,   2,   2,   0,   0,   0,  49,  80,  53,  19,\n",
            "         16,  25,  24,  76,  40,   1,   0,   1,   0,   1,   4,   6,   0,\n",
            "          2,   0],\n",
            "       [  6,   0,   1,   0,   7,   3,  30,  87, 168, 213, 238, 210, 169,\n",
            "        158, 176, 194, 237, 220, 165,  98,  39,   6,   4,   0,   0,   0,\n",
            "          5,   2],\n",
            "       [  0,   2,   1,  27,  97, 177, 227, 249, 253, 252, 249, 243, 238,\n",
            "        238, 238, 237, 238, 249, 248, 250, 243, 204, 135,  64,   8,   0,\n",
            "          4,   1],\n",
            "       [ 12,   0,  11, 200, 249, 251, 242, 245, 235, 231, 229, 231, 232,\n",
            "        231, 230, 231, 239, 243, 237, 240, 240, 240, 255, 255,  89,   0,\n",
            "          2,   0],\n",
            "       [  0,   6,  77, 249, 235, 239, 234, 228, 231, 239, 244, 241, 233,\n",
            "        230, 234, 238, 235, 233, 228, 238, 238, 231, 237, 240, 196,  17,\n",
            "          1,   0],\n",
            "       [  0,   5, 166, 255, 232, 232, 226, 235, 235, 233, 229, 228, 231,\n",
            "        236, 233, 228, 231, 239, 235, 232, 229, 228, 236, 233, 255,  61,\n",
            "          0,   1],\n",
            "       [  0,  15, 216, 230, 235, 240, 233, 233, 233, 233, 234, 233, 231,\n",
            "        231, 235, 240, 235, 241, 231, 224, 227, 234, 238, 225, 255, 126,\n",
            "          0,   3],\n",
            "       [  0,  53, 251, 224, 234, 234, 238, 232, 235, 228, 227, 231, 232,\n",
            "        226, 226, 231, 229, 235, 229, 230, 231, 232, 235, 226, 245, 183,\n",
            "          2,   2],\n",
            "       [  0,  98, 255, 221, 231, 251, 237, 236, 233, 229, 225, 224, 227,\n",
            "        229, 229, 228, 226, 225, 223, 232, 232, 251, 230, 225, 231, 223,\n",
            "         17,   0],\n",
            "       [  4, 138, 255, 227, 233, 227, 241, 233, 231, 227, 223, 222, 224,\n",
            "        226, 225, 224, 225, 224, 223, 233, 239, 245, 231, 226, 228, 233,\n",
            "         48,   0],\n",
            "       [  0, 178, 242, 227, 234, 193, 244, 235, 229, 226, 222, 220, 221,\n",
            "        222, 222, 220, 223, 223, 223, 233, 248, 230, 226, 230, 223, 245,\n",
            "         95,   0],\n",
            "       [  3, 207, 231, 224, 236, 163, 241, 238, 227, 224, 222, 220, 221,\n",
            "        221, 221, 221, 221, 223, 225, 231, 252, 205, 210, 238, 220, 250,\n",
            "        139,   0],\n",
            "       [ 24, 226, 234, 225, 239, 138, 232, 239, 226, 225, 223, 222, 223,\n",
            "        223, 224, 224, 220, 225, 226, 229, 252, 177, 179, 247, 223, 246,\n",
            "        173,   0],\n",
            "       [ 45, 229, 235, 226, 239, 110, 226, 243, 227, 226, 225, 225, 224,\n",
            "        225, 226, 226, 221, 226, 227, 228, 252, 154, 139, 252, 229, 237,\n",
            "        200,   6],\n",
            "       [ 64, 230, 234, 227, 235,  76, 222, 243, 228, 227, 227, 226, 225,\n",
            "        225, 225, 226, 224, 227, 226, 229, 255, 141, 101, 252, 234, 226,\n",
            "        222,  29],\n",
            "       [ 84, 239, 238, 232, 231,  50, 217, 237, 228, 228, 227, 226, 224,\n",
            "        223, 224, 224, 226, 228, 225, 230, 255, 136,  78, 251, 235, 220,\n",
            "        235,  48],\n",
            "       [107, 244, 226, 250, 212,  27, 220, 237, 231, 231, 230, 228, 225,\n",
            "        224, 225, 226, 224, 231, 234, 224, 254, 139,  38, 255, 233, 222,\n",
            "        239,  69],\n",
            "       [115, 243, 226, 251, 205,  19, 216, 240, 229, 229, 228, 226, 225,\n",
            "        224, 225, 226, 228, 230, 231, 227, 255, 147,  24, 241, 238, 225,\n",
            "        240,  82],\n",
            "       [127, 242, 225, 252, 193,   9, 211, 242, 228, 228, 228, 226, 225,\n",
            "        225, 226, 228, 230, 227, 227, 229, 255, 155,   6, 221, 243, 226,\n",
            "        242, 101],\n",
            "       [136, 242, 224, 254, 176,   3, 208, 241, 229, 229, 229, 227, 226,\n",
            "        226, 227, 228, 228, 224, 223, 228, 250, 162,   0, 208, 244, 225,\n",
            "        244, 120],\n",
            "       [134, 243, 224, 255, 151,   2, 206, 239, 230, 230, 229, 227, 225,\n",
            "        224, 225, 226, 227, 225, 224, 227, 242, 168,   0, 193, 245, 223,\n",
            "        248, 131],\n",
            "       [121, 246, 226, 255, 117,   2, 207, 239, 230, 230, 229, 226, 224,\n",
            "        223, 224, 225, 228, 229, 227, 227, 240, 174,   5, 161, 249, 222,\n",
            "        250, 129],\n",
            "       [103, 249, 229, 251,  82,   0, 209, 243, 230, 230, 229, 227, 226,\n",
            "        225, 226, 227, 230, 231, 228, 227, 243, 178,   3, 110, 253, 220,\n",
            "        248, 114],\n",
            "       [ 91, 252, 231, 249,  59,   0, 210, 247, 231, 231, 231, 230, 228,\n",
            "        228, 229, 231, 230, 230, 226, 227, 247, 179,   0,  69, 255, 218,\n",
            "        245, 100],\n",
            "       [ 74, 236, 231, 235,  23,   1, 214, 240, 229, 229, 230, 230, 229,\n",
            "        227, 228, 230, 227, 226, 222, 230, 253, 171,   0,  20, 228, 232,\n",
            "        236,  78],\n",
            "       [  0, 215, 251, 190,   0,   1, 217, 240, 235, 235, 235, 234, 231,\n",
            "        227, 225, 225, 232, 230, 225, 231, 252, 163,   5,   6, 168, 254,\n",
            "        229,  15],\n",
            "       [  2, 193, 251, 161,   2,   0, 189, 250, 238, 242, 246, 249, 250,\n",
            "        250, 249, 249, 246, 248, 245, 240, 245, 142,  13,   0, 155, 244,\n",
            "        196,  14],\n",
            "       [  2,  47,  53,  30,   4,   0,  46,  52,  72,  80,  90,  98, 104,\n",
            "        110, 112, 112, 108,  99,  80,  60,  72,  17,   0,   1,  45,  84,\n",
            "         62,   0]], dtype=uint8)]\n"
          ],
          "name": "stdout"
        },
        {
          "output_type": "display_data",
          "data": {
            "image/png": "[encoded data removed]",
            "text/plain": [
              "<Figure size 576x576 with 3 Axes>"
            ]
          },
          "metadata": {
            "tags": []
          }
        }
      ]
    },
    {
      "cell_type": "markdown",
      "metadata": {
        "colab_type": "text",
        "id": "gxLbb6Kkd2dJ"
      },
      "source": [
        "### 3.2 Test your network on the real images and display the classification results. (5 marks)"
      ]
    },
    {
      "cell_type": "code",
      "metadata": {
        "id": "hZ-j3Q0bVjdu",
        "colab_type": "code",
        "colab": {
          "base_uri": "https://localhost:8080/",
          "height": 377
        },
        "outputId": "ff0b8e6a-4ff5-4d44-c667-bd6c59a33d24"
      },
      "source": [
        "# model.eval()\n",
        "# expand_image = np.expand_dims(np.array(own_images),axis=0)\n",
        "# expand_image = np.expand_dims(expand_image,axis=0)\n",
        "# image_tensor = torch.from_numpy(expand_image)\n",
        "# print(image_tensor.shape)\n",
        "# image_arr = []\n",
        "# for i in range(3):\n",
        "#   image_arr=np.array(np.array(own_images[i]))\n",
        "# print(image_arr)\n",
        "\n",
        "# expand_image = np.expand_dims(np.array(image_arr),axis=0)\n",
        "# image_tensor = torch.from_numpy(expand_image)\n",
        "# print(tensor_image.shape)\n",
        "\n",
        "x = np.array(own_images)\n",
        "x.shape\n",
        "model.eval()\n",
        "with torch.no_grad():\n",
        "  for inputs in image_tensor:\n",
        "    inputs = inputs.to(device)\n",
        "    print(inputs.shape)\n",
        "    outputs = model(inputs)\n"
      ],
      "execution_count": 104,
      "outputs": [
        {
          "output_type": "stream",
          "text": [
            "torch.Size([1, 1, 28, 28])\n"
          ],
          "name": "stdout"
        },
        {
          "output_type": "error",
          "ename": "RuntimeError",
          "evalue": "ignored",
          "traceback": [
            "\u001b[0;31m---------------------------------------------------------------------------\u001b[0m",
            "\u001b[0;31mRuntimeError\u001b[0m                              Traceback (most recent call last)",
            "\u001b[0;32m<ipython-input-104-0eca491660d4>\u001b[0m in \u001b[0;36m<module>\u001b[0;34m()\u001b[0m\n\u001b[1;32m      7\u001b[0m     \u001b[0minputs\u001b[0m \u001b[0;34m=\u001b[0m \u001b[0minputs\u001b[0m\u001b[0;34m.\u001b[0m\u001b[0mto\u001b[0m\u001b[0;34m(\u001b[0m\u001b[0mdevice\u001b[0m\u001b[0;34m)\u001b[0m\u001b[0;34m\u001b[0m\u001b[0;34m\u001b[0m\u001b[0m\n\u001b[1;32m      8\u001b[0m     \u001b[0mprint\u001b[0m\u001b[0;34m(\u001b[0m\u001b[0minputs\u001b[0m\u001b[0;34m.\u001b[0m\u001b[0mshape\u001b[0m\u001b[0;34m)\u001b[0m\u001b[0;34m\u001b[0m\u001b[0;34m\u001b[0m\u001b[0m\n\u001b[0;32m----> 9\u001b[0;31m     \u001b[0moutputs\u001b[0m \u001b[0;34m=\u001b[0m \u001b[0mmodel\u001b[0m\u001b[0;34m(\u001b[0m\u001b[0minputs\u001b[0m\u001b[0;34m)\u001b[0m\u001b[0;34m\u001b[0m\u001b[0;34m\u001b[0m\u001b[0m\n\u001b[0m",
            "\u001b[0;32m/usr/local/lib/python3.6/dist-packages/torch/nn/modules/module.py\u001b[0m in \u001b[0;36m__call__\u001b[0;34m(self, *input, **kwargs)\u001b[0m\n\u001b[1;32m    530\u001b[0m             \u001b[0mresult\u001b[0m \u001b[0;34m=\u001b[0m \u001b[0mself\u001b[0m\u001b[0;34m.\u001b[0m\u001b[0m_slow_forward\u001b[0m\u001b[0;34m(\u001b[0m\u001b[0;34m*\u001b[0m\u001b[0minput\u001b[0m\u001b[0;34m,\u001b[0m \u001b[0;34m**\u001b[0m\u001b[0mkwargs\u001b[0m\u001b[0;34m)\u001b[0m\u001b[0;34m\u001b[0m\u001b[0;34m\u001b[0m\u001b[0m\n\u001b[1;32m    531\u001b[0m         \u001b[0;32melse\u001b[0m\u001b[0;34m:\u001b[0m\u001b[0;34m\u001b[0m\u001b[0;34m\u001b[0m\u001b[0m\n\u001b[0;32m--> 532\u001b[0;31m             \u001b[0mresult\u001b[0m \u001b[0;34m=\u001b[0m \u001b[0mself\u001b[0m\u001b[0;34m.\u001b[0m\u001b[0mforward\u001b[0m\u001b[0;34m(\u001b[0m\u001b[0;34m*\u001b[0m\u001b[0minput\u001b[0m\u001b[0;34m,\u001b[0m \u001b[0;34m**\u001b[0m\u001b[0mkwargs\u001b[0m\u001b[0;34m)\u001b[0m\u001b[0;34m\u001b[0m\u001b[0;34m\u001b[0m\u001b[0m\n\u001b[0m\u001b[1;32m    533\u001b[0m         \u001b[0;32mfor\u001b[0m \u001b[0mhook\u001b[0m \u001b[0;32min\u001b[0m \u001b[0mself\u001b[0m\u001b[0;34m.\u001b[0m\u001b[0m_forward_hooks\u001b[0m\u001b[0;34m.\u001b[0m\u001b[0mvalues\u001b[0m\u001b[0;34m(\u001b[0m\u001b[0;34m)\u001b[0m\u001b[0;34m:\u001b[0m\u001b[0;34m\u001b[0m\u001b[0;34m\u001b[0m\u001b[0m\n\u001b[1;32m    534\u001b[0m             \u001b[0mhook_result\u001b[0m \u001b[0;34m=\u001b[0m \u001b[0mhook\u001b[0m\u001b[0;34m(\u001b[0m\u001b[0mself\u001b[0m\u001b[0;34m,\u001b[0m \u001b[0minput\u001b[0m\u001b[0;34m,\u001b[0m \u001b[0mresult\u001b[0m\u001b[0;34m)\u001b[0m\u001b[0;34m\u001b[0m\u001b[0;34m\u001b[0m\u001b[0m\n",
            "\u001b[0;32m<ipython-input-6-78f16e6726d1>\u001b[0m in \u001b[0;36mforward\u001b[0;34m(self, x)\u001b[0m\n\u001b[1;32m     14\u001b[0m \u001b[0;34m\u001b[0m\u001b[0m\n\u001b[1;32m     15\u001b[0m     \u001b[0;32mdef\u001b[0m \u001b[0mforward\u001b[0m\u001b[0;34m(\u001b[0m\u001b[0mself\u001b[0m\u001b[0;34m,\u001b[0m\u001b[0mx\u001b[0m\u001b[0;34m)\u001b[0m\u001b[0;34m:\u001b[0m\u001b[0;34m\u001b[0m\u001b[0;34m\u001b[0m\u001b[0m\n\u001b[0;32m---> 16\u001b[0;31m         \u001b[0mx\u001b[0m \u001b[0;34m=\u001b[0m \u001b[0mself\u001b[0m\u001b[0;34m.\u001b[0m\u001b[0mpool\u001b[0m\u001b[0;34m(\u001b[0m\u001b[0mF\u001b[0m\u001b[0;34m.\u001b[0m\u001b[0mrelu\u001b[0m\u001b[0;34m(\u001b[0m\u001b[0mself\u001b[0m\u001b[0;34m.\u001b[0m\u001b[0mconv1\u001b[0m\u001b[0;34m(\u001b[0m\u001b[0mx\u001b[0m\u001b[0;34m)\u001b[0m\u001b[0;34m)\u001b[0m\u001b[0;34m)\u001b[0m\u001b[0;34m\u001b[0m\u001b[0;34m\u001b[0m\u001b[0m\n\u001b[0m\u001b[1;32m     17\u001b[0m         \u001b[0mx\u001b[0m \u001b[0;34m=\u001b[0m \u001b[0mself\u001b[0m\u001b[0;34m.\u001b[0m\u001b[0mpool\u001b[0m\u001b[0;34m(\u001b[0m\u001b[0mF\u001b[0m\u001b[0;34m.\u001b[0m\u001b[0mrelu\u001b[0m\u001b[0;34m(\u001b[0m\u001b[0mself\u001b[0m\u001b[0;34m.\u001b[0m\u001b[0mconv2\u001b[0m\u001b[0;34m(\u001b[0m\u001b[0mx\u001b[0m\u001b[0;34m)\u001b[0m\u001b[0;34m)\u001b[0m\u001b[0;34m)\u001b[0m\u001b[0;34m\u001b[0m\u001b[0;34m\u001b[0m\u001b[0m\n\u001b[1;32m     18\u001b[0m         \u001b[0mx\u001b[0m \u001b[0;34m=\u001b[0m \u001b[0mx\u001b[0m\u001b[0;34m.\u001b[0m\u001b[0mview\u001b[0m\u001b[0;34m(\u001b[0m\u001b[0;34m-\u001b[0m\u001b[0;36m1\u001b[0m\u001b[0;34m,\u001b[0m \u001b[0;36m256\u001b[0m\u001b[0;34m)\u001b[0m\u001b[0;34m\u001b[0m\u001b[0;34m\u001b[0m\u001b[0m\n",
            "\u001b[0;32m/usr/local/lib/python3.6/dist-packages/torch/nn/modules/module.py\u001b[0m in \u001b[0;36m__call__\u001b[0;34m(self, *input, **kwargs)\u001b[0m\n\u001b[1;32m    530\u001b[0m             \u001b[0mresult\u001b[0m \u001b[0;34m=\u001b[0m \u001b[0mself\u001b[0m\u001b[0;34m.\u001b[0m\u001b[0m_slow_forward\u001b[0m\u001b[0;34m(\u001b[0m\u001b[0;34m*\u001b[0m\u001b[0minput\u001b[0m\u001b[0;34m,\u001b[0m \u001b[0;34m**\u001b[0m\u001b[0mkwargs\u001b[0m\u001b[0;34m)\u001b[0m\u001b[0;34m\u001b[0m\u001b[0;34m\u001b[0m\u001b[0m\n\u001b[1;32m    531\u001b[0m         \u001b[0;32melse\u001b[0m\u001b[0;34m:\u001b[0m\u001b[0;34m\u001b[0m\u001b[0;34m\u001b[0m\u001b[0m\n\u001b[0;32m--> 532\u001b[0;31m             \u001b[0mresult\u001b[0m \u001b[0;34m=\u001b[0m \u001b[0mself\u001b[0m\u001b[0;34m.\u001b[0m\u001b[0mforward\u001b[0m\u001b[0;34m(\u001b[0m\u001b[0;34m*\u001b[0m\u001b[0minput\u001b[0m\u001b[0;34m,\u001b[0m \u001b[0;34m**\u001b[0m\u001b[0mkwargs\u001b[0m\u001b[0;34m)\u001b[0m\u001b[0;34m\u001b[0m\u001b[0;34m\u001b[0m\u001b[0m\n\u001b[0m\u001b[1;32m    533\u001b[0m         \u001b[0;32mfor\u001b[0m \u001b[0mhook\u001b[0m \u001b[0;32min\u001b[0m \u001b[0mself\u001b[0m\u001b[0;34m.\u001b[0m\u001b[0m_forward_hooks\u001b[0m\u001b[0;34m.\u001b[0m\u001b[0mvalues\u001b[0m\u001b[0;34m(\u001b[0m\u001b[0;34m)\u001b[0m\u001b[0;34m:\u001b[0m\u001b[0;34m\u001b[0m\u001b[0;34m\u001b[0m\u001b[0m\n\u001b[1;32m    534\u001b[0m             \u001b[0mhook_result\u001b[0m \u001b[0;34m=\u001b[0m \u001b[0mhook\u001b[0m\u001b[0;34m(\u001b[0m\u001b[0mself\u001b[0m\u001b[0;34m,\u001b[0m \u001b[0minput\u001b[0m\u001b[0;34m,\u001b[0m \u001b[0mresult\u001b[0m\u001b[0;34m)\u001b[0m\u001b[0;34m\u001b[0m\u001b[0;34m\u001b[0m\u001b[0m\n",
            "\u001b[0;32m/usr/local/lib/python3.6/dist-packages/torch/nn/modules/conv.py\u001b[0m in \u001b[0;36mforward\u001b[0;34m(self, input)\u001b[0m\n\u001b[1;32m    343\u001b[0m \u001b[0;34m\u001b[0m\u001b[0m\n\u001b[1;32m    344\u001b[0m     \u001b[0;32mdef\u001b[0m \u001b[0mforward\u001b[0m\u001b[0;34m(\u001b[0m\u001b[0mself\u001b[0m\u001b[0;34m,\u001b[0m \u001b[0minput\u001b[0m\u001b[0;34m)\u001b[0m\u001b[0;34m:\u001b[0m\u001b[0;34m\u001b[0m\u001b[0;34m\u001b[0m\u001b[0m\n\u001b[0;32m--> 345\u001b[0;31m         \u001b[0;32mreturn\u001b[0m \u001b[0mself\u001b[0m\u001b[0;34m.\u001b[0m\u001b[0mconv2d_forward\u001b[0m\u001b[0;34m(\u001b[0m\u001b[0minput\u001b[0m\u001b[0;34m,\u001b[0m \u001b[0mself\u001b[0m\u001b[0;34m.\u001b[0m\u001b[0mweight\u001b[0m\u001b[0;34m)\u001b[0m\u001b[0;34m\u001b[0m\u001b[0;34m\u001b[0m\u001b[0m\n\u001b[0m\u001b[1;32m    346\u001b[0m \u001b[0;34m\u001b[0m\u001b[0m\n\u001b[1;32m    347\u001b[0m \u001b[0;32mclass\u001b[0m \u001b[0mConv3d\u001b[0m\u001b[0;34m(\u001b[0m\u001b[0m_ConvNd\u001b[0m\u001b[0;34m)\u001b[0m\u001b[0;34m:\u001b[0m\u001b[0;34m\u001b[0m\u001b[0;34m\u001b[0m\u001b[0m\n",
            "\u001b[0;32m/usr/local/lib/python3.6/dist-packages/torch/nn/modules/conv.py\u001b[0m in \u001b[0;36mconv2d_forward\u001b[0;34m(self, input, weight)\u001b[0m\n\u001b[1;32m    340\u001b[0m                             _pair(0), self.dilation, self.groups)\n\u001b[1;32m    341\u001b[0m         return F.conv2d(input, weight, self.bias, self.stride,\n\u001b[0;32m--> 342\u001b[0;31m                         self.padding, self.dilation, self.groups)\n\u001b[0m\u001b[1;32m    343\u001b[0m \u001b[0;34m\u001b[0m\u001b[0m\n\u001b[1;32m    344\u001b[0m     \u001b[0;32mdef\u001b[0m \u001b[0mforward\u001b[0m\u001b[0;34m(\u001b[0m\u001b[0mself\u001b[0m\u001b[0;34m,\u001b[0m \u001b[0minput\u001b[0m\u001b[0;34m)\u001b[0m\u001b[0;34m:\u001b[0m\u001b[0;34m\u001b[0m\u001b[0;34m\u001b[0m\u001b[0m\n",
            "\u001b[0;31mRuntimeError\u001b[0m: Input type (torch.cuda.ByteTensor) and weight type (torch.cuda.FloatTensor) should be the same"
          ]
        }
      ]
    },
    {
      "cell_type": "markdown",
      "metadata": {
        "colab_type": "text",
        "id": "nQwpTkaRd2dL"
      },
      "source": [
        "### 3.3 Discuss the classification results. (5 marks)\n",
        "\n",
        "Does the model work? Is there anyway to improve the real life performance of the model?"
      ]
    },
    {
      "cell_type": "code",
      "metadata": {
        "colab_type": "code",
        "id": "AOZe7dEHd2dM",
        "colab": {}
      },
      "source": [
        ""
      ],
      "execution_count": 0,
      "outputs": []
    }
  ]
}