{
  "nbformat": 4,
  "nbformat_minor": 0,
  "metadata": {
    "kernelspec": {
      "name": "python3",
      "display_name": "Python 3"
    },
    "language_info": {
      "codemirror_mode": {
        "name": "ipython",
        "version": 3
      },
      "file_extension": ".py",
      "mimetype": "text/x-python",
      "name": "python",
      "nbconvert_exporter": "python",
      "pygments_lexer": "ipython3",
      "version": "3.6.9-final"
    },
    "colab": {
      "name": "coursework_2.ipynb",
      "provenance": []
    },
    "accelerator": "GPU",
    "widgets": {
      "application/vnd.jupyter.widget-state+json": {
        "6853b651b8294ec7b66383bf58541f8a": {
          "model_module": "@jupyter-widgets/controls",
          "model_name": "HBoxModel",
          "state": {
            "_view_name": "HBoxView",
            "_dom_classes": [],
            "_model_name": "HBoxModel",
            "_view_module": "@jupyter-widgets/controls",
            "_model_module_version": "1.5.0",
            "_view_count": null,
            "_view_module_version": "1.5.0",
            "box_style": "",
            "layout": "IPY_MODEL_8a141187bacc4ae7970da9306e99e19e",
            "_model_module": "@jupyter-widgets/controls",
            "children": [
              "IPY_MODEL_c2bc1565b64b4168b6206a32832141f1",
              "IPY_MODEL_c21bbf6b74fa413bacfbc2d30e6f04c6"
            ]
          }
        },
        "8a141187bacc4ae7970da9306e99e19e": {
          "model_module": "@jupyter-widgets/base",
          "model_name": "LayoutModel",
          "state": {
            "_view_name": "LayoutView",
            "grid_template_rows": null,
            "right": null,
            "justify_content": null,
            "_view_module": "@jupyter-widgets/base",
            "overflow": null,
            "_model_module_version": "1.2.0",
            "_view_count": null,
            "flex_flow": null,
            "width": null,
            "min_width": null,
            "border": null,
            "align_items": null,
            "bottom": null,
            "_model_module": "@jupyter-widgets/base",
            "top": null,
            "grid_column": null,
            "overflow_y": null,
            "overflow_x": null,
            "grid_auto_flow": null,
            "grid_area": null,
            "grid_template_columns": null,
            "flex": null,
            "_model_name": "LayoutModel",
            "justify_items": null,
            "grid_row": null,
            "max_height": null,
            "align_content": null,
            "visibility": null,
            "align_self": null,
            "height": null,
            "min_height": null,
            "padding": null,
            "grid_auto_rows": null,
            "grid_gap": null,
            "max_width": null,
            "order": null,
            "_view_module_version": "1.2.0",
            "grid_template_areas": null,
            "object_position": null,
            "object_fit": null,
            "grid_auto_columns": null,
            "margin": null,
            "display": null,
            "left": null
          }
        },
        "c2bc1565b64b4168b6206a32832141f1": {
          "model_module": "@jupyter-widgets/controls",
          "model_name": "IntProgressModel",
          "state": {
            "_view_name": "ProgressView",
            "style": "IPY_MODEL_d5d4f568e7aa4345b673e52b97922488",
            "_dom_classes": [],
            "description": "",
            "_model_name": "IntProgressModel",
            "bar_style": "success",
            "max": 1,
            "_view_module": "@jupyter-widgets/controls",
            "_model_module_version": "1.5.0",
            "value": 1,
            "_view_count": null,
            "_view_module_version": "1.5.0",
            "orientation": "horizontal",
            "min": 0,
            "description_tooltip": null,
            "_model_module": "@jupyter-widgets/controls",
            "layout": "IPY_MODEL_50d77d44c89346bb88990d4a7ff1dd99"
          }
        },
        "c21bbf6b74fa413bacfbc2d30e6f04c6": {
          "model_module": "@jupyter-widgets/controls",
          "model_name": "HTMLModel",
          "state": {
            "_view_name": "HTMLView",
            "style": "IPY_MODEL_0ce3f14a006e40d2a95ded98bdc8c541",
            "_dom_classes": [],
            "description": "",
            "_model_name": "HTMLModel",
            "placeholder": "​",
            "_view_module": "@jupyter-widgets/controls",
            "_model_module_version": "1.5.0",
            "value": "26427392it [00:09, 2778658.90it/s]",
            "_view_count": null,
            "_view_module_version": "1.5.0",
            "description_tooltip": null,
            "_model_module": "@jupyter-widgets/controls",
            "layout": "IPY_MODEL_f821caef2f0848fdac636ca40c997d19"
          }
        },
        "d5d4f568e7aa4345b673e52b97922488": {
          "model_module": "@jupyter-widgets/controls",
          "model_name": "ProgressStyleModel",
          "state": {
            "_view_name": "StyleView",
            "_model_name": "ProgressStyleModel",
            "description_width": "",
            "_view_module": "@jupyter-widgets/base",
            "_model_module_version": "1.5.0",
            "_view_count": null,
            "_view_module_version": "1.2.0",
            "bar_color": null,
            "_model_module": "@jupyter-widgets/controls"
          }
        },
        "50d77d44c89346bb88990d4a7ff1dd99": {
          "model_module": "@jupyter-widgets/base",
          "model_name": "LayoutModel",
          "state": {
            "_view_name": "LayoutView",
            "grid_template_rows": null,
            "right": null,
            "justify_content": null,
            "_view_module": "@jupyter-widgets/base",
            "overflow": null,
            "_model_module_version": "1.2.0",
            "_view_count": null,
            "flex_flow": null,
            "width": null,
            "min_width": null,
            "border": null,
            "align_items": null,
            "bottom": null,
            "_model_module": "@jupyter-widgets/base",
            "top": null,
            "grid_column": null,
            "overflow_y": null,
            "overflow_x": null,
            "grid_auto_flow": null,
            "grid_area": null,
            "grid_template_columns": null,
            "flex": null,
            "_model_name": "LayoutModel",
            "justify_items": null,
            "grid_row": null,
            "max_height": null,
            "align_content": null,
            "visibility": null,
            "align_self": null,
            "height": null,
            "min_height": null,
            "padding": null,
            "grid_auto_rows": null,
            "grid_gap": null,
            "max_width": null,
            "order": null,
            "_view_module_version": "1.2.0",
            "grid_template_areas": null,
            "object_position": null,
            "object_fit": null,
            "grid_auto_columns": null,
            "margin": null,
            "display": null,
            "left": null
          }
        },
        "0ce3f14a006e40d2a95ded98bdc8c541": {
          "model_module": "@jupyter-widgets/controls",
          "model_name": "DescriptionStyleModel",
          "state": {
            "_view_name": "StyleView",
            "_model_name": "DescriptionStyleModel",
            "description_width": "",
            "_view_module": "@jupyter-widgets/base",
            "_model_module_version": "1.5.0",
            "_view_count": null,
            "_view_module_version": "1.2.0",
            "_model_module": "@jupyter-widgets/controls"
          }
        },
        "f821caef2f0848fdac636ca40c997d19": {
          "model_module": "@jupyter-widgets/base",
          "model_name": "LayoutModel",
          "state": {
            "_view_name": "LayoutView",
            "grid_template_rows": null,
            "right": null,
            "justify_content": null,
            "_view_module": "@jupyter-widgets/base",
            "overflow": null,
            "_model_module_version": "1.2.0",
            "_view_count": null,
            "flex_flow": null,
            "width": null,
            "min_width": null,
            "border": null,
            "align_items": null,
            "bottom": null,
            "_model_module": "@jupyter-widgets/base",
            "top": null,
            "grid_column": null,
            "overflow_y": null,
            "overflow_x": null,
            "grid_auto_flow": null,
            "grid_area": null,
            "grid_template_columns": null,
            "flex": null,
            "_model_name": "LayoutModel",
            "justify_items": null,
            "grid_row": null,
            "max_height": null,
            "align_content": null,
            "visibility": null,
            "align_self": null,
            "height": null,
            "min_height": null,
            "padding": null,
            "grid_auto_rows": null,
            "grid_gap": null,
            "max_width": null,
            "order": null,
            "_view_module_version": "1.2.0",
            "grid_template_areas": null,
            "object_position": null,
            "object_fit": null,
            "grid_auto_columns": null,
            "margin": null,
            "display": null,
            "left": null
          }
        },
        "7a81e7168c3244d384a02b4cc9aa96d9": {
          "model_module": "@jupyter-widgets/controls",
          "model_name": "HBoxModel",
          "state": {
            "_view_name": "HBoxView",
            "_dom_classes": [],
            "_model_name": "HBoxModel",
            "_view_module": "@jupyter-widgets/controls",
            "_model_module_version": "1.5.0",
            "_view_count": null,
            "_view_module_version": "1.5.0",
            "box_style": "",
            "layout": "IPY_MODEL_4b81e9a6382d4bb78c586e335a563c71",
            "_model_module": "@jupyter-widgets/controls",
            "children": [
              "IPY_MODEL_756f29d5f21e403b8cf155de524d906d",
              "IPY_MODEL_3956f227033044ceaff4a6207dd2678c"
            ]
          }
        },
        "4b81e9a6382d4bb78c586e335a563c71": {
          "model_module": "@jupyter-widgets/base",
          "model_name": "LayoutModel",
          "state": {
            "_view_name": "LayoutView",
            "grid_template_rows": null,
            "right": null,
            "justify_content": null,
            "_view_module": "@jupyter-widgets/base",
            "overflow": null,
            "_model_module_version": "1.2.0",
            "_view_count": null,
            "flex_flow": null,
            "width": null,
            "min_width": null,
            "border": null,
            "align_items": null,
            "bottom": null,
            "_model_module": "@jupyter-widgets/base",
            "top": null,
            "grid_column": null,
            "overflow_y": null,
            "overflow_x": null,
            "grid_auto_flow": null,
            "grid_area": null,
            "grid_template_columns": null,
            "flex": null,
            "_model_name": "LayoutModel",
            "justify_items": null,
            "grid_row": null,
            "max_height": null,
            "align_content": null,
            "visibility": null,
            "align_self": null,
            "height": null,
            "min_height": null,
            "padding": null,
            "grid_auto_rows": null,
            "grid_gap": null,
            "max_width": null,
            "order": null,
            "_view_module_version": "1.2.0",
            "grid_template_areas": null,
            "object_position": null,
            "object_fit": null,
            "grid_auto_columns": null,
            "margin": null,
            "display": null,
            "left": null
          }
        },
        "756f29d5f21e403b8cf155de524d906d": {
          "model_module": "@jupyter-widgets/controls",
          "model_name": "IntProgressModel",
          "state": {
            "_view_name": "ProgressView",
            "style": "IPY_MODEL_a8a424bf57cd42098a9e646a45522928",
            "_dom_classes": [],
            "description": "",
            "_model_name": "IntProgressModel",
            "bar_style": "success",
            "max": 1,
            "_view_module": "@jupyter-widgets/controls",
            "_model_module_version": "1.5.0",
            "value": 1,
            "_view_count": null,
            "_view_module_version": "1.5.0",
            "orientation": "horizontal",
            "min": 0,
            "description_tooltip": null,
            "_model_module": "@jupyter-widgets/controls",
            "layout": "IPY_MODEL_4e76a9b116b047e5ab0d6bfb3df315f6"
          }
        },
        "3956f227033044ceaff4a6207dd2678c": {
          "model_module": "@jupyter-widgets/controls",
          "model_name": "HTMLModel",
          "state": {
            "_view_name": "HTMLView",
            "style": "IPY_MODEL_05f89700dbbd4444b17c70c9244ac744",
            "_dom_classes": [],
            "description": "",
            "_model_name": "HTMLModel",
            "placeholder": "​",
            "_view_module": "@jupyter-widgets/controls",
            "_model_module_version": "1.5.0",
            "value": "32768it [00:01, 30483.69it/s]",
            "_view_count": null,
            "_view_module_version": "1.5.0",
            "description_tooltip": null,
            "_model_module": "@jupyter-widgets/controls",
            "layout": "IPY_MODEL_05f0185f316b42038bfe23801ba83443"
          }
        },
        "a8a424bf57cd42098a9e646a45522928": {
          "model_module": "@jupyter-widgets/controls",
          "model_name": "ProgressStyleModel",
          "state": {
            "_view_name": "StyleView",
            "_model_name": "ProgressStyleModel",
            "description_width": "",
            "_view_module": "@jupyter-widgets/base",
            "_model_module_version": "1.5.0",
            "_view_count": null,
            "_view_module_version": "1.2.0",
            "bar_color": null,
            "_model_module": "@jupyter-widgets/controls"
          }
        },
        "4e76a9b116b047e5ab0d6bfb3df315f6": {
          "model_module": "@jupyter-widgets/base",
          "model_name": "LayoutModel",
          "state": {
            "_view_name": "LayoutView",
            "grid_template_rows": null,
            "right": null,
            "justify_content": null,
            "_view_module": "@jupyter-widgets/base",
            "overflow": null,
            "_model_module_version": "1.2.0",
            "_view_count": null,
            "flex_flow": null,
            "width": null,
            "min_width": null,
            "border": null,
            "align_items": null,
            "bottom": null,
            "_model_module": "@jupyter-widgets/base",
            "top": null,
            "grid_column": null,
            "overflow_y": null,
            "overflow_x": null,
            "grid_auto_flow": null,
            "grid_area": null,
            "grid_template_columns": null,
            "flex": null,
            "_model_name": "LayoutModel",
            "justify_items": null,
            "grid_row": null,
            "max_height": null,
            "align_content": null,
            "visibility": null,
            "align_self": null,
            "height": null,
            "min_height": null,
            "padding": null,
            "grid_auto_rows": null,
            "grid_gap": null,
            "max_width": null,
            "order": null,
            "_view_module_version": "1.2.0",
            "grid_template_areas": null,
            "object_position": null,
            "object_fit": null,
            "grid_auto_columns": null,
            "margin": null,
            "display": null,
            "left": null
          }
        },
        "05f89700dbbd4444b17c70c9244ac744": {
          "model_module": "@jupyter-widgets/controls",
          "model_name": "DescriptionStyleModel",
          "state": {
            "_view_name": "StyleView",
            "_model_name": "DescriptionStyleModel",
            "description_width": "",
            "_view_module": "@jupyter-widgets/base",
            "_model_module_version": "1.5.0",
            "_view_count": null,
            "_view_module_version": "1.2.0",
            "_model_module": "@jupyter-widgets/controls"
          }
        },
        "05f0185f316b42038bfe23801ba83443": {
          "model_module": "@jupyter-widgets/base",
          "model_name": "LayoutModel",
          "state": {
            "_view_name": "LayoutView",
            "grid_template_rows": null,
            "right": null,
            "justify_content": null,
            "_view_module": "@jupyter-widgets/base",
            "overflow": null,
            "_model_module_version": "1.2.0",
            "_view_count": null,
            "flex_flow": null,
            "width": null,
            "min_width": null,
            "border": null,
            "align_items": null,
            "bottom": null,
            "_model_module": "@jupyter-widgets/base",
            "top": null,
            "grid_column": null,
            "overflow_y": null,
            "overflow_x": null,
            "grid_auto_flow": null,
            "grid_area": null,
            "grid_template_columns": null,
            "flex": null,
            "_model_name": "LayoutModel",
            "justify_items": null,
            "grid_row": null,
            "max_height": null,
            "align_content": null,
            "visibility": null,
            "align_self": null,
            "height": null,
            "min_height": null,
            "padding": null,
            "grid_auto_rows": null,
            "grid_gap": null,
            "max_width": null,
            "order": null,
            "_view_module_version": "1.2.0",
            "grid_template_areas": null,
            "object_position": null,
            "object_fit": null,
            "grid_auto_columns": null,
            "margin": null,
            "display": null,
            "left": null
          }
        },
        "aa5741c4bb0444b5937709bf90258ce4": {
          "model_module": "@jupyter-widgets/controls",
          "model_name": "HBoxModel",
          "state": {
            "_view_name": "HBoxView",
            "_dom_classes": [],
            "_model_name": "HBoxModel",
            "_view_module": "@jupyter-widgets/controls",
            "_model_module_version": "1.5.0",
            "_view_count": null,
            "_view_module_version": "1.5.0",
            "box_style": "",
            "layout": "IPY_MODEL_adf9917c5e73441cb1f32f409d494ea0",
            "_model_module": "@jupyter-widgets/controls",
            "children": [
              "IPY_MODEL_326c8381242f46c18b43f009b0606204",
              "IPY_MODEL_922e723612a6492d81b138e948f1e71d"
            ]
          }
        },
        "adf9917c5e73441cb1f32f409d494ea0": {
          "model_module": "@jupyter-widgets/base",
          "model_name": "LayoutModel",
          "state": {
            "_view_name": "LayoutView",
            "grid_template_rows": null,
            "right": null,
            "justify_content": null,
            "_view_module": "@jupyter-widgets/base",
            "overflow": null,
            "_model_module_version": "1.2.0",
            "_view_count": null,
            "flex_flow": null,
            "width": null,
            "min_width": null,
            "border": null,
            "align_items": null,
            "bottom": null,
            "_model_module": "@jupyter-widgets/base",
            "top": null,
            "grid_column": null,
            "overflow_y": null,
            "overflow_x": null,
            "grid_auto_flow": null,
            "grid_area": null,
            "grid_template_columns": null,
            "flex": null,
            "_model_name": "LayoutModel",
            "justify_items": null,
            "grid_row": null,
            "max_height": null,
            "align_content": null,
            "visibility": null,
            "align_self": null,
            "height": null,
            "min_height": null,
            "padding": null,
            "grid_auto_rows": null,
            "grid_gap": null,
            "max_width": null,
            "order": null,
            "_view_module_version": "1.2.0",
            "grid_template_areas": null,
            "object_position": null,
            "object_fit": null,
            "grid_auto_columns": null,
            "margin": null,
            "display": null,
            "left": null
          }
        },
        "326c8381242f46c18b43f009b0606204": {
          "model_module": "@jupyter-widgets/controls",
          "model_name": "IntProgressModel",
          "state": {
            "_view_name": "ProgressView",
            "style": "IPY_MODEL_682faeb2d408414b839a697cdcdafeaf",
            "_dom_classes": [],
            "description": "",
            "_model_name": "IntProgressModel",
            "bar_style": "success",
            "max": 1,
            "_view_module": "@jupyter-widgets/controls",
            "_model_module_version": "1.5.0",
            "value": 1,
            "_view_count": null,
            "_view_module_version": "1.5.0",
            "orientation": "horizontal",
            "min": 0,
            "description_tooltip": null,
            "_model_module": "@jupyter-widgets/controls",
            "layout": "IPY_MODEL_d5ea182ea554465d97068b81e70d70a0"
          }
        },
        "922e723612a6492d81b138e948f1e71d": {
          "model_module": "@jupyter-widgets/controls",
          "model_name": "HTMLModel",
          "state": {
            "_view_name": "HTMLView",
            "style": "IPY_MODEL_e7d02c896af64d3790effb61a66bae28",
            "_dom_classes": [],
            "description": "",
            "_model_name": "HTMLModel",
            "placeholder": "​",
            "_view_module": "@jupyter-widgets/controls",
            "_model_module_version": "1.5.0",
            "value": "4423680it [00:02, 1599439.02it/s]",
            "_view_count": null,
            "_view_module_version": "1.5.0",
            "description_tooltip": null,
            "_model_module": "@jupyter-widgets/controls",
            "layout": "IPY_MODEL_621306b1af0d493db74debd6d549cf4f"
          }
        },
        "682faeb2d408414b839a697cdcdafeaf": {
          "model_module": "@jupyter-widgets/controls",
          "model_name": "ProgressStyleModel",
          "state": {
            "_view_name": "StyleView",
            "_model_name": "ProgressStyleModel",
            "description_width": "",
            "_view_module": "@jupyter-widgets/base",
            "_model_module_version": "1.5.0",
            "_view_count": null,
            "_view_module_version": "1.2.0",
            "bar_color": null,
            "_model_module": "@jupyter-widgets/controls"
          }
        },
        "d5ea182ea554465d97068b81e70d70a0": {
          "model_module": "@jupyter-widgets/base",
          "model_name": "LayoutModel",
          "state": {
            "_view_name": "LayoutView",
            "grid_template_rows": null,
            "right": null,
            "justify_content": null,
            "_view_module": "@jupyter-widgets/base",
            "overflow": null,
            "_model_module_version": "1.2.0",
            "_view_count": null,
            "flex_flow": null,
            "width": null,
            "min_width": null,
            "border": null,
            "align_items": null,
            "bottom": null,
            "_model_module": "@jupyter-widgets/base",
            "top": null,
            "grid_column": null,
            "overflow_y": null,
            "overflow_x": null,
            "grid_auto_flow": null,
            "grid_area": null,
            "grid_template_columns": null,
            "flex": null,
            "_model_name": "LayoutModel",
            "justify_items": null,
            "grid_row": null,
            "max_height": null,
            "align_content": null,
            "visibility": null,
            "align_self": null,
            "height": null,
            "min_height": null,
            "padding": null,
            "grid_auto_rows": null,
            "grid_gap": null,
            "max_width": null,
            "order": null,
            "_view_module_version": "1.2.0",
            "grid_template_areas": null,
            "object_position": null,
            "object_fit": null,
            "grid_auto_columns": null,
            "margin": null,
            "display": null,
            "left": null
          }
        },
        "e7d02c896af64d3790effb61a66bae28": {
          "model_module": "@jupyter-widgets/controls",
          "model_name": "DescriptionStyleModel",
          "state": {
            "_view_name": "StyleView",
            "_model_name": "DescriptionStyleModel",
            "description_width": "",
            "_view_module": "@jupyter-widgets/base",
            "_model_module_version": "1.5.0",
            "_view_count": null,
            "_view_module_version": "1.2.0",
            "_model_module": "@jupyter-widgets/controls"
          }
        },
        "621306b1af0d493db74debd6d549cf4f": {
          "model_module": "@jupyter-widgets/base",
          "model_name": "LayoutModel",
          "state": {
            "_view_name": "LayoutView",
            "grid_template_rows": null,
            "right": null,
            "justify_content": null,
            "_view_module": "@jupyter-widgets/base",
            "overflow": null,
            "_model_module_version": "1.2.0",
            "_view_count": null,
            "flex_flow": null,
            "width": null,
            "min_width": null,
            "border": null,
            "align_items": null,
            "bottom": null,
            "_model_module": "@jupyter-widgets/base",
            "top": null,
            "grid_column": null,
            "overflow_y": null,
            "overflow_x": null,
            "grid_auto_flow": null,
            "grid_area": null,
            "grid_template_columns": null,
            "flex": null,
            "_model_name": "LayoutModel",
            "justify_items": null,
            "grid_row": null,
            "max_height": null,
            "align_content": null,
            "visibility": null,
            "align_self": null,
            "height": null,
            "min_height": null,
            "padding": null,
            "grid_auto_rows": null,
            "grid_gap": null,
            "max_width": null,
            "order": null,
            "_view_module_version": "1.2.0",
            "grid_template_areas": null,
            "object_position": null,
            "object_fit": null,
            "grid_auto_columns": null,
            "margin": null,
            "display": null,
            "left": null
          }
        },
        "ae0e6162d8b2481daa9b00cb00e07d9f": {
          "model_module": "@jupyter-widgets/controls",
          "model_name": "HBoxModel",
          "state": {
            "_view_name": "HBoxView",
            "_dom_classes": [],
            "_model_name": "HBoxModel",
            "_view_module": "@jupyter-widgets/controls",
            "_model_module_version": "1.5.0",
            "_view_count": null,
            "_view_module_version": "1.5.0",
            "box_style": "",
            "layout": "IPY_MODEL_767a42f98e0a448ab0f143cecfe415ae",
            "_model_module": "@jupyter-widgets/controls",
            "children": [
              "IPY_MODEL_1c5d972504fe47eb986986eb1022e110",
              "IPY_MODEL_b23f33b2b77f4de4ac3a8b06bb1db937"
            ]
          }
        },
        "767a42f98e0a448ab0f143cecfe415ae": {
          "model_module": "@jupyter-widgets/base",
          "model_name": "LayoutModel",
          "state": {
            "_view_name": "LayoutView",
            "grid_template_rows": null,
            "right": null,
            "justify_content": null,
            "_view_module": "@jupyter-widgets/base",
            "overflow": null,
            "_model_module_version": "1.2.0",
            "_view_count": null,
            "flex_flow": null,
            "width": null,
            "min_width": null,
            "border": null,
            "align_items": null,
            "bottom": null,
            "_model_module": "@jupyter-widgets/base",
            "top": null,
            "grid_column": null,
            "overflow_y": null,
            "overflow_x": null,
            "grid_auto_flow": null,
            "grid_area": null,
            "grid_template_columns": null,
            "flex": null,
            "_model_name": "LayoutModel",
            "justify_items": null,
            "grid_row": null,
            "max_height": null,
            "align_content": null,
            "visibility": null,
            "align_self": null,
            "height": null,
            "min_height": null,
            "padding": null,
            "grid_auto_rows": null,
            "grid_gap": null,
            "max_width": null,
            "order": null,
            "_view_module_version": "1.2.0",
            "grid_template_areas": null,
            "object_position": null,
            "object_fit": null,
            "grid_auto_columns": null,
            "margin": null,
            "display": null,
            "left": null
          }
        },
        "1c5d972504fe47eb986986eb1022e110": {
          "model_module": "@jupyter-widgets/controls",
          "model_name": "IntProgressModel",
          "state": {
            "_view_name": "ProgressView",
            "style": "IPY_MODEL_983b264ece834a228eca190027ae813f",
            "_dom_classes": [],
            "description": "",
            "_model_name": "IntProgressModel",
            "bar_style": "success",
            "max": 1,
            "_view_module": "@jupyter-widgets/controls",
            "_model_module_version": "1.5.0",
            "value": 1,
            "_view_count": null,
            "_view_module_version": "1.5.0",
            "orientation": "horizontal",
            "min": 0,
            "description_tooltip": null,
            "_model_module": "@jupyter-widgets/controls",
            "layout": "IPY_MODEL_4daade0008ec4731a1cb62756cdce66c"
          }
        },
        "b23f33b2b77f4de4ac3a8b06bb1db937": {
          "model_module": "@jupyter-widgets/controls",
          "model_name": "HTMLModel",
          "state": {
            "_view_name": "HTMLView",
            "style": "IPY_MODEL_d5f3a34a2877406d92a201b20147c8ed",
            "_dom_classes": [],
            "description": "",
            "_model_name": "HTMLModel",
            "placeholder": "​",
            "_view_module": "@jupyter-widgets/controls",
            "_model_module_version": "1.5.0",
            "value": "8192it [00:00, 13046.89it/s]",
            "_view_count": null,
            "_view_module_version": "1.5.0",
            "description_tooltip": null,
            "_model_module": "@jupyter-widgets/controls",
            "layout": "IPY_MODEL_9018539b7ae94f8cb3fc22cebac45910"
          }
        },
        "983b264ece834a228eca190027ae813f": {
          "model_module": "@jupyter-widgets/controls",
          "model_name": "ProgressStyleModel",
          "state": {
            "_view_name": "StyleView",
            "_model_name": "ProgressStyleModel",
            "description_width": "",
            "_view_module": "@jupyter-widgets/base",
            "_model_module_version": "1.5.0",
            "_view_count": null,
            "_view_module_version": "1.2.0",
            "bar_color": null,
            "_model_module": "@jupyter-widgets/controls"
          }
        },
        "4daade0008ec4731a1cb62756cdce66c": {
          "model_module": "@jupyter-widgets/base",
          "model_name": "LayoutModel",
          "state": {
            "_view_name": "LayoutView",
            "grid_template_rows": null,
            "right": null,
            "justify_content": null,
            "_view_module": "@jupyter-widgets/base",
            "overflow": null,
            "_model_module_version": "1.2.0",
            "_view_count": null,
            "flex_flow": null,
            "width": null,
            "min_width": null,
            "border": null,
            "align_items": null,
            "bottom": null,
            "_model_module": "@jupyter-widgets/base",
            "top": null,
            "grid_column": null,
            "overflow_y": null,
            "overflow_x": null,
            "grid_auto_flow": null,
            "grid_area": null,
            "grid_template_columns": null,
            "flex": null,
            "_model_name": "LayoutModel",
            "justify_items": null,
            "grid_row": null,
            "max_height": null,
            "align_content": null,
            "visibility": null,
            "align_self": null,
            "height": null,
            "min_height": null,
            "padding": null,
            "grid_auto_rows": null,
            "grid_gap": null,
            "max_width": null,
            "order": null,
            "_view_module_version": "1.2.0",
            "grid_template_areas": null,
            "object_position": null,
            "object_fit": null,
            "grid_auto_columns": null,
            "margin": null,
            "display": null,
            "left": null
          }
        },
        "d5f3a34a2877406d92a201b20147c8ed": {
          "model_module": "@jupyter-widgets/controls",
          "model_name": "DescriptionStyleModel",
          "state": {
            "_view_name": "StyleView",
            "_model_name": "DescriptionStyleModel",
            "description_width": "",
            "_view_module": "@jupyter-widgets/base",
            "_model_module_version": "1.5.0",
            "_view_count": null,
            "_view_module_version": "1.2.0",
            "_model_module": "@jupyter-widgets/controls"
          }
        },
        "9018539b7ae94f8cb3fc22cebac45910": {
          "model_module": "@jupyter-widgets/base",
          "model_name": "LayoutModel",
          "state": {
            "_view_name": "LayoutView",
            "grid_template_rows": null,
            "right": null,
            "justify_content": null,
            "_view_module": "@jupyter-widgets/base",
            "overflow": null,
            "_model_module_version": "1.2.0",
            "_view_count": null,
            "flex_flow": null,
            "width": null,
            "min_width": null,
            "border": null,
            "align_items": null,
            "bottom": null,
            "_model_module": "@jupyter-widgets/base",
            "top": null,
            "grid_column": null,
            "overflow_y": null,
            "overflow_x": null,
            "grid_auto_flow": null,
            "grid_area": null,
            "grid_template_columns": null,
            "flex": null,
            "_model_name": "LayoutModel",
            "justify_items": null,
            "grid_row": null,
            "max_height": null,
            "align_content": null,
            "visibility": null,
            "align_self": null,
            "height": null,
            "min_height": null,
            "padding": null,
            "grid_auto_rows": null,
            "grid_gap": null,
            "max_width": null,
            "order": null,
            "_view_module_version": "1.2.0",
            "grid_template_areas": null,
            "object_position": null,
            "object_fit": null,
            "grid_auto_columns": null,
            "margin": null,
            "display": null,
            "left": null
          }
        }
      }
    }
  },
  "cells": [
    {
      "cell_type": "markdown",
      "metadata": {
        "colab_type": "text",
        "id": "_DJOzhSJd2cV"
      },
      "source": [
        "# Coursework 2: Image Classification\n",
        "\n",
        "In this coursework, we are going to develop a neural network model for for image classification.\n",
        "\n",
        "What to do?\n",
        "\n",
        "* The coursework includes both coding questions and written questions. Please read both the text and code comment in this notebook to get an idea what you are supposed to implement.\n",
        "\n",
        "* First, run `jupyter-lab` or `jupyter-notebook` in the terminal to start the Jupyter notebook.\n",
        "\n",
        "* Then, complete and run the code to get the results.\n",
        "\n",
        "* Finally, please export (File | Export Notebook As...) or print (using the print function of your browser) the notebook as a pdf file, which contains your code, results and answers, and upload the pdf file onto Cate.\n",
        "\n",
        "Dependencies:\n",
        "\n",
        "* If you work on a college computer in the Computer Lab, where Ubuntu 18.04 is installed by default, you can use the following virtual environment for your work, where required Python packages are already installed.\n",
        "\n",
        "`source /vol/bitbucket/wbai/virt/computer_vision_2020/bin/activate`\n",
        "\n",
        "When you no longer need the virtual environment, you can exit it by running `deactivate`.\n",
        "\n",
        "* If you work on your own laptop using either Anaconda or plain Python, you can install new packages (such as numpy, imageio etc) running `conda install [package_name]` or `pip3 install [package_name]` in the terminal."
      ]
    },
    {
      "cell_type": "code",
      "metadata": {
        "id": "D-e_ZNSKVjcm",
        "colab_type": "code",
        "colab": {}
      },
      "source": [
        "# Import libraries (provided)\n",
        "import numpy as np \n",
        "import matplotlib.pyplot as plt\n",
        "from matplotlib import image\n",
        "import time\n",
        "import random\n",
        "from sklearn import metrics\n",
        "import torch\n",
        "import torch.nn as nn\n",
        "import torch.nn.functional as F\n",
        "import torch.optim as optim\n",
        "import torchvision\n",
        "import torchvision.transforms as transforms\n",
        "import seaborn as sn\n",
        "import pandas as pd\n",
        "from PIL import Image\n",
        "import cv2"
      ],
      "execution_count": 0,
      "outputs": []
    },
    {
      "cell_type": "markdown",
      "metadata": {
        "colab_type": "text",
        "id": "w2XzAVb_d2cc"
      },
      "source": [
        "# 1. Load and visualise data. (25 marks)\n",
        "\n",
        "Throughout this coursework. you will be working with the Fashion-MNIST dataset. If you are interested, you may find information about the dataset in this paper.\n",
        "\n",
        "[1] Han Xiao, Kashif Rasul, Roland Vollgraf. Fashion-MNIST: A novel image dataset for benchmarking machine learning algorithms. [arXiv:1708.07747](https://arxiv.org/abs/1708.07747)\n",
        "\n",
        "The dataset is prepared in a similar way to MNIST. It is split into a set of 60,000 training images and a set of 10,000 test images. The images are of size 28x28 pixels.\n",
        "\n",
        "There are in total 10 label classes, which are:\n",
        "* 0: T-shirt/top\n",
        "* 1: Trousers\n",
        "* 2: Pullover\n",
        "* 3: Dress\n",
        "* 4: Coat\n",
        "* 5: Sandal\n",
        "* 6: Shirt\n",
        "* 7: Sneaker\n",
        "* 8: Bag\n",
        "* 9: Ankle boot"
      ]
    },
    {
      "cell_type": "code",
      "metadata": {
        "id": "P3nKBLY1Vjct",
        "colab_type": "code",
        "colab": {
          "base_uri": "https://localhost:8080/",
          "height": 400,
          "referenced_widgets": [
            "6853b651b8294ec7b66383bf58541f8a",
            "8a141187bacc4ae7970da9306e99e19e",
            "c2bc1565b64b4168b6206a32832141f1",
            "c21bbf6b74fa413bacfbc2d30e6f04c6",
            "d5d4f568e7aa4345b673e52b97922488",
            "50d77d44c89346bb88990d4a7ff1dd99",
            "0ce3f14a006e40d2a95ded98bdc8c541",
            "f821caef2f0848fdac636ca40c997d19",
            "7a81e7168c3244d384a02b4cc9aa96d9",
            "4b81e9a6382d4bb78c586e335a563c71",
            "756f29d5f21e403b8cf155de524d906d",
            "3956f227033044ceaff4a6207dd2678c",
            "a8a424bf57cd42098a9e646a45522928",
            "4e76a9b116b047e5ab0d6bfb3df315f6",
            "05f89700dbbd4444b17c70c9244ac744",
            "05f0185f316b42038bfe23801ba83443",
            "aa5741c4bb0444b5937709bf90258ce4",
            "adf9917c5e73441cb1f32f409d494ea0",
            "326c8381242f46c18b43f009b0606204",
            "922e723612a6492d81b138e948f1e71d",
            "682faeb2d408414b839a697cdcdafeaf",
            "d5ea182ea554465d97068b81e70d70a0",
            "e7d02c896af64d3790effb61a66bae28",
            "621306b1af0d493db74debd6d549cf4f",
            "ae0e6162d8b2481daa9b00cb00e07d9f",
            "767a42f98e0a448ab0f143cecfe415ae",
            "1c5d972504fe47eb986986eb1022e110",
            "b23f33b2b77f4de4ac3a8b06bb1db937",
            "983b264ece834a228eca190027ae813f",
            "4daade0008ec4731a1cb62756cdce66c",
            "d5f3a34a2877406d92a201b20147c8ed",
            "9018539b7ae94f8cb3fc22cebac45910"
          ]
        },
        "outputId": "09501e87-6e9a-497e-a17d-1047eac85cbb"
      },
      "source": [
        "# Load data (provided)\n",
        "train_set = torchvision.datasets.FashionMNIST(root='.', download=True, train=True,transform=transforms.ToTensor())\n",
        "train_image = np.array(train_set.data)\n",
        "train_label = np.array(train_set.targets)\n",
        "class_name = train_set.classes\n",
        "\n",
        "test_set = torchvision.datasets.FashionMNIST(root='.', download=True, train=False,transform=transforms.ToTensor())\n",
        "test_image = np.array(test_set.data)\n",
        "test_label = np.array(test_set.targets)"
      ],
      "execution_count": 2,
      "outputs": [
        {
          "output_type": "stream",
          "text": [
            "Downloading http://fashion-mnist.s3-website.eu-central-1.amazonaws.com/train-images-idx3-ubyte.gz to ./FashionMNIST/raw/train-images-idx3-ubyte.gz\n"
          ],
          "name": "stdout"
        },
        {
          "output_type": "display_data",
          "data": {
            "application/vnd.jupyter.widget-view+json": {
              "model_id": "6853b651b8294ec7b66383bf58541f8a",
              "version_minor": 0,
              "version_major": 2
            },
            "text/plain": [
              "HBox(children=(IntProgress(value=1, bar_style='info', max=1), HTML(value='')))"
            ]
          },
          "metadata": {
            "tags": []
          }
        },
        {
          "output_type": "stream",
          "text": [
            "\n",
            "Extracting ./FashionMNIST/raw/train-images-idx3-ubyte.gz to ./FashionMNIST/raw\n",
            "Downloading http://fashion-mnist.s3-website.eu-central-1.amazonaws.com/train-labels-idx1-ubyte.gz to ./FashionMNIST/raw/train-labels-idx1-ubyte.gz\n"
          ],
          "name": "stdout"
        },
        {
          "output_type": "display_data",
          "data": {
            "application/vnd.jupyter.widget-view+json": {
              "model_id": "7a81e7168c3244d384a02b4cc9aa96d9",
              "version_minor": 0,
              "version_major": 2
            },
            "text/plain": [
              "HBox(children=(IntProgress(value=1, bar_style='info', max=1), HTML(value='')))"
            ]
          },
          "metadata": {
            "tags": []
          }
        },
        {
          "output_type": "stream",
          "text": [
            "\n",
            "Extracting ./FashionMNIST/raw/train-labels-idx1-ubyte.gz to ./FashionMNIST/raw\n",
            "Downloading http://fashion-mnist.s3-website.eu-central-1.amazonaws.com/t10k-images-idx3-ubyte.gz to ./FashionMNIST/raw/t10k-images-idx3-ubyte.gz\n"
          ],
          "name": "stdout"
        },
        {
          "output_type": "display_data",
          "data": {
            "application/vnd.jupyter.widget-view+json": {
              "model_id": "aa5741c4bb0444b5937709bf90258ce4",
              "version_minor": 0,
              "version_major": 2
            },
            "text/plain": [
              "HBox(children=(IntProgress(value=1, bar_style='info', max=1), HTML(value='')))"
            ]
          },
          "metadata": {
            "tags": []
          }
        },
        {
          "output_type": "stream",
          "text": [
            "\n",
            "Extracting ./FashionMNIST/raw/t10k-images-idx3-ubyte.gz to ./FashionMNIST/raw\n",
            "Downloading http://fashion-mnist.s3-website.eu-central-1.amazonaws.com/t10k-labels-idx1-ubyte.gz to ./FashionMNIST/raw/t10k-labels-idx1-ubyte.gz\n"
          ],
          "name": "stdout"
        },
        {
          "output_type": "display_data",
          "data": {
            "application/vnd.jupyter.widget-view+json": {
              "model_id": "ae0e6162d8b2481daa9b00cb00e07d9f",
              "version_minor": 0,
              "version_major": 2
            },
            "text/plain": [
              "HBox(children=(IntProgress(value=1, bar_style='info', max=1), HTML(value='')))"
            ]
          },
          "metadata": {
            "tags": []
          }
        },
        {
          "output_type": "stream",
          "text": [
            "\n",
            "Extracting ./FashionMNIST/raw/t10k-labels-idx1-ubyte.gz to ./FashionMNIST/raw\n",
            "Processing...\n",
            "Done!\n"
          ],
          "name": "stdout"
        }
      ]
    },
    {
      "cell_type": "markdown",
      "metadata": {
        "colab_type": "text",
        "id": "vgNGDwe8d2cg"
      },
      "source": [
        "### 1.1 Display the dimension of the training and test sets. (5 marks)"
      ]
    },
    {
      "cell_type": "code",
      "metadata": {
        "id": "xKR0HMWRVjcy",
        "colab_type": "code",
        "colab": {
          "base_uri": "https://localhost:8080/",
          "height": 205
        },
        "outputId": "c8c51254-356d-491c-8eea-e27515b80e89"
      },
      "source": [
        "print(f\"the dimension of the training set is: {train_set.data.shape}\")\n",
        "print(class_name)\n",
        "print(train_set)\n",
        "print(train_label)\n",
        "\n",
        "print(f\"the dimension of the test set is: {test_set.data.shape}\")"
      ],
      "execution_count": 3,
      "outputs": [
        {
          "output_type": "stream",
          "text": [
            "the dimension of the training set is: torch.Size([60000, 28, 28])\n",
            "['T-shirt/top', 'Trouser', 'Pullover', 'Dress', 'Coat', 'Sandal', 'Shirt', 'Sneaker', 'Bag', 'Ankle boot']\n",
            "Dataset FashionMNIST\n",
            "    Number of datapoints: 60000\n",
            "    Root location: .\n",
            "    Split: Train\n",
            "    StandardTransform\n",
            "Transform: ToTensor()\n",
            "[9 0 0 ... 3 0 5]\n",
            "the dimension of the test set is: torch.Size([10000, 28, 28])\n"
          ],
          "name": "stdout"
        }
      ]
    },
    {
      "cell_type": "markdown",
      "metadata": {
        "colab_type": "text",
        "id": "gibxYb7Qd2ck"
      },
      "source": [
        "### 1.2 Visualise sample images for each of the 10 classes. (10 marks)\n",
        "\n",
        "Please plot 10 rows x 10 columns of images. Each row shows 10 samples for one class. For example, row 1 shows 10 `T-shirt/top` images, row 2 shows 10 `Trousers` images."
      ]
    },
    {
      "cell_type": "code",
      "metadata": {
        "id": "91y0E_J4Vjc4",
        "colab_type": "code",
        "colab": {
          "base_uri": "https://localhost:8080/",
          "height": 937
        },
        "outputId": "57edd14b-9838-4ca8-d7c2-eb8d3d1943c6"
      },
      "source": [
        "N=10\n",
        "fig, axes = plt.subplots(N,N,figsize=(16,16))\n",
        "\n",
        "for row in range(N):\n",
        "  col=0\n",
        "  for i in range(200):\n",
        "    if col==10:\n",
        "      break\n",
        "    elif (train_label[i]==row):\n",
        "        axes[row,col].axis('off')\n",
        "        axes[row,col].set_title(class_name[row])\n",
        "        axes[row,col].imshow(train_image[i],cmap='gray')\n",
        "        fig.subplots_adjust(hspace=1) \n",
        "        col+=1"
      ],
      "execution_count": 4,
      "outputs": [
        {
          "output_type": "display_data",
          "data": {
            "image/png": "[encoded data removed]",
            "text/plain": [
              "<Figure size 1152x1152 with 100 Axes>"
            ]
          },
          "metadata": {
            "tags": []
          }
        }
      ]
    },
    {
      "cell_type": "markdown",
      "metadata": {
        "colab_type": "text",
        "id": "E4d3dkPTd2co"
      },
      "source": [
        "### 1.3 Display the number of training samples for each class. (5 marks)"
      ]
    },
    {
      "cell_type": "code",
      "metadata": {
        "id": "AFeM5yLVVjc9",
        "colab_type": "code",
        "colab": {
          "base_uri": "https://localhost:8080/",
          "height": 54
        },
        "outputId": "14ea348a-a8f0-408e-c616-c31916f74aa1"
      },
      "source": [
        "label, counts = np.unique(train_label, return_counts=True)\n",
        "old = dict(zip(label, counts))\n",
        "\n",
        "for i in range(10):\n",
        "    new = dict(zip(class_name, list(old.values())))\n",
        "\n",
        "print(new)\n"
      ],
      "execution_count": 5,
      "outputs": [
        {
          "output_type": "stream",
          "text": [
            "{'T-shirt/top': 6000, 'Trouser': 6000, 'Pullover': 6000, 'Dress': 6000, 'Coat': 6000, 'Sandal': 6000, 'Shirt': 6000, 'Sneaker': 6000, 'Bag': 6000, 'Ankle boot': 6000}\n"
          ],
          "name": "stdout"
        }
      ]
    },
    {
      "cell_type": "markdown",
      "metadata": {
        "colab_type": "text",
        "id": "3FRVUoDcd2cs"
      },
      "source": [
        "### 1.4 Discussion. (5 marks)\n",
        "Is the dataset balanced? What would happen for the image classification task if the dataset is not balanced? "
      ]
    },
    {
      "cell_type": "code",
      "metadata": {
        "colab_type": "code",
        "id": "_vxp4uSbd2ct",
        "colab": {}
      },
      "source": [
        ""
      ],
      "execution_count": 0,
      "outputs": []
    },
    {
      "cell_type": "markdown",
      "metadata": {
        "colab_type": "text",
        "id": "Lte_gzsud2cw"
      },
      "source": [
        "## 2. Image classification. (60 marks)\n",
        "\n",
        "### 2.1 Build a convolutional neural network using the `PyTorch` library to perform classification on the Fashion-MNIST dataset. (15 marks)\n",
        "\n",
        "You can use a network architecture similar to LeNet (shown below), which consists a number of convolutional layers and a few fully connected layers at the end.\n",
        "\n",
        "![](https://github.com/lengwe/Computer_Vision_2020/blob/master/coursework_2/lenet.png?raw=1)"
      ]
    },
    {
      "cell_type": "code",
      "metadata": {
        "id": "O43OExJiVjdI",
        "colab_type": "code",
        "colab": {}
      },
      "source": [
        "class Network(nn.Module):\n",
        "    def __init__(self):\n",
        "        super(Network,self).__init__()\n",
        "\n",
        "        #convolution and subsampling layers\n",
        "        self.conv1 = nn.Conv2d(1,6,kernel_size=5,stride=1,padding=0)\n",
        "        self.conv2 = nn.Conv2d(6,16,kernel_size=5,stride=1,padding=0)\n",
        "        self.pool = nn.MaxPool2d(kernel_size=2,stride=2,padding=0)\n",
        "\n",
        "        #fully connection\n",
        "        self.fc1 = nn.Linear(256, 120)\n",
        "        self.fc2 = nn.Linear(120, 84)\n",
        "        self.fc3 = nn.Linear(84, 10)\n",
        "    \n",
        "    def forward(self,x):\n",
        "        x = self.pool(F.relu(self.conv1(x)))\n",
        "        x = self.pool(F.relu(self.conv2(x)))\n",
        "        x = x.view(-1, 256)\n",
        "        x = F.relu(self.fc1(x))\n",
        "        x = F.relu(self.fc2(x))\n",
        "        x = self.fc3(x)\n",
        "        return x"
      ],
      "execution_count": 0,
      "outputs": []
    },
    {
      "cell_type": "markdown",
      "metadata": {
        "colab_type": "text",
        "id": "QrFoJkVDd2cz"
      },
      "source": [
        "### 2.2 Define the loss function, optimiser and hyper-parameters such as the learning rate, number of iterations, batch size etc. (5 marks)"
      ]
    },
    {
      "cell_type": "code",
      "metadata": {
        "id": "-hzGUuO5VjdN",
        "colab_type": "code",
        "colab": {}
      },
      "source": [
        "batch = 128\n",
        "learning_rate = 0.01\n",
        "iteration = 30\n",
        "#Setting GPU device \n",
        "device = torch.device(\"cuda\" if torch.cuda.is_available() else \"cpu\")\n",
        "model = Network().to(device)\n",
        "criterion = nn.CrossEntropyLoss()\n",
        "optimizer = optim.SGD(model.parameters(), lr=learning_rate, momentum=0.9)"
      ],
      "execution_count": 0,
      "outputs": []
    },
    {
      "cell_type": "markdown",
      "metadata": {
        "colab_type": "text",
        "id": "wHcZKNsAd2c3"
      },
      "source": [
        "### 2.3 Start model training. (20 marks)\n",
        "\n",
        "At each iteration, get a random batch of images and labels from train_image and train_label, convert them into torch tensors, feed into the network model and perform gradient descent. Please also evaluate how long it takes for training."
      ]
    },
    {
      "cell_type": "code",
      "metadata": {
        "id": "siqxtyVsVjdU",
        "colab_type": "code",
        "colab": {
          "base_uri": "https://localhost:8080/",
          "height": 800
        },
        "outputId": "f2fff831-7b17-4b45-a2db-f11318cf7106"
      },
      "source": [
        "time_start = time.process_time()\n",
        "loss_epo = []\n",
        "acc_list = []\n",
        "for epoch in range(iteration):\n",
        "    train_loader  = torch.utils.data.DataLoader(train_set,batch_size=batch, shuffle=True)\n",
        "    for i,(inputs,labels) in enumerate(train_loader,0):\n",
        "        inputs,labels = inputs.to(device),labels.to(device)\n",
        "        optimizer.zero_grad()\n",
        "        output = model(inputs)\n",
        "        loss = criterion(output,labels)\n",
        "        loss.backward() \n",
        "        optimizer.step()\n",
        "\n",
        "        #Evaluate accuracy\n",
        "        total = labels.size(0)\n",
        "        _,predicted = torch.max(output.data,1)\n",
        "        correct = (predicted == labels).sum().item()\n",
        "        acc_list.append(correct / total)\n",
        "    loss_epo.append(loss.item())\n",
        "\n",
        "    print('Epoch [{}/{}], Loss: {:.6f} Train Accuracy: {:.2f}%'.format(epoch + 1, iteration, loss.item(), (correct/total)*100))\n",
        "\n",
        "plt.plot(loss_epo)\n",
        "plt.xlabel(\"Epoch\")\n",
        "plt.ylabel(\"Loss\")\n",
        "plt.show()\n",
        "\n",
        "#Execution time \n",
        "time_elapse = time.process_time()-time_start\n",
        "minutes, seconds = divmod(int(time_elapse), 60)\n",
        "print(f'Finished Training within {minutes} min {seconds} sec')"
      ],
      "execution_count": 156,
      "outputs": [
        {
          "output_type": "stream",
          "text": [
            "Epoch [1/30], Loss: 0.516739 Train Accuracy: 81.25%\n",
            "Epoch [2/30], Loss: 0.496796 Train Accuracy: 83.33%\n",
            "Epoch [3/30], Loss: 0.574590 Train Accuracy: 79.17%\n",
            "Epoch [4/30], Loss: 0.357811 Train Accuracy: 90.62%\n",
            "Epoch [5/30], Loss: 0.572148 Train Accuracy: 80.21%\n",
            "Epoch [6/30], Loss: 0.318673 Train Accuracy: 85.42%\n",
            "Epoch [7/30], Loss: 0.377448 Train Accuracy: 86.46%\n",
            "Epoch [8/30], Loss: 0.330283 Train Accuracy: 89.58%\n",
            "Epoch [9/30], Loss: 0.394263 Train Accuracy: 80.21%\n",
            "Epoch [10/30], Loss: 0.219114 Train Accuracy: 93.75%\n",
            "Epoch [11/30], Loss: 0.255488 Train Accuracy: 88.54%\n",
            "Epoch [12/30], Loss: 0.387607 Train Accuracy: 88.54%\n",
            "Epoch [13/30], Loss: 0.245163 Train Accuracy: 92.71%\n",
            "Epoch [14/30], Loss: 0.229118 Train Accuracy: 91.67%\n",
            "Epoch [15/30], Loss: 0.208894 Train Accuracy: 90.62%\n",
            "Epoch [16/30], Loss: 0.202306 Train Accuracy: 91.67%\n",
            "Epoch [17/30], Loss: 0.267830 Train Accuracy: 93.75%\n",
            "Epoch [18/30], Loss: 0.172328 Train Accuracy: 93.75%\n",
            "Epoch [19/30], Loss: 0.297547 Train Accuracy: 88.54%\n",
            "Epoch [20/30], Loss: 0.282967 Train Accuracy: 92.71%\n",
            "Epoch [21/30], Loss: 0.135107 Train Accuracy: 96.88%\n",
            "Epoch [22/30], Loss: 0.228747 Train Accuracy: 89.58%\n",
            "Epoch [23/30], Loss: 0.212996 Train Accuracy: 92.71%\n",
            "Epoch [24/30], Loss: 0.238589 Train Accuracy: 88.54%\n",
            "Epoch [25/30], Loss: 0.182203 Train Accuracy: 92.71%\n",
            "Epoch [26/30], Loss: 0.184728 Train Accuracy: 92.71%\n",
            "Epoch [27/30], Loss: 0.230471 Train Accuracy: 90.62%\n",
            "Epoch [28/30], Loss: 0.108972 Train Accuracy: 96.88%\n",
            "Epoch [29/30], Loss: 0.279089 Train Accuracy: 87.50%\n",
            "Epoch [30/30], Loss: 0.121806 Train Accuracy: 95.83%\n"
          ],
          "name": "stdout"
        },
        {
          "output_type": "display_data",
          "data": {
            "image/png": "[encoded data removed]",
            "text/plain": [
              "<Figure size 432x288 with 1 Axes>"
            ]
          },
          "metadata": {
            "tags": []
          }
        },
        {
          "output_type": "stream",
          "text": [
            "Finished Training within 4 min 17 sec\n"
          ],
          "name": "stdout"
        }
      ]
    },
    {
      "cell_type": "markdown",
      "metadata": {
        "colab_type": "text",
        "id": "i-KzgSTUd2c6"
      },
      "source": [
        "### 2.4 Deploy the trained model onto the test set. (10 marks)\n",
        "Please also evaluate how long it takes for testing."
      ]
    },
    {
      "cell_type": "code",
      "metadata": {
        "id": "XwqYFbpJVjdZ",
        "colab_type": "code",
        "colab": {
          "base_uri": "https://localhost:8080/",
          "height": 34
        },
        "outputId": "8bbd09f0-ec00-4fd4-fb2f-b4305ad75233"
      },
      "source": [
        "test_loader = torch.utils.data.DataLoader(test_set,batch_size=batch,shuffle=True)\n",
        "model.eval()\n",
        "\n",
        "with torch.no_grad():\n",
        "  time_start = time.process_time()\n",
        "  for inputs, labels in test_loader:\n",
        "    inputs,labels = inputs.to(device),labels.to(device)\n",
        "    outputs = model(inputs)\n",
        "\n",
        "time_elapse = time.process_time()-time_start\n",
        "minutes, seconds = divmod(float(time_elapse), 60)\n",
        "print(f'Finished testing within {minutes} min {seconds} sec')"
      ],
      "execution_count": 157,
      "outputs": [
        {
          "output_type": "stream",
          "text": [
            "Finished testing within 0.0 min 1.2807782039999438 sec\n"
          ],
          "name": "stdout"
        }
      ]
    },
    {
      "cell_type": "markdown",
      "metadata": {
        "colab_type": "text",
        "id": "RMebrQw2d2c_"
      },
      "source": [
        "### 2.5 Evaluate the classification accuracy on the test set. (5 marks)"
      ]
    },
    {
      "cell_type": "code",
      "metadata": {
        "id": "cE8WZ2ryVjde",
        "colab_type": "code",
        "colab": {
          "base_uri": "https://localhost:8080/",
          "height": 34
        },
        "outputId": "813c8039-5a0f-4d7d-a4dc-e7d64e9ba235"
      },
      "source": [
        "model.eval()\n",
        "p=torch.zeros(0,dtype=torch.long, device='cpu')\n",
        "l=torch.zeros(0,dtype=torch.long, device='cpu')\n",
        "\n",
        "with torch.no_grad():\n",
        "  correct = 0\n",
        "  total = 0\n",
        "  for inputs, labels in test_loader:\n",
        "    inputs,labels = inputs.to(device),labels.to(device)\n",
        "    outputs = model(inputs)\n",
        "    _, predicted = torch.max(outputs.data, 1)\n",
        "    total += labels.size(0)\n",
        "    correct += (predicted == labels).sum().item()\n",
        "    p=torch.cat([p,predicted.view(-1).cpu()])\n",
        "    l=torch.cat([l,labels.view(-1).cpu()])\n",
        "print('The classification accuracy on the test set is: {:.3f} %'.format((correct / total) * 100))"
      ],
      "execution_count": 158,
      "outputs": [
        {
          "output_type": "stream",
          "text": [
            "The classification accuracy on the test set is: 89.570 %\n"
          ],
          "name": "stdout"
        }
      ]
    },
    {
      "cell_type": "markdown",
      "metadata": {
        "colab_type": "text",
        "id": "JXMHyDt_d2dC"
      },
      "source": [
        "### 2.6 Print out and visualise the confusion matrix. (5 marks)\n",
        "You can use relevant functions in [scikit-learn](https://scikit-learn.org/stable/modules/classes.html#module-sklearn.metrics)."
      ]
    },
    {
      "cell_type": "code",
      "metadata": {
        "id": "DQulLSxqVjdk",
        "colab_type": "code",
        "colab": {
          "base_uri": "https://localhost:8080/",
          "height": 713
        },
        "outputId": "cdfd56d6-bd83-4fee-9274-82befe170ba0"
      },
      "source": [
        "conf_matrix = metrics.confusion_matrix(l,p)\n",
        "print(conf_matrix)\n",
        "df_cm = pd.DataFrame(conf_matrix, index = [i for i in enumerate(class_name)],\n",
        "                  columns = [i for i in enumerate(class_name)])\n",
        "plt.figure(figsize = (10,7))\n",
        "sn.heatmap(df_cm,annot=True,fmt=\"d\",cmap=\"YlGnBu\",linewidth=0.02,linecolor=\"gray\")\n",
        "plt.xlabel('Predicted Labels')\n",
        "plt.ylabel('True Labels')\n",
        "plt.title('Confusion Matrix')"
      ],
      "execution_count": 152,
      "outputs": [
        {
          "output_type": "stream",
          "text": [
            "[[  0   0   0   0   0   0 431   0 569   0]\n",
            " [  0   0   0   0   0   0 752   0 248   0]\n",
            " [  0   0   0   0   0   0 217   0 783   0]\n",
            " [  0   0   0   0   0   0 871   0 129   0]\n",
            " [  0   0   0   0   0   0 442   0 558   0]\n",
            " [  0   0   0   0   0   0 995   0   5   0]\n",
            " [  0   0   0   0   0   0 273   0 727   0]\n",
            " [  0   0   0   0   0   0 996   0   4   0]\n",
            " [  0   0   0   0   0   0 611   0 389   0]\n",
            " [  0   0   0   0   0   0 661   0 339   0]]\n"
          ],
          "name": "stdout"
        },
        {
          "output_type": "execute_result",
          "data": {
            "text/plain": [
              "Text(0.5, 1, 'Confusion Matrix')"
            ]
          },
          "metadata": {
            "tags": []
          },
          "execution_count": 152
        },
        {
          "output_type": "display_data",
          "data": {
            "image/png": "[encoded data removed]",
            "text/plain": [
              "<Figure size 720x504 with 2 Axes>"
            ]
          },
          "metadata": {
            "tags": []
          }
        }
      ]
    },
    {
      "cell_type": "markdown",
      "metadata": {
        "colab_type": "text",
        "id": "BvZUQGw1d2dF"
      },
      "source": [
        "## 3. Deploy in real world. (15 marks)\n",
        "\n",
        "Take 3 photos that belongs to the 10 classes (e.g. clothes, shoes) in your real life. Use either Python or other software (Photoshop, Gimp etc) to convert the photos into grayscale, negate the intensities so that background becomes black or dark, crop the region of interest and reshape into the size of 28x28.\n",
        "\n",
        "### 3.1 Load and visualise your own images (5 marks)"
      ]
    },
    {
      "cell_type": "code",
      "metadata": {
        "id": "1VznmJMzVjdp",
        "colab_type": "code",
        "colab": {
          "base_uri": "https://localhost:8080/",
          "height": 162
        },
        "outputId": "61186017-2a91-4fb9-e893-5b97314e5d63"
      },
      "source": [
        "# ankle_boot = rgb2gray(image.imread('rsz_ankle_boots.jpg'))\n",
        "# bag = rgb2gray(image.imread('rsz_bag.jpg'))\n",
        "# pullover = rgb2gray(image.imread('rsz_pullover.jpg'))\n",
        "own_images = []\n",
        "fig = plt.figure(figsize=(8,8))\n",
        "columns=3\n",
        "rows = 1\n",
        "\n",
        "ankle_boot = cv2.imread('rsz_ankle_boots.jpg',0)\n",
        "bag = cv2.imread('rsz_bag.jpg',0)\n",
        "pullover = cv2.imread('rsz_pullover.jpg',0)\n",
        "\n",
        "# ankle_boot = Image.open('rsz_ankle_boots.jpg').convert('LA')\n",
        "# bag = Image.open('rsz_bag.jpg').convert('LA')\n",
        "# pullover = Image.open('rsz_pullover.jpg').convert('LA')\n",
        "own_images.append(ankle_boot.astype('float32'))\n",
        "own_images.append(bag.astype('float32'))\n",
        "own_images.append(pullover.astype('float32'))\n",
        "\n",
        "for i in range(1, columns*rows+1):\n",
        "    fig.add_subplot(rows, columns, i)\n",
        "    plt.axis('off')\n",
        "    plt.imshow(own_images[i-1],cmap='gray')\n",
        "plt.show()\n"
      ],
      "execution_count": 137,
      "outputs": [
        {
          "output_type": "display_data",
          "data": {
            "image/png": "[encoded data removed]",
            "text/plain": [
              "<Figure size 576x576 with 3 Axes>"
            ]
          },
          "metadata": {
            "tags": []
          }
        }
      ]
    },
    {
      "cell_type": "markdown",
      "metadata": {
        "colab_type": "text",
        "id": "gxLbb6Kkd2dJ"
      },
      "source": [
        "### 3.2 Test your network on the real images and display the classification results. (5 marks)"
      ]
    },
    {
      "cell_type": "code",
      "metadata": {
        "id": "hZ-j3Q0bVjdu",
        "colab_type": "code",
        "colab": {
          "base_uri": "https://localhost:8080/",
          "height": 50
        },
        "outputId": "54d0e760-78e5-48de-ebc2-22efe03ca6d7"
      },
      "source": [
        "actual = [9,8,2]\n",
        "x = np.array(own_images)\n",
        "x = x.reshape(3, 1, 28, 28)\n",
        "x = torch.from_numpy(x)\n",
        "print(x.shape)\n",
        "model.eval()\n",
        "with torch.no_grad():\n",
        "  output=model(x.cuda())\n",
        "  _, predicted = torch.max(outputs.data, 1)\n",
        "  print(predicted)"
      ],
      "execution_count": 138,
      "outputs": [
        {
          "output_type": "stream",
          "text": [
            "torch.Size([3, 1, 28, 28])\n",
            "tensor([3, 8, 0], device='cuda:0')\n"
          ],
          "name": "stdout"
        }
      ]
    },
    {
      "cell_type": "markdown",
      "metadata": {
        "colab_type": "text",
        "id": "nQwpTkaRd2dL"
      },
      "source": [
        "### 3.3 Discuss the classification results. (5 marks)\n",
        "\n",
        "Does the model work? Is there anyway to improve the real life performance of the model?"
      ]
    },
    {
      "cell_type": "code",
      "metadata": {
        "colab_type": "code",
        "id": "AOZe7dEHd2dM",
        "colab": {}
      },
      "source": [
        ""
      ],
      "execution_count": 0,
      "outputs": []
    }
  ]
}