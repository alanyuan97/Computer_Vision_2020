{
  "nbformat": 4,
  "nbformat_minor": 0,
  "metadata": {
    "kernelspec": {
      "name": "python3",
      "display_name": "Python 3"
    },
    "language_info": {
      "codemirror_mode": {
        "name": "ipython",
        "version": 3
      },
      "file_extension": ".py",
      "mimetype": "text/x-python",
      "name": "python",
      "nbconvert_exporter": "python",
      "pygments_lexer": "ipython3",
      "version": "3.6.9-final"
    },
    "colab": {
      "name": "coursework_2.ipynb",
      "provenance": []
    },
    "accelerator": "GPU",
    "widgets": {
      "application/vnd.jupyter.widget-state+json": {
        "392e9a4bbb0b4a7faf3764496d676947": {
          "model_module": "@jupyter-widgets/controls",
          "model_name": "HBoxModel",
          "state": {
            "_view_name": "HBoxView",
            "_dom_classes": [],
            "_model_name": "HBoxModel",
            "_view_module": "@jupyter-widgets/controls",
            "_model_module_version": "1.5.0",
            "_view_count": null,
            "_view_module_version": "1.5.0",
            "box_style": "",
            "layout": "IPY_MODEL_124e577624ff49c1bdd3f085feb3bfce",
            "_model_module": "@jupyter-widgets/controls",
            "children": [
              "IPY_MODEL_e8ebc5cddd3a48d5a72f328fc88345cb",
              "IPY_MODEL_bca8368809c84f1fb1d0918c4ff53a70"
            ]
          }
        },
        "124e577624ff49c1bdd3f085feb3bfce": {
          "model_module": "@jupyter-widgets/base",
          "model_name": "LayoutModel",
          "state": {
            "_view_name": "LayoutView",
            "grid_template_rows": null,
            "right": null,
            "justify_content": null,
            "_view_module": "@jupyter-widgets/base",
            "overflow": null,
            "_model_module_version": "1.2.0",
            "_view_count": null,
            "flex_flow": null,
            "width": null,
            "min_width": null,
            "border": null,
            "align_items": null,
            "bottom": null,
            "_model_module": "@jupyter-widgets/base",
            "top": null,
            "grid_column": null,
            "overflow_y": null,
            "overflow_x": null,
            "grid_auto_flow": null,
            "grid_area": null,
            "grid_template_columns": null,
            "flex": null,
            "_model_name": "LayoutModel",
            "justify_items": null,
            "grid_row": null,
            "max_height": null,
            "align_content": null,
            "visibility": null,
            "align_self": null,
            "height": null,
            "min_height": null,
            "padding": null,
            "grid_auto_rows": null,
            "grid_gap": null,
            "max_width": null,
            "order": null,
            "_view_module_version": "1.2.0",
            "grid_template_areas": null,
            "object_position": null,
            "object_fit": null,
            "grid_auto_columns": null,
            "margin": null,
            "display": null,
            "left": null
          }
        },
        "e8ebc5cddd3a48d5a72f328fc88345cb": {
          "model_module": "@jupyter-widgets/controls",
          "model_name": "IntProgressModel",
          "state": {
            "_view_name": "ProgressView",
            "style": "IPY_MODEL_2ab110e54b8e4cae850998d86e930e3e",
            "_dom_classes": [],
            "description": "",
            "_model_name": "IntProgressModel",
            "bar_style": "success",
            "max": 1,
            "_view_module": "@jupyter-widgets/controls",
            "_model_module_version": "1.5.0",
            "value": 1,
            "_view_count": null,
            "_view_module_version": "1.5.0",
            "orientation": "horizontal",
            "min": 0,
            "description_tooltip": null,
            "_model_module": "@jupyter-widgets/controls",
            "layout": "IPY_MODEL_1dde6c626fd348a695dca43c7922a2ee"
          }
        },
        "bca8368809c84f1fb1d0918c4ff53a70": {
          "model_module": "@jupyter-widgets/controls",
          "model_name": "HTMLModel",
          "state": {
            "_view_name": "HTMLView",
            "style": "IPY_MODEL_0bfe084d2659460ea39e40bc7a011463",
            "_dom_classes": [],
            "description": "",
            "_model_name": "HTMLModel",
            "placeholder": "​",
            "_view_module": "@jupyter-widgets/controls",
            "_model_module_version": "1.5.0",
            "value": "26427392it [00:05, 5163793.81it/s]",
            "_view_count": null,
            "_view_module_version": "1.5.0",
            "description_tooltip": null,
            "_model_module": "@jupyter-widgets/controls",
            "layout": "IPY_MODEL_60fec8cc6068462b9f0060ad69fc41c9"
          }
        },
        "2ab110e54b8e4cae850998d86e930e3e": {
          "model_module": "@jupyter-widgets/controls",
          "model_name": "ProgressStyleModel",
          "state": {
            "_view_name": "StyleView",
            "_model_name": "ProgressStyleModel",
            "description_width": "",
            "_view_module": "@jupyter-widgets/base",
            "_model_module_version": "1.5.0",
            "_view_count": null,
            "_view_module_version": "1.2.0",
            "bar_color": null,
            "_model_module": "@jupyter-widgets/controls"
          }
        },
        "1dde6c626fd348a695dca43c7922a2ee": {
          "model_module": "@jupyter-widgets/base",
          "model_name": "LayoutModel",
          "state": {
            "_view_name": "LayoutView",
            "grid_template_rows": null,
            "right": null,
            "justify_content": null,
            "_view_module": "@jupyter-widgets/base",
            "overflow": null,
            "_model_module_version": "1.2.0",
            "_view_count": null,
            "flex_flow": null,
            "width": null,
            "min_width": null,
            "border": null,
            "align_items": null,
            "bottom": null,
            "_model_module": "@jupyter-widgets/base",
            "top": null,
            "grid_column": null,
            "overflow_y": null,
            "overflow_x": null,
            "grid_auto_flow": null,
            "grid_area": null,
            "grid_template_columns": null,
            "flex": null,
            "_model_name": "LayoutModel",
            "justify_items": null,
            "grid_row": null,
            "max_height": null,
            "align_content": null,
            "visibility": null,
            "align_self": null,
            "height": null,
            "min_height": null,
            "padding": null,
            "grid_auto_rows": null,
            "grid_gap": null,
            "max_width": null,
            "order": null,
            "_view_module_version": "1.2.0",
            "grid_template_areas": null,
            "object_position": null,
            "object_fit": null,
            "grid_auto_columns": null,
            "margin": null,
            "display": null,
            "left": null
          }
        },
        "0bfe084d2659460ea39e40bc7a011463": {
          "model_module": "@jupyter-widgets/controls",
          "model_name": "DescriptionStyleModel",
          "state": {
            "_view_name": "StyleView",
            "_model_name": "DescriptionStyleModel",
            "description_width": "",
            "_view_module": "@jupyter-widgets/base",
            "_model_module_version": "1.5.0",
            "_view_count": null,
            "_view_module_version": "1.2.0",
            "_model_module": "@jupyter-widgets/controls"
          }
        },
        "60fec8cc6068462b9f0060ad69fc41c9": {
          "model_module": "@jupyter-widgets/base",
          "model_name": "LayoutModel",
          "state": {
            "_view_name": "LayoutView",
            "grid_template_rows": null,
            "right": null,
            "justify_content": null,
            "_view_module": "@jupyter-widgets/base",
            "overflow": null,
            "_model_module_version": "1.2.0",
            "_view_count": null,
            "flex_flow": null,
            "width": null,
            "min_width": null,
            "border": null,
            "align_items": null,
            "bottom": null,
            "_model_module": "@jupyter-widgets/base",
            "top": null,
            "grid_column": null,
            "overflow_y": null,
            "overflow_x": null,
            "grid_auto_flow": null,
            "grid_area": null,
            "grid_template_columns": null,
            "flex": null,
            "_model_name": "LayoutModel",
            "justify_items": null,
            "grid_row": null,
            "max_height": null,
            "align_content": null,
            "visibility": null,
            "align_self": null,
            "height": null,
            "min_height": null,
            "padding": null,
            "grid_auto_rows": null,
            "grid_gap": null,
            "max_width": null,
            "order": null,
            "_view_module_version": "1.2.0",
            "grid_template_areas": null,
            "object_position": null,
            "object_fit": null,
            "grid_auto_columns": null,
            "margin": null,
            "display": null,
            "left": null
          }
        },
        "2cf1759d4f9a43c3a1a2f2a9dced7330": {
          "model_module": "@jupyter-widgets/controls",
          "model_name": "HBoxModel",
          "state": {
            "_view_name": "HBoxView",
            "_dom_classes": [],
            "_model_name": "HBoxModel",
            "_view_module": "@jupyter-widgets/controls",
            "_model_module_version": "1.5.0",
            "_view_count": null,
            "_view_module_version": "1.5.0",
            "box_style": "",
            "layout": "IPY_MODEL_f8740f7ec395407793d751d3ac171ce9",
            "_model_module": "@jupyter-widgets/controls",
            "children": [
              "IPY_MODEL_b0b7ddb27a4049feb2a362e6323c6006",
              "IPY_MODEL_d1420b8756424c22913202b255ec692e"
            ]
          }
        },
        "f8740f7ec395407793d751d3ac171ce9": {
          "model_module": "@jupyter-widgets/base",
          "model_name": "LayoutModel",
          "state": {
            "_view_name": "LayoutView",
            "grid_template_rows": null,
            "right": null,
            "justify_content": null,
            "_view_module": "@jupyter-widgets/base",
            "overflow": null,
            "_model_module_version": "1.2.0",
            "_view_count": null,
            "flex_flow": null,
            "width": null,
            "min_width": null,
            "border": null,
            "align_items": null,
            "bottom": null,
            "_model_module": "@jupyter-widgets/base",
            "top": null,
            "grid_column": null,
            "overflow_y": null,
            "overflow_x": null,
            "grid_auto_flow": null,
            "grid_area": null,
            "grid_template_columns": null,
            "flex": null,
            "_model_name": "LayoutModel",
            "justify_items": null,
            "grid_row": null,
            "max_height": null,
            "align_content": null,
            "visibility": null,
            "align_self": null,
            "height": null,
            "min_height": null,
            "padding": null,
            "grid_auto_rows": null,
            "grid_gap": null,
            "max_width": null,
            "order": null,
            "_view_module_version": "1.2.0",
            "grid_template_areas": null,
            "object_position": null,
            "object_fit": null,
            "grid_auto_columns": null,
            "margin": null,
            "display": null,
            "left": null
          }
        },
        "b0b7ddb27a4049feb2a362e6323c6006": {
          "model_module": "@jupyter-widgets/controls",
          "model_name": "IntProgressModel",
          "state": {
            "_view_name": "ProgressView",
            "style": "IPY_MODEL_411698a6b63248838e16dd060ec5680a",
            "_dom_classes": [],
            "description": "",
            "_model_name": "IntProgressModel",
            "bar_style": "success",
            "max": 1,
            "_view_module": "@jupyter-widgets/controls",
            "_model_module_version": "1.5.0",
            "value": 1,
            "_view_count": null,
            "_view_module_version": "1.5.0",
            "orientation": "horizontal",
            "min": 0,
            "description_tooltip": null,
            "_model_module": "@jupyter-widgets/controls",
            "layout": "IPY_MODEL_d9b7b5a3fb054c2084ad06a6130e1fb4"
          }
        },
        "d1420b8756424c22913202b255ec692e": {
          "model_module": "@jupyter-widgets/controls",
          "model_name": "HTMLModel",
          "state": {
            "_view_name": "HTMLView",
            "style": "IPY_MODEL_a6aca689c935440e9b6a27aa54c5cc98",
            "_dom_classes": [],
            "description": "",
            "_model_name": "HTMLModel",
            "placeholder": "​",
            "_view_module": "@jupyter-widgets/controls",
            "_model_module_version": "1.5.0",
            "value": "32768it [00:00, 35063.61it/s]",
            "_view_count": null,
            "_view_module_version": "1.5.0",
            "description_tooltip": null,
            "_model_module": "@jupyter-widgets/controls",
            "layout": "IPY_MODEL_35eecca77c7a4e7daf06d20d50f8e1d2"
          }
        },
        "411698a6b63248838e16dd060ec5680a": {
          "model_module": "@jupyter-widgets/controls",
          "model_name": "ProgressStyleModel",
          "state": {
            "_view_name": "StyleView",
            "_model_name": "ProgressStyleModel",
            "description_width": "",
            "_view_module": "@jupyter-widgets/base",
            "_model_module_version": "1.5.0",
            "_view_count": null,
            "_view_module_version": "1.2.0",
            "bar_color": null,
            "_model_module": "@jupyter-widgets/controls"
          }
        },
        "d9b7b5a3fb054c2084ad06a6130e1fb4": {
          "model_module": "@jupyter-widgets/base",
          "model_name": "LayoutModel",
          "state": {
            "_view_name": "LayoutView",
            "grid_template_rows": null,
            "right": null,
            "justify_content": null,
            "_view_module": "@jupyter-widgets/base",
            "overflow": null,
            "_model_module_version": "1.2.0",
            "_view_count": null,
            "flex_flow": null,
            "width": null,
            "min_width": null,
            "border": null,
            "align_items": null,
            "bottom": null,
            "_model_module": "@jupyter-widgets/base",
            "top": null,
            "grid_column": null,
            "overflow_y": null,
            "overflow_x": null,
            "grid_auto_flow": null,
            "grid_area": null,
            "grid_template_columns": null,
            "flex": null,
            "_model_name": "LayoutModel",
            "justify_items": null,
            "grid_row": null,
            "max_height": null,
            "align_content": null,
            "visibility": null,
            "align_self": null,
            "height": null,
            "min_height": null,
            "padding": null,
            "grid_auto_rows": null,
            "grid_gap": null,
            "max_width": null,
            "order": null,
            "_view_module_version": "1.2.0",
            "grid_template_areas": null,
            "object_position": null,
            "object_fit": null,
            "grid_auto_columns": null,
            "margin": null,
            "display": null,
            "left": null
          }
        },
        "a6aca689c935440e9b6a27aa54c5cc98": {
          "model_module": "@jupyter-widgets/controls",
          "model_name": "DescriptionStyleModel",
          "state": {
            "_view_name": "StyleView",
            "_model_name": "DescriptionStyleModel",
            "description_width": "",
            "_view_module": "@jupyter-widgets/base",
            "_model_module_version": "1.5.0",
            "_view_count": null,
            "_view_module_version": "1.2.0",
            "_model_module": "@jupyter-widgets/controls"
          }
        },
        "35eecca77c7a4e7daf06d20d50f8e1d2": {
          "model_module": "@jupyter-widgets/base",
          "model_name": "LayoutModel",
          "state": {
            "_view_name": "LayoutView",
            "grid_template_rows": null,
            "right": null,
            "justify_content": null,
            "_view_module": "@jupyter-widgets/base",
            "overflow": null,
            "_model_module_version": "1.2.0",
            "_view_count": null,
            "flex_flow": null,
            "width": null,
            "min_width": null,
            "border": null,
            "align_items": null,
            "bottom": null,
            "_model_module": "@jupyter-widgets/base",
            "top": null,
            "grid_column": null,
            "overflow_y": null,
            "overflow_x": null,
            "grid_auto_flow": null,
            "grid_area": null,
            "grid_template_columns": null,
            "flex": null,
            "_model_name": "LayoutModel",
            "justify_items": null,
            "grid_row": null,
            "max_height": null,
            "align_content": null,
            "visibility": null,
            "align_self": null,
            "height": null,
            "min_height": null,
            "padding": null,
            "grid_auto_rows": null,
            "grid_gap": null,
            "max_width": null,
            "order": null,
            "_view_module_version": "1.2.0",
            "grid_template_areas": null,
            "object_position": null,
            "object_fit": null,
            "grid_auto_columns": null,
            "margin": null,
            "display": null,
            "left": null
          }
        },
        "8c6e30c7af4c4581903424f777174618": {
          "model_module": "@jupyter-widgets/controls",
          "model_name": "HBoxModel",
          "state": {
            "_view_name": "HBoxView",
            "_dom_classes": [],
            "_model_name": "HBoxModel",
            "_view_module": "@jupyter-widgets/controls",
            "_model_module_version": "1.5.0",
            "_view_count": null,
            "_view_module_version": "1.5.0",
            "box_style": "",
            "layout": "IPY_MODEL_ba2c8f8a550f435ca87213507b7e0394",
            "_model_module": "@jupyter-widgets/controls",
            "children": [
              "IPY_MODEL_a5f714c923f046cea959a829e4892a7a",
              "IPY_MODEL_30e9aa84480346759c8653a10f94bab6"
            ]
          }
        },
        "ba2c8f8a550f435ca87213507b7e0394": {
          "model_module": "@jupyter-widgets/base",
          "model_name": "LayoutModel",
          "state": {
            "_view_name": "LayoutView",
            "grid_template_rows": null,
            "right": null,
            "justify_content": null,
            "_view_module": "@jupyter-widgets/base",
            "overflow": null,
            "_model_module_version": "1.2.0",
            "_view_count": null,
            "flex_flow": null,
            "width": null,
            "min_width": null,
            "border": null,
            "align_items": null,
            "bottom": null,
            "_model_module": "@jupyter-widgets/base",
            "top": null,
            "grid_column": null,
            "overflow_y": null,
            "overflow_x": null,
            "grid_auto_flow": null,
            "grid_area": null,
            "grid_template_columns": null,
            "flex": null,
            "_model_name": "LayoutModel",
            "justify_items": null,
            "grid_row": null,
            "max_height": null,
            "align_content": null,
            "visibility": null,
            "align_self": null,
            "height": null,
            "min_height": null,
            "padding": null,
            "grid_auto_rows": null,
            "grid_gap": null,
            "max_width": null,
            "order": null,
            "_view_module_version": "1.2.0",
            "grid_template_areas": null,
            "object_position": null,
            "object_fit": null,
            "grid_auto_columns": null,
            "margin": null,
            "display": null,
            "left": null
          }
        },
        "a5f714c923f046cea959a829e4892a7a": {
          "model_module": "@jupyter-widgets/controls",
          "model_name": "IntProgressModel",
          "state": {
            "_view_name": "ProgressView",
            "style": "IPY_MODEL_67fba9c39efa4bd186db5cdf939ca7bb",
            "_dom_classes": [],
            "description": "",
            "_model_name": "IntProgressModel",
            "bar_style": "success",
            "max": 1,
            "_view_module": "@jupyter-widgets/controls",
            "_model_module_version": "1.5.0",
            "value": 1,
            "_view_count": null,
            "_view_module_version": "1.5.0",
            "orientation": "horizontal",
            "min": 0,
            "description_tooltip": null,
            "_model_module": "@jupyter-widgets/controls",
            "layout": "IPY_MODEL_906b511490614edda199ec552f3c3ff8"
          }
        },
        "30e9aa84480346759c8653a10f94bab6": {
          "model_module": "@jupyter-widgets/controls",
          "model_name": "HTMLModel",
          "state": {
            "_view_name": "HTMLView",
            "style": "IPY_MODEL_458fd2fdecb047bca015e876d272c259",
            "_dom_classes": [],
            "description": "",
            "_model_name": "HTMLModel",
            "placeholder": "​",
            "_view_module": "@jupyter-widgets/controls",
            "_model_module_version": "1.5.0",
            "value": "4423680it [00:03, 1453454.10it/s]",
            "_view_count": null,
            "_view_module_version": "1.5.0",
            "description_tooltip": null,
            "_model_module": "@jupyter-widgets/controls",
            "layout": "IPY_MODEL_efeec01a5a6e459ea796e6d93329f309"
          }
        },
        "67fba9c39efa4bd186db5cdf939ca7bb": {
          "model_module": "@jupyter-widgets/controls",
          "model_name": "ProgressStyleModel",
          "state": {
            "_view_name": "StyleView",
            "_model_name": "ProgressStyleModel",
            "description_width": "",
            "_view_module": "@jupyter-widgets/base",
            "_model_module_version": "1.5.0",
            "_view_count": null,
            "_view_module_version": "1.2.0",
            "bar_color": null,
            "_model_module": "@jupyter-widgets/controls"
          }
        },
        "906b511490614edda199ec552f3c3ff8": {
          "model_module": "@jupyter-widgets/base",
          "model_name": "LayoutModel",
          "state": {
            "_view_name": "LayoutView",
            "grid_template_rows": null,
            "right": null,
            "justify_content": null,
            "_view_module": "@jupyter-widgets/base",
            "overflow": null,
            "_model_module_version": "1.2.0",
            "_view_count": null,
            "flex_flow": null,
            "width": null,
            "min_width": null,
            "border": null,
            "align_items": null,
            "bottom": null,
            "_model_module": "@jupyter-widgets/base",
            "top": null,
            "grid_column": null,
            "overflow_y": null,
            "overflow_x": null,
            "grid_auto_flow": null,
            "grid_area": null,
            "grid_template_columns": null,
            "flex": null,
            "_model_name": "LayoutModel",
            "justify_items": null,
            "grid_row": null,
            "max_height": null,
            "align_content": null,
            "visibility": null,
            "align_self": null,
            "height": null,
            "min_height": null,
            "padding": null,
            "grid_auto_rows": null,
            "grid_gap": null,
            "max_width": null,
            "order": null,
            "_view_module_version": "1.2.0",
            "grid_template_areas": null,
            "object_position": null,
            "object_fit": null,
            "grid_auto_columns": null,
            "margin": null,
            "display": null,
            "left": null
          }
        },
        "458fd2fdecb047bca015e876d272c259": {
          "model_module": "@jupyter-widgets/controls",
          "model_name": "DescriptionStyleModel",
          "state": {
            "_view_name": "StyleView",
            "_model_name": "DescriptionStyleModel",
            "description_width": "",
            "_view_module": "@jupyter-widgets/base",
            "_model_module_version": "1.5.0",
            "_view_count": null,
            "_view_module_version": "1.2.0",
            "_model_module": "@jupyter-widgets/controls"
          }
        },
        "efeec01a5a6e459ea796e6d93329f309": {
          "model_module": "@jupyter-widgets/base",
          "model_name": "LayoutModel",
          "state": {
            "_view_name": "LayoutView",
            "grid_template_rows": null,
            "right": null,
            "justify_content": null,
            "_view_module": "@jupyter-widgets/base",
            "overflow": null,
            "_model_module_version": "1.2.0",
            "_view_count": null,
            "flex_flow": null,
            "width": null,
            "min_width": null,
            "border": null,
            "align_items": null,
            "bottom": null,
            "_model_module": "@jupyter-widgets/base",
            "top": null,
            "grid_column": null,
            "overflow_y": null,
            "overflow_x": null,
            "grid_auto_flow": null,
            "grid_area": null,
            "grid_template_columns": null,
            "flex": null,
            "_model_name": "LayoutModel",
            "justify_items": null,
            "grid_row": null,
            "max_height": null,
            "align_content": null,
            "visibility": null,
            "align_self": null,
            "height": null,
            "min_height": null,
            "padding": null,
            "grid_auto_rows": null,
            "grid_gap": null,
            "max_width": null,
            "order": null,
            "_view_module_version": "1.2.0",
            "grid_template_areas": null,
            "object_position": null,
            "object_fit": null,
            "grid_auto_columns": null,
            "margin": null,
            "display": null,
            "left": null
          }
        },
        "27bfa9bf1ed04a5293aa4b98ff6444ca": {
          "model_module": "@jupyter-widgets/controls",
          "model_name": "HBoxModel",
          "state": {
            "_view_name": "HBoxView",
            "_dom_classes": [],
            "_model_name": "HBoxModel",
            "_view_module": "@jupyter-widgets/controls",
            "_model_module_version": "1.5.0",
            "_view_count": null,
            "_view_module_version": "1.5.0",
            "box_style": "",
            "layout": "IPY_MODEL_25bdbfdb889c4103a7dd18cd1648af3e",
            "_model_module": "@jupyter-widgets/controls",
            "children": [
              "IPY_MODEL_d14817d343f449ba9b9df1b99834b213",
              "IPY_MODEL_acc9a20c6d094a4ca23392040f3bcfa2"
            ]
          }
        },
        "25bdbfdb889c4103a7dd18cd1648af3e": {
          "model_module": "@jupyter-widgets/base",
          "model_name": "LayoutModel",
          "state": {
            "_view_name": "LayoutView",
            "grid_template_rows": null,
            "right": null,
            "justify_content": null,
            "_view_module": "@jupyter-widgets/base",
            "overflow": null,
            "_model_module_version": "1.2.0",
            "_view_count": null,
            "flex_flow": null,
            "width": null,
            "min_width": null,
            "border": null,
            "align_items": null,
            "bottom": null,
            "_model_module": "@jupyter-widgets/base",
            "top": null,
            "grid_column": null,
            "overflow_y": null,
            "overflow_x": null,
            "grid_auto_flow": null,
            "grid_area": null,
            "grid_template_columns": null,
            "flex": null,
            "_model_name": "LayoutModel",
            "justify_items": null,
            "grid_row": null,
            "max_height": null,
            "align_content": null,
            "visibility": null,
            "align_self": null,
            "height": null,
            "min_height": null,
            "padding": null,
            "grid_auto_rows": null,
            "grid_gap": null,
            "max_width": null,
            "order": null,
            "_view_module_version": "1.2.0",
            "grid_template_areas": null,
            "object_position": null,
            "object_fit": null,
            "grid_auto_columns": null,
            "margin": null,
            "display": null,
            "left": null
          }
        },
        "d14817d343f449ba9b9df1b99834b213": {
          "model_module": "@jupyter-widgets/controls",
          "model_name": "IntProgressModel",
          "state": {
            "_view_name": "ProgressView",
            "style": "IPY_MODEL_ce0fc60e02f048559b8cd3730bcf5242",
            "_dom_classes": [],
            "description": "",
            "_model_name": "IntProgressModel",
            "bar_style": "success",
            "max": 1,
            "_view_module": "@jupyter-widgets/controls",
            "_model_module_version": "1.5.0",
            "value": 1,
            "_view_count": null,
            "_view_module_version": "1.5.0",
            "orientation": "horizontal",
            "min": 0,
            "description_tooltip": null,
            "_model_module": "@jupyter-widgets/controls",
            "layout": "IPY_MODEL_ba91ef96974d45b8acc7bf327915e9a6"
          }
        },
        "acc9a20c6d094a4ca23392040f3bcfa2": {
          "model_module": "@jupyter-widgets/controls",
          "model_name": "HTMLModel",
          "state": {
            "_view_name": "HTMLView",
            "style": "IPY_MODEL_71feb9e2e0f04e28b04cf9412bcef51f",
            "_dom_classes": [],
            "description": "",
            "_model_name": "HTMLModel",
            "placeholder": "​",
            "_view_module": "@jupyter-widgets/controls",
            "_model_module_version": "1.5.0",
            "value": "8192it [00:00, 12738.45it/s]",
            "_view_count": null,
            "_view_module_version": "1.5.0",
            "description_tooltip": null,
            "_model_module": "@jupyter-widgets/controls",
            "layout": "IPY_MODEL_08a13dbdabd4453abcf1d5fe73019b5a"
          }
        },
        "ce0fc60e02f048559b8cd3730bcf5242": {
          "model_module": "@jupyter-widgets/controls",
          "model_name": "ProgressStyleModel",
          "state": {
            "_view_name": "StyleView",
            "_model_name": "ProgressStyleModel",
            "description_width": "",
            "_view_module": "@jupyter-widgets/base",
            "_model_module_version": "1.5.0",
            "_view_count": null,
            "_view_module_version": "1.2.0",
            "bar_color": null,
            "_model_module": "@jupyter-widgets/controls"
          }
        },
        "ba91ef96974d45b8acc7bf327915e9a6": {
          "model_module": "@jupyter-widgets/base",
          "model_name": "LayoutModel",
          "state": {
            "_view_name": "LayoutView",
            "grid_template_rows": null,
            "right": null,
            "justify_content": null,
            "_view_module": "@jupyter-widgets/base",
            "overflow": null,
            "_model_module_version": "1.2.0",
            "_view_count": null,
            "flex_flow": null,
            "width": null,
            "min_width": null,
            "border": null,
            "align_items": null,
            "bottom": null,
            "_model_module": "@jupyter-widgets/base",
            "top": null,
            "grid_column": null,
            "overflow_y": null,
            "overflow_x": null,
            "grid_auto_flow": null,
            "grid_area": null,
            "grid_template_columns": null,
            "flex": null,
            "_model_name": "LayoutModel",
            "justify_items": null,
            "grid_row": null,
            "max_height": null,
            "align_content": null,
            "visibility": null,
            "align_self": null,
            "height": null,
            "min_height": null,
            "padding": null,
            "grid_auto_rows": null,
            "grid_gap": null,
            "max_width": null,
            "order": null,
            "_view_module_version": "1.2.0",
            "grid_template_areas": null,
            "object_position": null,
            "object_fit": null,
            "grid_auto_columns": null,
            "margin": null,
            "display": null,
            "left": null
          }
        },
        "71feb9e2e0f04e28b04cf9412bcef51f": {
          "model_module": "@jupyter-widgets/controls",
          "model_name": "DescriptionStyleModel",
          "state": {
            "_view_name": "StyleView",
            "_model_name": "DescriptionStyleModel",
            "description_width": "",
            "_view_module": "@jupyter-widgets/base",
            "_model_module_version": "1.5.0",
            "_view_count": null,
            "_view_module_version": "1.2.0",
            "_model_module": "@jupyter-widgets/controls"
          }
        },
        "08a13dbdabd4453abcf1d5fe73019b5a": {
          "model_module": "@jupyter-widgets/base",
          "model_name": "LayoutModel",
          "state": {
            "_view_name": "LayoutView",
            "grid_template_rows": null,
            "right": null,
            "justify_content": null,
            "_view_module": "@jupyter-widgets/base",
            "overflow": null,
            "_model_module_version": "1.2.0",
            "_view_count": null,
            "flex_flow": null,
            "width": null,
            "min_width": null,
            "border": null,
            "align_items": null,
            "bottom": null,
            "_model_module": "@jupyter-widgets/base",
            "top": null,
            "grid_column": null,
            "overflow_y": null,
            "overflow_x": null,
            "grid_auto_flow": null,
            "grid_area": null,
            "grid_template_columns": null,
            "flex": null,
            "_model_name": "LayoutModel",
            "justify_items": null,
            "grid_row": null,
            "max_height": null,
            "align_content": null,
            "visibility": null,
            "align_self": null,
            "height": null,
            "min_height": null,
            "padding": null,
            "grid_auto_rows": null,
            "grid_gap": null,
            "max_width": null,
            "order": null,
            "_view_module_version": "1.2.0",
            "grid_template_areas": null,
            "object_position": null,
            "object_fit": null,
            "grid_auto_columns": null,
            "margin": null,
            "display": null,
            "left": null
          }
        }
      }
    }
  },
  "cells": [
    {
      "cell_type": "markdown",
      "metadata": {
        "colab_type": "text",
        "id": "_DJOzhSJd2cV"
      },
      "source": [
        "# Coursework 2: Image Classification\n",
        "\n",
        "In this coursework, we are going to develop a neural network model for for image classification.\n",
        "\n",
        "What to do?\n",
        "\n",
        "* The coursework includes both coding questions and written questions. Please read both the text and code comment in this notebook to get an idea what you are supposed to implement.\n",
        "\n",
        "* First, run `jupyter-lab` or `jupyter-notebook` in the terminal to start the Jupyter notebook.\n",
        "\n",
        "* Then, complete and run the code to get the results.\n",
        "\n",
        "* Finally, please export (File | Export Notebook As...) or print (using the print function of your browser) the notebook as a pdf file, which contains your code, results and answers, and upload the pdf file onto Cate.\n",
        "\n",
        "Dependencies:\n",
        "\n",
        "* If you work on a college computer in the Computer Lab, where Ubuntu 18.04 is installed by default, you can use the following virtual environment for your work, where required Python packages are already installed.\n",
        "\n",
        "`source /vol/bitbucket/wbai/virt/computer_vision_2020/bin/activate`\n",
        "\n",
        "When you no longer need the virtual environment, you can exit it by running `deactivate`.\n",
        "\n",
        "* If you work on your own laptop using either Anaconda or plain Python, you can install new packages (such as numpy, imageio etc) running `conda install [package_name]` or `pip3 install [package_name]` in the terminal."
      ]
    },
    {
      "cell_type": "code",
      "metadata": {
        "id": "JvZEDp-fh5ib",
        "colab_type": "code",
        "colab": {}
      },
      "source": [
        "# Import libraries (provided)\n",
        "import numpy as np \n",
        "import matplotlib.pyplot as plt\n",
        "import time\n",
        "import random\n",
        "from sklearn import metrics\n",
        "import torch\n",
        "import torch.nn as nn\n",
        "import torch.nn.functional as F\n",
        "import torch.optim as optim\n",
        "import torchvision\n",
        "import torchvision.transforms as transforms\n",
        "import seaborn as sn\n",
        "import pandas as pd"
      ],
      "execution_count": 0,
      "outputs": []
    },
    {
      "cell_type": "markdown",
      "metadata": {
        "colab_type": "text",
        "id": "w2XzAVb_d2cc"
      },
      "source": [
        "# 1. Load and visualise data. (25 marks)\n",
        "\n",
        "Throughout this coursework. you will be working with the Fashion-MNIST dataset. If you are interested, you may find information about the dataset in this paper.\n",
        "\n",
        "[1] Han Xiao, Kashif Rasul, Roland Vollgraf. Fashion-MNIST: A novel image dataset for benchmarking machine learning algorithms. [arXiv:1708.07747](https://arxiv.org/abs/1708.07747)\n",
        "\n",
        "The dataset is prepared in a similar way to MNIST. It is split into a set of 60,000 training images and a set of 10,000 test images. The images are of size 28x28 pixels.\n",
        "\n",
        "There are in total 10 label classes, which are:\n",
        "* 0: T-shirt/top\n",
        "* 1: Trousers\n",
        "* 2: Pullover\n",
        "* 3: Dress\n",
        "* 4: Coat\n",
        "* 5: Sandal\n",
        "* 6: Shirt\n",
        "* 7: Sneaker\n",
        "* 8: Bag\n",
        "* 9: Ankle boot"
      ]
    },
    {
      "cell_type": "code",
      "metadata": {
        "id": "woci9zDZh5ig",
        "colab_type": "code",
        "colab": {
          "base_uri": "https://localhost:8080/",
          "height": 397,
          "referenced_widgets": [
            "392e9a4bbb0b4a7faf3764496d676947",
            "124e577624ff49c1bdd3f085feb3bfce",
            "e8ebc5cddd3a48d5a72f328fc88345cb",
            "bca8368809c84f1fb1d0918c4ff53a70",
            "2ab110e54b8e4cae850998d86e930e3e",
            "1dde6c626fd348a695dca43c7922a2ee",
            "0bfe084d2659460ea39e40bc7a011463",
            "60fec8cc6068462b9f0060ad69fc41c9",
            "2cf1759d4f9a43c3a1a2f2a9dced7330",
            "f8740f7ec395407793d751d3ac171ce9",
            "b0b7ddb27a4049feb2a362e6323c6006",
            "d1420b8756424c22913202b255ec692e",
            "411698a6b63248838e16dd060ec5680a",
            "d9b7b5a3fb054c2084ad06a6130e1fb4",
            "a6aca689c935440e9b6a27aa54c5cc98",
            "35eecca77c7a4e7daf06d20d50f8e1d2",
            "8c6e30c7af4c4581903424f777174618",
            "ba2c8f8a550f435ca87213507b7e0394",
            "a5f714c923f046cea959a829e4892a7a",
            "30e9aa84480346759c8653a10f94bab6",
            "67fba9c39efa4bd186db5cdf939ca7bb",
            "906b511490614edda199ec552f3c3ff8",
            "458fd2fdecb047bca015e876d272c259",
            "efeec01a5a6e459ea796e6d93329f309",
            "27bfa9bf1ed04a5293aa4b98ff6444ca",
            "25bdbfdb889c4103a7dd18cd1648af3e",
            "d14817d343f449ba9b9df1b99834b213",
            "acc9a20c6d094a4ca23392040f3bcfa2",
            "ce0fc60e02f048559b8cd3730bcf5242",
            "ba91ef96974d45b8acc7bf327915e9a6",
            "71feb9e2e0f04e28b04cf9412bcef51f",
            "08a13dbdabd4453abcf1d5fe73019b5a"
          ]
        },
        "outputId": "a9d97aff-4e70-4216-929b-253cc0e1cf14"
      },
      "source": [
        "# Load data (provided)\n",
        "train_set = torchvision.datasets.FashionMNIST(root='.', download=True, train=True,transform=transforms.ToTensor())\n",
        "train_image = np.array(train_set.data)\n",
        "train_label = np.array(train_set.targets)\n",
        "class_name = train_set.classes\n",
        "\n",
        "test_set = torchvision.datasets.FashionMNIST(root='.', download=True, train=False,transform=transforms.ToTensor())\n",
        "test_image = np.array(test_set.data)\n",
        "test_label = np.array(test_set.targets)"
      ],
      "execution_count": 2,
      "outputs": [
        {
          "output_type": "stream",
          "text": [
            "Downloading http://fashion-mnist.s3-website.eu-central-1.amazonaws.com/train-images-idx3-ubyte.gz to ./FashionMNIST/raw/train-images-idx3-ubyte.gz\n"
          ],
          "name": "stdout"
        },
        {
          "output_type": "display_data",
          "data": {
            "application/vnd.jupyter.widget-view+json": {
              "model_id": "392e9a4bbb0b4a7faf3764496d676947",
              "version_minor": 0,
              "version_major": 2
            },
            "text/plain": [
              "HBox(children=(IntProgress(value=1, bar_style='info', max=1), HTML(value='')))"
            ]
          },
          "metadata": {
            "tags": []
          }
        },
        {
          "output_type": "stream",
          "text": [
            "\n",
            "Extracting ./FashionMNIST/raw/train-images-idx3-ubyte.gz to ./FashionMNIST/raw\n",
            "Downloading http://fashion-mnist.s3-website.eu-central-1.amazonaws.com/train-labels-idx1-ubyte.gz to ./FashionMNIST/raw/train-labels-idx1-ubyte.gz\n"
          ],
          "name": "stdout"
        },
        {
          "output_type": "display_data",
          "data": {
            "application/vnd.jupyter.widget-view+json": {
              "model_id": "2cf1759d4f9a43c3a1a2f2a9dced7330",
              "version_minor": 0,
              "version_major": 2
            },
            "text/plain": [
              "HBox(children=(IntProgress(value=1, bar_style='info', max=1), HTML(value='')))"
            ]
          },
          "metadata": {
            "tags": []
          }
        },
        {
          "output_type": "stream",
          "text": [
            "\n",
            "Extracting ./FashionMNIST/raw/train-labels-idx1-ubyte.gz to ./FashionMNIST/raw\n",
            "Downloading http://fashion-mnist.s3-website.eu-central-1.amazonaws.com/t10k-images-idx3-ubyte.gz to ./FashionMNIST/raw/t10k-images-idx3-ubyte.gz\n"
          ],
          "name": "stdout"
        },
        {
          "output_type": "display_data",
          "data": {
            "application/vnd.jupyter.widget-view+json": {
              "model_id": "8c6e30c7af4c4581903424f777174618",
              "version_minor": 0,
              "version_major": 2
            },
            "text/plain": [
              "HBox(children=(IntProgress(value=1, bar_style='info', max=1), HTML(value='')))"
            ]
          },
          "metadata": {
            "tags": []
          }
        },
        {
          "output_type": "stream",
          "text": [
            "\n",
            "Extracting ./FashionMNIST/raw/t10k-images-idx3-ubyte.gz to ./FashionMNIST/raw\n",
            "Downloading http://fashion-mnist.s3-website.eu-central-1.amazonaws.com/t10k-labels-idx1-ubyte.gz to ./FashionMNIST/raw/t10k-labels-idx1-ubyte.gz\n"
          ],
          "name": "stdout"
        },
        {
          "output_type": "display_data",
          "data": {
            "application/vnd.jupyter.widget-view+json": {
              "model_id": "27bfa9bf1ed04a5293aa4b98ff6444ca",
              "version_minor": 0,
              "version_major": 2
            },
            "text/plain": [
              "HBox(children=(IntProgress(value=1, bar_style='info', max=1), HTML(value='')))"
            ]
          },
          "metadata": {
            "tags": []
          }
        },
        {
          "output_type": "stream",
          "text": [
            "\n",
            "Extracting ./FashionMNIST/raw/t10k-labels-idx1-ubyte.gz to ./FashionMNIST/raw\n",
            "Processing...\n",
            "Done!\n"
          ],
          "name": "stdout"
        }
      ]
    },
    {
      "cell_type": "markdown",
      "metadata": {
        "colab_type": "text",
        "id": "vgNGDwe8d2cg"
      },
      "source": [
        "### 1.1 Display the dimension of the training and test sets. (5 marks)"
      ]
    },
    {
      "cell_type": "code",
      "metadata": {
        "id": "G1spsCJKh5ij",
        "colab_type": "code",
        "colab": {
          "base_uri": "https://localhost:8080/",
          "height": 197
        },
        "outputId": "6d6304d0-f968-465a-94fc-3eae5d71605b"
      },
      "source": [
        "print(f\"the dimension of the training set is: {train_set.data.shape}\")\n",
        "print(class_name)\n",
        "print(train_set)\n",
        "print(train_label)\n",
        "\n",
        "print(f\"the dimension of the test set is: {test_set.data.shape}\")"
      ],
      "execution_count": 3,
      "outputs": [
        {
          "output_type": "stream",
          "text": [
            "the dimension of the training set is: torch.Size([60000, 28, 28])\n",
            "['T-shirt/top', 'Trouser', 'Pullover', 'Dress', 'Coat', 'Sandal', 'Shirt', 'Sneaker', 'Bag', 'Ankle boot']\n",
            "Dataset FashionMNIST\n",
            "    Number of datapoints: 60000\n",
            "    Root location: .\n",
            "    Split: Train\n",
            "    StandardTransform\n",
            "Transform: ToTensor()\n",
            "[9 0 0 ... 3 0 5]\n",
            "the dimension of the test set is: torch.Size([10000, 28, 28])\n"
          ],
          "name": "stdout"
        }
      ]
    },
    {
      "cell_type": "markdown",
      "metadata": {
        "colab_type": "text",
        "id": "gibxYb7Qd2ck"
      },
      "source": [
        "### 1.2 Visualise sample images for each of the 10 classes. (10 marks)\n",
        "\n",
        "Please plot 10 rows x 10 columns of images. Each row shows 10 samples for one class. For example, row 1 shows 10 `T-shirt/top` images, row 2 shows 10 `Trousers` images."
      ]
    },
    {
      "cell_type": "code",
      "metadata": {
        "id": "EuriM0fSh5io",
        "colab_type": "code",
        "colab": {
          "base_uri": "https://localhost:8080/",
          "height": 917
        },
        "outputId": "84c1eced-7f0a-4053-82e0-db35160c8202"
      },
      "source": [
        "N=10\n",
        "start_val = 0\n",
        "fig, axes = plt.subplots(N,N,figsize=(16,16))\n",
        "\n",
        "for row in range(N):\n",
        "  col=0\n",
        "  for i in range(200):\n",
        "    if col==10:\n",
        "      break\n",
        "    elif (train_label[i]==row):\n",
        "        axes[row,col].axis('off')\n",
        "        axes[row,col].set_title(class_name[row])\n",
        "        axes[row,col].imshow(train_image[i],cmap='gray')\n",
        "        fig.subplots_adjust(hspace=1) \n",
        "        col+=1"
      ],
      "execution_count": 4,
      "outputs": [
        {
          "output_type": "display_data",
          "data": {
            "image/png": "[encoded data removed]",
            "text/plain": [
              "<Figure size 1152x1152 with 100 Axes>"
            ]
          },
          "metadata": {
            "tags": []
          }
        }
      ]
    },
    {
      "cell_type": "markdown",
      "metadata": {
        "colab_type": "text",
        "id": "E4d3dkPTd2co"
      },
      "source": [
        "### 1.3 Display the number of training samples for each class. (5 marks)"
      ]
    },
    {
      "cell_type": "code",
      "metadata": {
        "id": "KERFi2rOh5ir",
        "colab_type": "code",
        "colab": {
          "base_uri": "https://localhost:8080/",
          "height": 35
        },
        "outputId": "fc482dc9-68ad-42a8-f86e-e5208b339fd4"
      },
      "source": [
        "label, counts = np.unique(train_label, return_counts=True)\n",
        "old = dict(zip(label, counts))\n",
        "\n",
        "for i in range(10):\n",
        "    new = dict(zip(class_name, list(old.values())))\n",
        "\n",
        "print(new)\n"
      ],
      "execution_count": 5,
      "outputs": [
        {
          "output_type": "stream",
          "text": [
            "{'T-shirt/top': 6000, 'Trouser': 6000, 'Pullover': 6000, 'Dress': 6000, 'Coat': 6000, 'Sandal': 6000, 'Shirt': 6000, 'Sneaker': 6000, 'Bag': 6000, 'Ankle boot': 6000}\n"
          ],
          "name": "stdout"
        }
      ]
    },
    {
      "cell_type": "markdown",
      "metadata": {
        "colab_type": "text",
        "id": "3FRVUoDcd2cs"
      },
      "source": [
        "### 1.4 Discussion. (5 marks)\n",
        "Is the dataset balanced? What would happen for the image classification task if the dataset is not balanced? "
      ]
    },
    {
      "cell_type": "code",
      "metadata": {
        "colab_type": "code",
        "id": "_vxp4uSbd2ct",
        "colab": {}
      },
      "source": [
        ""
      ],
      "execution_count": 0,
      "outputs": []
    },
    {
      "cell_type": "markdown",
      "metadata": {
        "colab_type": "text",
        "id": "Lte_gzsud2cw"
      },
      "source": [
        "## 2. Image classification. (60 marks)\n",
        "\n",
        "### 2.1 Build a convolutional neural network using the `PyTorch` library to perform classification on the Fashion-MNIST dataset. (15 marks)\n",
        "\n",
        "You can use a network architecture similar to LeNet (shown below), which consists a number of convolutional layers and a few fully connected layers at the end.\n",
        "\n",
        "![](https://github.com/lengwe/Computer_Vision_2020/blob/master/coursework_2/lenet.png?raw=1)"
      ]
    },
    {
      "cell_type": "code",
      "metadata": {
        "id": "_XvFmmG1h5iy",
        "colab_type": "code",
        "colab": {}
      },
      "source": [
        "class Network(nn.Module):\n",
        "    def __init__(self):\n",
        "        super(Network,self).__init__()\n",
        "\n",
        "        #convolution and subsampling layers\n",
        "        self.conv1 = nn.Conv2d(1,6,kernel_size=5,stride=1,padding=0)\n",
        "        self.conv2 = nn.Conv2d(6,16,kernel_size=5,stride=1,padding=0)\n",
        "        self.pool = nn.MaxPool2d(kernel_size=2,stride=2,padding=0)\n",
        "\n",
        "        #fully connection\n",
        "        self.fc1 = nn.Linear(256, 120)\n",
        "        self.fc2 = nn.Linear(120, 84)\n",
        "        self.fc3 = nn.Linear(84, 10)\n",
        "    \n",
        "    def forward(self,x):\n",
        "        x = self.pool(F.relu(self.conv1(x)))\n",
        "        x = self.pool(F.relu(self.conv2(x)))\n",
        "        x = x.view(-1, 256)\n",
        "        x = F.relu(self.fc1(x))\n",
        "        x = F.relu(self.fc2(x))\n",
        "        x = self.fc3(x)\n",
        "        return x"
      ],
      "execution_count": 0,
      "outputs": []
    },
    {
      "cell_type": "markdown",
      "metadata": {
        "colab_type": "text",
        "id": "QrFoJkVDd2cz"
      },
      "source": [
        "### 2.2 Define the loss function, optimiser and hyper-parameters such as the learning rate, number of iterations, batch size etc. (5 marks)"
      ]
    },
    {
      "cell_type": "code",
      "metadata": {
        "id": "xx7VoJnXh5i1",
        "colab_type": "code",
        "colab": {}
      },
      "source": [
        "batch = 128\n",
        "learning_rate = 0.01\n",
        "iteration = 30\n",
        "#Setting GPU device \n",
        "device = torch.device(\"cuda\" if torch.cuda.is_available() else \"cpu\")\n",
        "model = Network().to(device)\n",
        "criterion = nn.CrossEntropyLoss()\n",
        "optimizer = optim.SGD(model.parameters(), lr=learning_rate, momentum=0.9)"
      ],
      "execution_count": 0,
      "outputs": []
    },
    {
      "cell_type": "markdown",
      "metadata": {
        "colab_type": "text",
        "id": "wHcZKNsAd2c3"
      },
      "source": [
        "### 2.3 Start model training. (20 marks)\n",
        "\n",
        "At each iteration, get a random batch of images and labels from train_image and train_label, convert them into torch tensors, feed into the network model and perform gradient descent. Please also evaluate how long it takes for training."
      ]
    },
    {
      "cell_type": "code",
      "metadata": {
        "id": "h6151ONrh5i5",
        "colab_type": "code",
        "colab": {
          "base_uri": "https://localhost:8080/",
          "height": 837
        },
        "outputId": "1b4da256-1f50-4c93-9949-651d2a81a2d1"
      },
      "source": [
        "time_start = time.process_time()\n",
        "loss_epo = []\n",
        "acc_list = []\n",
        "for epoch in range(iteration):\n",
        "    train_loader  = torch.utils.data.DataLoader(train_set,batch_size=batch, shuffle=True)\n",
        "    for i,(inputs,labels) in enumerate(train_loader,0):\n",
        "        inputs,labels = inputs.to(device),labels.to(device)\n",
        "        optimizer.zero_grad()\n",
        "        output = model(inputs)\n",
        "        loss = criterion(output,labels)\n",
        "        loss.backward() \n",
        "        optimizer.step()\n",
        "\n",
        "        #Evaluate accuracy\n",
        "        total = labels.size(0)\n",
        "        _,predicted = torch.max(output.data,1)\n",
        "        correct = (predicted == labels).sum().item()\n",
        "        acc_list.append(correct / total)\n",
        "    loss_epo.append(loss.item())\n",
        "\n",
        "    print('Epoch [{}/{}], Loss: {:.6f} Train Accuracy: {:.2f}%'.format(epoch + 1, iteration, loss.item(), (correct/total)*100))\n",
        "\n",
        "plt.plot(loss_epo)\n",
        "plt.xlabel(\"Epoch\")\n",
        "plt.ylabel(\"Loss\")\n",
        "plt.show()\n",
        "\n",
        "#Execution time \n",
        "time_elapse = time.process_time()-time_start\n",
        "minutes, seconds = divmod(int(time_elapse), 60)\n",
        "print(f'Finished Training within {minutes} min {seconds} sec')"
      ],
      "execution_count": 99,
      "outputs": [
        {
          "output_type": "stream",
          "text": [
            "Epoch [1/30], Loss: 0.731562 Train Accuracy: 69.79%\n",
            "Epoch [2/30], Loss: 0.537685 Train Accuracy: 81.25%\n",
            "Epoch [3/30], Loss: 0.550249 Train Accuracy: 84.38%\n",
            "Epoch [4/30], Loss: 0.364310 Train Accuracy: 83.33%\n",
            "Epoch [5/30], Loss: 0.396543 Train Accuracy: 83.33%\n",
            "Epoch [6/30], Loss: 0.371670 Train Accuracy: 89.58%\n",
            "Epoch [7/30], Loss: 0.422692 Train Accuracy: 86.46%\n",
            "Epoch [8/30], Loss: 0.379817 Train Accuracy: 84.38%\n",
            "Epoch [9/30], Loss: 0.301043 Train Accuracy: 87.50%\n",
            "Epoch [10/30], Loss: 0.389088 Train Accuracy: 85.42%\n",
            "Epoch [11/30], Loss: 0.303814 Train Accuracy: 88.54%\n",
            "Epoch [12/30], Loss: 0.266396 Train Accuracy: 90.62%\n",
            "Epoch [13/30], Loss: 0.160331 Train Accuracy: 93.75%\n",
            "Epoch [14/30], Loss: 0.342419 Train Accuracy: 89.58%\n",
            "Epoch [15/30], Loss: 0.170173 Train Accuracy: 94.79%\n",
            "Epoch [16/30], Loss: 0.254881 Train Accuracy: 91.67%\n",
            "Epoch [17/30], Loss: 0.337867 Train Accuracy: 82.29%\n",
            "Epoch [18/30], Loss: 0.265539 Train Accuracy: 91.67%\n",
            "Epoch [19/30], Loss: 0.329397 Train Accuracy: 89.58%\n",
            "Epoch [20/30], Loss: 0.282319 Train Accuracy: 88.54%\n",
            "Epoch [21/30], Loss: 0.354939 Train Accuracy: 81.25%\n",
            "Epoch [22/30], Loss: 0.269406 Train Accuracy: 91.67%\n",
            "Epoch [23/30], Loss: 0.111380 Train Accuracy: 94.79%\n",
            "Epoch [24/30], Loss: 0.167626 Train Accuracy: 93.75%\n",
            "Epoch [25/30], Loss: 0.129184 Train Accuracy: 97.92%\n",
            "Epoch [26/30], Loss: 0.248443 Train Accuracy: 92.71%\n",
            "Epoch [27/30], Loss: 0.228849 Train Accuracy: 93.75%\n",
            "Epoch [28/30], Loss: 0.161705 Train Accuracy: 94.79%\n",
            "Epoch [29/30], Loss: 0.189263 Train Accuracy: 93.75%\n",
            "Epoch [30/30], Loss: 0.203115 Train Accuracy: 92.71%\n"
          ],
          "name": "stdout"
        },
        {
          "output_type": "display_data",
          "data": {
            "image/png": "[encoded data removed]",
            "text/plain": [
              "<Figure size 432x288 with 1 Axes>"
            ]
          },
          "metadata": {
            "tags": []
          }
        },
        {
          "output_type": "stream",
          "text": [
            "Finished Training within 2 min 39 sec\n"
          ],
          "name": "stdout"
        }
      ]
    },
    {
      "cell_type": "markdown",
      "metadata": {
        "colab_type": "text",
        "id": "i-KzgSTUd2c6"
      },
      "source": [
        "### 2.4 Deploy the trained model onto the test set. (10 marks)\n",
        "Please also evaluate how long it takes for testing."
      ]
    },
    {
      "cell_type": "code",
      "metadata": {
        "id": "yH5-SKkzh5i9",
        "colab_type": "code",
        "colab": {
          "base_uri": "https://localhost:8080/",
          "height": 35
        },
        "outputId": "0e45fb0e-7a4b-4c06-f596-6f816bfaad07"
      },
      "source": [
        "test_loader = torch.utils.data.DataLoader(test_set,batch_size=batch,shuffle=True)\n",
        "model.eval()\n",
        "with torch.no_grad():\n",
        "  time_start = time.process_time()\n",
        "  for inputs, labels in test_loader:\n",
        "    inputs,labels = inputs.to(device),labels.to(device)\n",
        "    outputs = model(inputs)\n",
        "\n",
        "time_elapse = time.process_time()-time_start\n",
        "minutes, seconds = divmod(float(time_elapse), 60)\n",
        "print(f'Finished testing within {minutes} min {seconds} sec')"
      ],
      "execution_count": 100,
      "outputs": [
        {
          "output_type": "stream",
          "text": [
            "Finished testing within 0.0 min 0.7092353400000775 sec\n"
          ],
          "name": "stdout"
        }
      ]
    },
    {
      "cell_type": "markdown",
      "metadata": {
        "colab_type": "text",
        "id": "RMebrQw2d2c_"
      },
      "source": [
        "### 2.5 Evaluate the classification accuracy on the test set. (5 marks)"
      ]
    },
    {
      "cell_type": "code",
      "metadata": {
        "id": "B5ZL_p9-h5jB",
        "colab_type": "code",
        "colab": {
          "base_uri": "https://localhost:8080/",
          "height": 35
        },
        "outputId": "6c3e8a99-2955-4707-83ad-858915ac02a6"
      },
      "source": [
        "model.eval()\n",
        "p=torch.zeros(0,dtype=torch.long, device='cpu')\n",
        "l=torch.zeros(0,dtype=torch.long, device='cpu')\n",
        "with torch.no_grad():\n",
        "  correct = 0\n",
        "  total = 0\n",
        "  time_start = time.process_time()\n",
        "  for inputs, labels in test_loader:\n",
        "    inputs,labels = inputs.to(device),labels.to(device)\n",
        "\n",
        "    outputs = model(inputs)\n",
        "    _, predicted = torch.max(outputs.data, 1)\n",
        "    total += labels.size(0)\n",
        "    correct += (predicted == labels).sum().item()\n",
        "    p=torch.cat([p,predicted.view(-1).cpu()])\n",
        "    l=torch.cat([l,labels.view(-1).cpu()])\n",
        "print('The classification accuracy on the test set is: {:.3f} %'.format((correct / total) * 100))"
      ],
      "execution_count": 101,
      "outputs": [
        {
          "output_type": "stream",
          "text": [
            "The classification accuracy on the test set is: 89.540 %\n"
          ],
          "name": "stdout"
        }
      ]
    },
    {
      "cell_type": "markdown",
      "metadata": {
        "colab_type": "text",
        "id": "JXMHyDt_d2dC"
      },
      "source": [
        "### 2.6 Print out and visualise the confusion matrix. (5 marks)\n",
        "You can use relevant functions in [scikit-learn](https://scikit-learn.org/stable/modules/classes.html#module-sklearn.metrics)."
      ]
    },
    {
      "cell_type": "code",
      "metadata": {
        "id": "UU_MvCynh5jF",
        "colab_type": "code",
        "colab": {
          "base_uri": "https://localhost:8080/",
          "height": 726
        },
        "outputId": "5371f6cc-55b5-4f51-bade-a9a37f03c556"
      },
      "source": [
        "conf_matrix = metrics.confusion_matrix(l,p)\n",
        "print(conf_matrix)\n",
        "df_cm = pd.DataFrame(conf_matrix, index = [i for i in enumerate(class_name)],\n",
        "                  columns = [i for i in enumerate(class_name)])\n",
        "plt.figure(figsize = (10,7))\n",
        "sn.heatmap(df_cm,annot=True,fmt=\"d\",cmap=\"YlGnBu\",linewidth=0.02,linecolor=\"gray\")\n",
        "plt.xlabel('Predicted Labels')\n",
        "plt.ylabel('True Labels')\n",
        "plt.title('Confusion Matrix')"
      ],
      "execution_count": 102,
      "outputs": [
        {
          "output_type": "stream",
          "text": [
            "[[839   2  22  31   4   1  92   0   9   0]\n",
            " [  1 979   0  13   4   0   1   0   2   0]\n",
            " [ 13   1 871   9  66   0  40   0   0   0]\n",
            " [  7  11   9 916  36   0  17   0   4   0]\n",
            " [  1   1  73  24 866   0  34   0   1   0]\n",
            " [  1   0   0   1   1 925   2  44   4  22]\n",
            " [110   3  85  35  94   0 661   0  12   0]\n",
            " [  0   0   0   0   0   4   0 982   0  14]\n",
            " [  3   0   6   2   3   1   2   4 979   0]\n",
            " [  1   0   0   0   0   2   0  59   2 936]]\n"
          ],
          "name": "stdout"
        },
        {
          "output_type": "execute_result",
          "data": {
            "text/plain": [
              "Text(0.5, 1, 'Confusion Matrix')"
            ]
          },
          "metadata": {
            "tags": []
          },
          "execution_count": 102
        },
        {
          "output_type": "display_data",
          "data": {
            "image/png": "[encoded data removed]",
            "text/plain": [
              "<Figure size 720x504 with 2 Axes>"
            ]
          },
          "metadata": {
            "tags": []
          }
        }
      ]
    },
    {
      "cell_type": "markdown",
      "metadata": {
        "colab_type": "text",
        "id": "BvZUQGw1d2dF"
      },
      "source": [
        "## 3. Deploy in real world. (15 marks)\n",
        "\n",
        "Take 3 photos that belongs to the 10 classes (e.g. clothes, shoes) in your real life. Use either Python or other software (Photoshop, Gimp etc) to convert the photos into grayscale, negate the intensities so that background becomes black or dark, crop the region of interest and reshape into the size of 28x28.\n",
        "\n",
        "### 3.1 Load and visualise your own images (5 marks)"
      ]
    },
    {
      "cell_type": "code",
      "metadata": {
        "colab_type": "code",
        "id": "MxDI-4Kdd2dG",
        "colab": {}
      },
      "source": [
        ""
      ],
      "execution_count": 0,
      "outputs": []
    },
    {
      "cell_type": "markdown",
      "metadata": {
        "colab_type": "text",
        "id": "gxLbb6Kkd2dJ"
      },
      "source": [
        "### 3.2 Test your network on the real images and display the classification results. (5 marks)"
      ]
    },
    {
      "cell_type": "code",
      "metadata": {
        "colab_type": "code",
        "id": "jTeK2Nysd2dJ",
        "colab": {}
      },
      "source": [
        ""
      ],
      "execution_count": 0,
      "outputs": []
    },
    {
      "cell_type": "markdown",
      "metadata": {
        "colab_type": "text",
        "id": "nQwpTkaRd2dL"
      },
      "source": [
        "### 3.3 Discuss the classification results. (5 marks)\n",
        "\n",
        "Does the model work? Is there anyway to improve the real life performance of the model?"
      ]
    },
    {
      "cell_type": "code",
      "metadata": {
        "colab_type": "code",
        "id": "AOZe7dEHd2dM",
        "colab": {}
      },
      "source": [
        ""
      ],
      "execution_count": 0,
      "outputs": []
    }
  ]
}